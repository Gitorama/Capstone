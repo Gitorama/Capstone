{
 "cells": [
  {
   "cell_type": "code",
   "execution_count": 1,
   "metadata": {},
   "outputs": [],
   "source": [
    "import numpy as np\n",
    "import matplotlib.pyplot as plt\n",
    "import pandas as pd\n",
    "import seaborn as sns\n",
    "%matplotlib inline\n",
    "\n",
    "\n",
    "from sklearn.feature_extraction.text import CountVectorizer\n",
    "from sklearn.preprocessing import StandardScaler, LabelEncoder\n",
    "from sklearn.model_selection import train_test_split, cross_val_score\n",
    "from sklearn.linear_model import LogisticRegression\n",
    "from sklearn.utils import resample\n",
    "from sklearn.feature_selection import SelectKBest, RFE, f_classif\n",
    "from sklearn.ensemble import RandomForestClassifier\n",
    "from sklearn.metrics import mean_squared_error\n",
    "from sklearn.multioutput import MultiOutputClassifier\n",
    "# from sklearn import svm\n",
    "# from sklearn.ensemble import GradientBoostingClassifier\n",
    "# from sklearn.neighbors import KNeighborsClassifier"
   ]
  },
  {
   "cell_type": "code",
   "execution_count": 2,
   "metadata": {
    "scrolled": true
   },
   "outputs": [],
   "source": [
    "#opens up dataset\n",
    "food = pd.read_csv('./food_coded.csv')"
   ]
  },
  {
   "cell_type": "code",
   "execution_count": 3,
   "metadata": {},
   "outputs": [
    {
     "data": {
      "text/html": [
       "<div>\n",
       "<style scoped>\n",
       "    .dataframe tbody tr th:only-of-type {\n",
       "        vertical-align: middle;\n",
       "    }\n",
       "\n",
       "    .dataframe tbody tr th {\n",
       "        vertical-align: top;\n",
       "    }\n",
       "\n",
       "    .dataframe thead th {\n",
       "        text-align: right;\n",
       "    }\n",
       "</style>\n",
       "<table border=\"1\" class=\"dataframe\">\n",
       "  <thead>\n",
       "    <tr style=\"text-align: right;\">\n",
       "      <th></th>\n",
       "      <th>GPA</th>\n",
       "      <th>Gender</th>\n",
       "      <th>breakfast</th>\n",
       "      <th>calories_chicken</th>\n",
       "      <th>calories_day</th>\n",
       "      <th>calories_scone</th>\n",
       "      <th>coffee</th>\n",
       "      <th>comfort_food</th>\n",
       "      <th>comfort_food_reasons</th>\n",
       "      <th>comfort_food_reasons_coded</th>\n",
       "      <th>...</th>\n",
       "      <th>soup</th>\n",
       "      <th>sports</th>\n",
       "      <th>thai_food</th>\n",
       "      <th>tortilla_calories</th>\n",
       "      <th>turkey_calories</th>\n",
       "      <th>type_sports</th>\n",
       "      <th>veggies_day</th>\n",
       "      <th>vitamins</th>\n",
       "      <th>waffle_calories</th>\n",
       "      <th>weight</th>\n",
       "    </tr>\n",
       "  </thead>\n",
       "  <tbody>\n",
       "    <tr>\n",
       "      <th>0</th>\n",
       "      <td>2.4</td>\n",
       "      <td>2</td>\n",
       "      <td>1</td>\n",
       "      <td>430</td>\n",
       "      <td>NaN</td>\n",
       "      <td>315.0</td>\n",
       "      <td>1</td>\n",
       "      <td>none</td>\n",
       "      <td>we dont have comfort</td>\n",
       "      <td>9.0</td>\n",
       "      <td>...</td>\n",
       "      <td>1.0</td>\n",
       "      <td>1.0</td>\n",
       "      <td>1</td>\n",
       "      <td>1165.0</td>\n",
       "      <td>345</td>\n",
       "      <td>car racing</td>\n",
       "      <td>5</td>\n",
       "      <td>1</td>\n",
       "      <td>1315</td>\n",
       "      <td>187</td>\n",
       "    </tr>\n",
       "    <tr>\n",
       "      <th>1</th>\n",
       "      <td>3.654</td>\n",
       "      <td>1</td>\n",
       "      <td>1</td>\n",
       "      <td>610</td>\n",
       "      <td>3.0</td>\n",
       "      <td>420.0</td>\n",
       "      <td>2</td>\n",
       "      <td>chocolate, chips, ice cream</td>\n",
       "      <td>Stress, bored, anger</td>\n",
       "      <td>1.0</td>\n",
       "      <td>...</td>\n",
       "      <td>1.0</td>\n",
       "      <td>1.0</td>\n",
       "      <td>2</td>\n",
       "      <td>725.0</td>\n",
       "      <td>690</td>\n",
       "      <td>Basketball</td>\n",
       "      <td>4</td>\n",
       "      <td>2</td>\n",
       "      <td>900</td>\n",
       "      <td>155</td>\n",
       "    </tr>\n",
       "    <tr>\n",
       "      <th>2</th>\n",
       "      <td>3.3</td>\n",
       "      <td>1</td>\n",
       "      <td>1</td>\n",
       "      <td>720</td>\n",
       "      <td>4.0</td>\n",
       "      <td>420.0</td>\n",
       "      <td>2</td>\n",
       "      <td>frozen yogurt, pizza, fast food</td>\n",
       "      <td>stress, sadness</td>\n",
       "      <td>1.0</td>\n",
       "      <td>...</td>\n",
       "      <td>1.0</td>\n",
       "      <td>2.0</td>\n",
       "      <td>5</td>\n",
       "      <td>1165.0</td>\n",
       "      <td>500</td>\n",
       "      <td>none</td>\n",
       "      <td>5</td>\n",
       "      <td>1</td>\n",
       "      <td>900</td>\n",
       "      <td>I'm not answering this.</td>\n",
       "    </tr>\n",
       "    <tr>\n",
       "      <th>3</th>\n",
       "      <td>3.2</td>\n",
       "      <td>1</td>\n",
       "      <td>1</td>\n",
       "      <td>430</td>\n",
       "      <td>3.0</td>\n",
       "      <td>420.0</td>\n",
       "      <td>2</td>\n",
       "      <td>Pizza, Mac and cheese, ice cream</td>\n",
       "      <td>Boredom</td>\n",
       "      <td>2.0</td>\n",
       "      <td>...</td>\n",
       "      <td>1.0</td>\n",
       "      <td>2.0</td>\n",
       "      <td>5</td>\n",
       "      <td>725.0</td>\n",
       "      <td>690</td>\n",
       "      <td>NaN</td>\n",
       "      <td>3</td>\n",
       "      <td>1</td>\n",
       "      <td>1315</td>\n",
       "      <td>Not sure, 240</td>\n",
       "    </tr>\n",
       "    <tr>\n",
       "      <th>4</th>\n",
       "      <td>3.5</td>\n",
       "      <td>1</td>\n",
       "      <td>1</td>\n",
       "      <td>720</td>\n",
       "      <td>2.0</td>\n",
       "      <td>420.0</td>\n",
       "      <td>2</td>\n",
       "      <td>Ice cream, chocolate, chips</td>\n",
       "      <td>Stress, boredom, cravings</td>\n",
       "      <td>1.0</td>\n",
       "      <td>...</td>\n",
       "      <td>1.0</td>\n",
       "      <td>1.0</td>\n",
       "      <td>4</td>\n",
       "      <td>940.0</td>\n",
       "      <td>500</td>\n",
       "      <td>Softball</td>\n",
       "      <td>4</td>\n",
       "      <td>2</td>\n",
       "      <td>760</td>\n",
       "      <td>190</td>\n",
       "    </tr>\n",
       "  </tbody>\n",
       "</table>\n",
       "<p>5 rows × 61 columns</p>\n",
       "</div>"
      ],
      "text/plain": [
       "     GPA  Gender  breakfast  calories_chicken  calories_day  calories_scone  \\\n",
       "0    2.4       2          1               430           NaN           315.0   \n",
       "1  3.654       1          1               610           3.0           420.0   \n",
       "2    3.3       1          1               720           4.0           420.0   \n",
       "3    3.2       1          1               430           3.0           420.0   \n",
       "4    3.5       1          1               720           2.0           420.0   \n",
       "\n",
       "   coffee                      comfort_food        comfort_food_reasons  \\\n",
       "0       1                              none       we dont have comfort    \n",
       "1       2       chocolate, chips, ice cream        Stress, bored, anger   \n",
       "2       2   frozen yogurt, pizza, fast food             stress, sadness   \n",
       "3       2  Pizza, Mac and cheese, ice cream                     Boredom   \n",
       "4       2      Ice cream, chocolate, chips   Stress, boredom, cravings    \n",
       "\n",
       "   comfort_food_reasons_coded            ...             soup  sports  \\\n",
       "0                         9.0            ...              1.0     1.0   \n",
       "1                         1.0            ...              1.0     1.0   \n",
       "2                         1.0            ...              1.0     2.0   \n",
       "3                         2.0            ...              1.0     2.0   \n",
       "4                         1.0            ...              1.0     1.0   \n",
       "\n",
       "   thai_food tortilla_calories  turkey_calories  type_sports veggies_day  \\\n",
       "0          1            1165.0              345   car racing           5   \n",
       "1          2             725.0              690  Basketball            4   \n",
       "2          5            1165.0              500         none           5   \n",
       "3          5             725.0              690          NaN           3   \n",
       "4          4             940.0              500     Softball           4   \n",
       "\n",
       "   vitamins  waffle_calories                    weight  \n",
       "0         1             1315                       187  \n",
       "1         2              900                       155  \n",
       "2         1              900  I'm not answering this.   \n",
       "3         1             1315             Not sure, 240  \n",
       "4         2              760                       190  \n",
       "\n",
       "[5 rows x 61 columns]"
      ]
     },
     "execution_count": 3,
     "metadata": {},
     "output_type": "execute_result"
    }
   ],
   "source": [
    "#shows contents of Dataframe\n",
    "food.head()"
   ]
  },
  {
   "cell_type": "code",
   "execution_count": 4,
   "metadata": {},
   "outputs": [
    {
     "data": {
      "text/plain": [
       "(125, 61)"
      ]
     },
     "execution_count": 4,
     "metadata": {},
     "output_type": "execute_result"
    }
   ],
   "source": [
    "food.shape"
   ]
  },
  {
   "cell_type": "code",
   "execution_count": 5,
   "metadata": {},
   "outputs": [],
   "source": [
    "#Drops soup column\n",
    "food.drop('soup', axis=1, inplace=True)"
   ]
  },
  {
   "cell_type": "code",
   "execution_count": 6,
   "metadata": {
    "scrolled": false
   },
   "outputs": [
    {
     "data": {
      "text/plain": [
       "array([1, 4, 5, 2, 3], dtype=int64)"
      ]
     },
     "execution_count": 6,
     "metadata": {},
     "output_type": "execute_result"
    }
   ],
   "source": [
    "food['ethnic_food'].unique()"
   ]
  },
  {
   "cell_type": "code",
   "execution_count": 7,
   "metadata": {
    "scrolled": false
   },
   "outputs": [
    {
     "data": {
      "text/plain": [
       "(array([  5.,  17.,  25.,  36.,  42.]),\n",
       " array([ 1. ,  1.8,  2.6,  3.4,  4.2,  5. ]),\n",
       " <a list of 5 Patch objects>)"
      ]
     },
     "execution_count": 7,
     "metadata": {},
     "output_type": "execute_result"
    },
    {
     "data": {
      "image/png": "[encoded data removed]",
      "text/plain": [
       "<matplotlib.figure.Figure at 0x1ac3707b978>"
      ]
     },
     "metadata": {},
     "output_type": "display_data"
    }
   ],
   "source": [
    "plt.hist(food['ethnic_food'], bins=5)"
   ]
  },
  {
   "cell_type": "code",
   "execution_count": 8,
   "metadata": {},
   "outputs": [
    {
     "data": {
      "text/plain": [
       "(52, 60)"
      ]
     },
     "execution_count": 8,
     "metadata": {},
     "output_type": "execute_result"
    }
   ],
   "source": [
    "#Getting shape of subset of dataframe that only includes women and how likely they are to eat ethnic food\n",
    "food.loc[(food['Gender'] == 1) & ((food['ethnic_food'] == 4) | (food['ethnic_food'] == 5))].shape\n"
   ]
  },
  {
   "cell_type": "code",
   "execution_count": 9,
   "metadata": {},
   "outputs": [
    {
     "data": {
      "text/plain": [
       "(26, 60)"
      ]
     },
     "execution_count": 9,
     "metadata": {},
     "output_type": "execute_result"
    }
   ],
   "source": [
    "#Getting shape of subset of dataframe that only includes men and how likely they are to eat ethnic food\n",
    "food.loc[(food['Gender'] == 2) & ((food['ethnic_food'] == 4) | (food['ethnic_food'] == 5))].shape"
   ]
  },
  {
   "cell_type": "markdown",
   "metadata": {},
   "source": [
    "###Women are twice as likely to eat or cook ethnic food than men"
   ]
  },
  {
   "cell_type": "markdown",
   "metadata": {},
   "source": [
    "# Getting the Histogram of various columns in dataframe"
   ]
  },
  {
   "cell_type": "code",
   "execution_count": 10,
   "metadata": {},
   "outputs": [
    {
     "data": {
      "text/plain": [
       "array([3, 1, 6, 4, 5, 7, 2, 8, 0], dtype=int64)"
      ]
     },
     "execution_count": 10,
     "metadata": {},
     "output_type": "execute_result"
    }
   ],
   "source": [
    "food['fav_cuisine_coded'].unique()"
   ]
  },
  {
   "cell_type": "code",
   "execution_count": 11,
   "metadata": {},
   "outputs": [
    {
     "data": {
      "text/plain": [
       "(array([  6.,  59.,  15.,   2.,  22.,  15.,   1.,   1.,   4.]),\n",
       " array([ 0.        ,  0.88888889,  1.77777778,  2.66666667,  3.55555556,\n",
       "         4.44444444,  5.33333333,  6.22222222,  7.11111111,  8.        ]),\n",
       " <a list of 9 Patch objects>)"
      ]
     },
     "execution_count": 11,
     "metadata": {},
     "output_type": "execute_result"
    },
    {
     "data": {
      "image/png": "[encoded data removed]",
      "text/plain": [
       "<matplotlib.figure.Figure at 0x1ac3345bf28>"
      ]
     },
     "metadata": {},
     "output_type": "display_data"
    }
   ],
   "source": [
    "plt.hist(food['fav_cuisine_coded'], bins=9)\n",
    "#Italian/French/Greek is the most favorite food of many college students followed by Asian cuisine"
   ]
  },
  {
   "cell_type": "code",
   "execution_count": 12,
   "metadata": {},
   "outputs": [
    {
     "data": {
      "text/plain": [
       "array([1, 2, 5, 4, 3], dtype=int64)"
      ]
     },
     "execution_count": 12,
     "metadata": {},
     "output_type": "execute_result"
    }
   ],
   "source": [
    "food['thai_food'].unique()"
   ]
  },
  {
   "cell_type": "code",
   "execution_count": 13,
   "metadata": {},
   "outputs": [
    {
     "data": {
      "text/plain": [
       "(array([ 20.,  17.,  26.,  25.,  37.]),\n",
       " array([ 1. ,  1.8,  2.6,  3.4,  4.2,  5. ]),\n",
       " <a list of 5 Patch objects>)"
      ]
     },
     "execution_count": 13,
     "metadata": {},
     "output_type": "execute_result"
    },
    {
     "data": {
      "image/png": "[encoded data removed]",
      "text/plain": [
       "<matplotlib.figure.Figure at 0x1ac373bef98>"
      ]
     },
     "metadata": {},
     "output_type": "display_data"
    }
   ],
   "source": [
    "plt.hist(food['thai_food'], bins=5)"
   ]
  },
  {
   "cell_type": "code",
   "execution_count": 14,
   "metadata": {},
   "outputs": [
    {
     "data": {
      "text/plain": [
       "(array([ 25.,  18.,  31.,  15.,  36.]),\n",
       " array([ 1. ,  1.8,  2.6,  3.4,  4.2,  5. ]),\n",
       " <a list of 5 Patch objects>)"
      ]
     },
     "execution_count": 14,
     "metadata": {},
     "output_type": "execute_result"
    },
    {
     "data": {
      "image/png": "[encoded data removed]",
      "text/plain": [
       "<matplotlib.figure.Figure at 0x1ac37466860>"
      ]
     },
     "metadata": {},
     "output_type": "display_data"
    }
   ],
   "source": [
    "plt.hist(food['indian_food'], bins=5)"
   ]
  },
  {
   "cell_type": "code",
   "execution_count": 15,
   "metadata": {},
   "outputs": [
    {
     "data": {
      "text/plain": [
       "(array([   9.,    0.,   16.,    0.,  100.]),\n",
       " array([ 3. ,  3.4,  3.8,  4.2,  4.6,  5. ]),\n",
       " <a list of 5 Patch objects>)"
      ]
     },
     "execution_count": 15,
     "metadata": {},
     "output_type": "execute_result"
    },
    {
     "data": {
      "image/png": "[encoded data removed]",
      "text/plain": [
       "<matplotlib.figure.Figure at 0x1ac3770cb00>"
      ]
     },
     "metadata": {},
     "output_type": "display_data"
    }
   ],
   "source": [
    "plt.hist(food['italian_food'], bins=5)"
   ]
  },
  {
   "cell_type": "code",
   "execution_count": 16,
   "metadata": {},
   "outputs": [
    {
     "data": {
      "text/plain": [
       "(array([ 15.,  14.,  32.,  23.,  41.]),\n",
       " array([ 1. ,  1.8,  2.6,  3.4,  4.2,  5. ]),\n",
       " <a list of 5 Patch objects>)"
      ]
     },
     "execution_count": 16,
     "metadata": {},
     "output_type": "execute_result"
    },
    {
     "data": {
      "image/png": "[encoded data removed]",
      "text/plain": [
       "<matplotlib.figure.Figure at 0x1ac37780d30>"
      ]
     },
     "metadata": {},
     "output_type": "display_data"
    }
   ],
   "source": [
    "plt.hist(food['greek_food'], bins=5)"
   ]
  },
  {
   "cell_type": "code",
   "execution_count": 17,
   "metadata": {},
   "outputs": [
    {
     "data": {
      "text/plain": [
       "GPA                              object\n",
       "Gender                            int64\n",
       "breakfast                         int64\n",
       "calories_chicken                  int64\n",
       "calories_day                    float64\n",
       "calories_scone                  float64\n",
       "coffee                            int64\n",
       "comfort_food                     object\n",
       "comfort_food_reasons             object\n",
       "comfort_food_reasons_coded      float64\n",
       "cook                            float64\n",
       "comfort_food_reasons_coded.1      int64\n",
       "cuisine                         float64\n",
       "diet_current                     object\n",
       "diet_current_coded                int64\n",
       "drink                           float64\n",
       "eating_changes                   object\n",
       "eating_changes_coded              int64\n",
       "eating_changes_coded1             int64\n",
       "eating_out                        int64\n",
       "employment                      float64\n",
       "ethnic_food                       int64\n",
       "exercise                        float64\n",
       "father_education                float64\n",
       "father_profession                object\n",
       "fav_cuisine                      object\n",
       "fav_cuisine_coded                 int64\n",
       "fav_food                        float64\n",
       "food_childhood                   object\n",
       "fries                             int64\n",
       "fruit_day                         int64\n",
       "grade_level                       int64\n",
       "greek_food                        int64\n",
       "healthy_feeling                   int64\n",
       "healthy_meal                     object\n",
       "ideal_diet                       object\n",
       "ideal_diet_coded                  int64\n",
       "income                          float64\n",
       "indian_food                       int64\n",
       "italian_food                      int64\n",
       "life_rewarding                  float64\n",
       "marital_status                  float64\n",
       "meals_dinner_friend              object\n",
       "mother_education                float64\n",
       "mother_profession                object\n",
       "nutritional_check                 int64\n",
       "on_off_campus                   float64\n",
       "parents_cook                      int64\n",
       "pay_meal_out                      int64\n",
       "persian_food                    float64\n",
       "self_perception_weight          float64\n",
       "sports                          float64\n",
       "thai_food                         int64\n",
       "tortilla_calories               float64\n",
       "turkey_calories                   int64\n",
       "type_sports                      object\n",
       "veggies_day                       int64\n",
       "vitamins                          int64\n",
       "waffle_calories                   int64\n",
       "weight                           object\n",
       "dtype: object"
      ]
     },
     "execution_count": 17,
     "metadata": {},
     "output_type": "execute_result"
    }
   ],
   "source": [
    "food.dtypes"
   ]
  },
  {
   "cell_type": "code",
   "execution_count": 18,
   "metadata": {
    "scrolled": true
   },
   "outputs": [
    {
     "data": {
      "text/plain": [
       "0          2.4\n",
       "1        3.654\n",
       "2          3.3\n",
       "3          3.2\n",
       "4          3.5\n",
       "5         2.25\n",
       "6          3.8\n",
       "7          3.3\n",
       "8          3.3\n",
       "9          3.3\n",
       "10         3.5\n",
       "11       3.904\n",
       "12         3.4\n",
       "13         3.6\n",
       "14         3.1\n",
       "15         NaN\n",
       "16           4\n",
       "17         3.6\n",
       "18         3.4\n",
       "19         2.2\n",
       "20         3.3\n",
       "21        3.87\n",
       "22         3.7\n",
       "23         3.7\n",
       "24         3.9\n",
       "25         2.8\n",
       "26         3.7\n",
       "27           3\n",
       "28         3.2\n",
       "29         3.5\n",
       "        ...   \n",
       "95         3.5\n",
       "96        3.92\n",
       "97         3.9\n",
       "98         3.9\n",
       "99         3.2\n",
       "100        3.5\n",
       "101        3.4\n",
       "102        NaN\n",
       "103        3.7\n",
       "104    Unknown\n",
       "105          3\n",
       "106          3\n",
       "107        3.8\n",
       "108        3.8\n",
       "109        3.4\n",
       "110        3.7\n",
       "111        2.9\n",
       "112        3.9\n",
       "113        3.6\n",
       "114        2.8\n",
       "115        3.3\n",
       "116        3.4\n",
       "117       3.77\n",
       "118       3.63\n",
       "119        3.2\n",
       "120        3.5\n",
       "121          3\n",
       "122      3.882\n",
       "123          3\n",
       "124        3.9\n",
       "Name: GPA, Length: 125, dtype: object"
      ]
     },
     "execution_count": 18,
     "metadata": {},
     "output_type": "execute_result"
    }
   ],
   "source": [
    "#replaces string in GPA column with 0\n",
    "food['GPA'].replace('Personal ', 0)"
   ]
  },
  {
   "cell_type": "code",
   "execution_count": 19,
   "metadata": {},
   "outputs": [],
   "source": [
    "#Fills null values in GPA column with 0 \n",
    "food['GPA'].fillna(0, inplace=True)"
   ]
  },
  {
   "cell_type": "code",
   "execution_count": 20,
   "metadata": {},
   "outputs": [
    {
     "data": {
      "text/plain": [
       "array(['2.4', '3.654', '3.3', '3.2', '3.5', '2.25', '3.8', '3.3', '3.3',\n",
       "       '3.3', '3.5', '3.904', '3.4', '3.6', '3.1', 0, '4', '3.6', '3.4',\n",
       "       '2.2', '3.3', '3.87', '3.7', '3.7', '3.9', '2.8', '3.7', '3', '3.2',\n",
       "       '3.5', '4', '4', '3.4', '2.8', '3.65', '3', '3.7', '3.4', '3.89',\n",
       "       '3', '3.4', '2.9', '3.6', '3.5', '3.2', '3.605', '3.8', '2.8',\n",
       "       '3.5', '3.83', '3.6', '3.3', '3.3', '3.292', '3.5', '3.35', '3.8',\n",
       "       '2.8', '3.5', '3.7', '3.6', 'Personal ', '3.9', '2.6', '3.5', '3.2',\n",
       "       '3', '3.6', '3.2', '3.67', '3.73', '4', '3.1', '3.79 bitch', '2.71',\n",
       "       '3', '3.7', '3.1', '3', '3.9', '3.4', '3.5', '3.7', '3.7', '3.83',\n",
       "       '2.6', '3', '3.2', '3.5', '3.2', '3.68', '3.8', '3.3', '3.2',\n",
       "       '3.75', '3.5', '3.92', '3.9', '3.9', '3.2', '3.5', '3.4', 0, '3.7',\n",
       "       'Unknown', '3', '3', '3.8', '3.8', '3.4', '3.7', '2.9', '3.9',\n",
       "       '3.6', '2.8', '3.3', '3.4', '3.77', '3.63', '3.2', '3.5', '3',\n",
       "       '3.882', '3', '3.9'], dtype=object)"
      ]
     },
     "execution_count": 20,
     "metadata": {},
     "output_type": "execute_result"
    }
   ],
   "source": [
    "food['GPA'].values"
   ]
  },
  {
   "cell_type": "code",
   "execution_count": 21,
   "metadata": {},
   "outputs": [],
   "source": [
    "food['GPA'].replace('Personal ', '0', inplace=True)"
   ]
  },
  {
   "cell_type": "code",
   "execution_count": 22,
   "metadata": {},
   "outputs": [],
   "source": [
    "food['GPA'].replace('Unknown', '0', inplace=True)"
   ]
  },
  {
   "cell_type": "code",
   "execution_count": 23,
   "metadata": {},
   "outputs": [
    {
     "data": {
      "text/plain": [
       "array(['2.4', '3.654', '3.3', '3.2', '3.5', '2.25', '3.8', '3.3', '3.3',\n",
       "       '3.3', '3.5', '3.904', '3.4', '3.6', '3.1', 0, '4', '3.6', '3.4',\n",
       "       '2.2', '3.3', '3.87', '3.7', '3.7', '3.9', '2.8', '3.7', '3', '3.2',\n",
       "       '3.5', '4', '4', '3.4', '2.8', '3.65', '3', '3.7', '3.4', '3.89',\n",
       "       '3', '3.4', '2.9', '3.6', '3.5', '3.2', '3.605', '3.8', '2.8',\n",
       "       '3.5', '3.83', '3.6', '3.3', '3.3', '3.292', '3.5', '3.35', '3.8',\n",
       "       '2.8', '3.5', '3.7', '3.6', '0', '3.9', '2.6', '3.5', '3.2', '3',\n",
       "       '3.6', '3.2', '3.67', '3.73', '4', '3.1', '3.79 bitch', '2.71', '3',\n",
       "       '3.7', '3.1', '3', '3.9', '3.4', '3.5', '3.7', '3.7', '3.83', '2.6',\n",
       "       '3', '3.2', '3.5', '3.2', '3.68', '3.8', '3.3', '3.2', '3.75',\n",
       "       '3.5', '3.92', '3.9', '3.9', '3.2', '3.5', '3.4', 0, '3.7', '0',\n",
       "       '3', '3', '3.8', '3.8', '3.4', '3.7', '2.9', '3.9', '3.6', '2.8',\n",
       "       '3.3', '3.4', '3.77', '3.63', '3.2', '3.5', '3', '3.882', '3', '3.9'], dtype=object)"
      ]
     },
     "execution_count": 23,
     "metadata": {},
     "output_type": "execute_result"
    }
   ],
   "source": [
    "food['GPA'].values"
   ]
  },
  {
   "cell_type": "code",
   "execution_count": 24,
   "metadata": {},
   "outputs": [
    {
     "data": {
      "text/plain": [
       "pandas.core.series.Series"
      ]
     },
     "execution_count": 24,
     "metadata": {},
     "output_type": "execute_result"
    }
   ],
   "source": [
    "type(food['GPA'])"
   ]
  },
  {
   "cell_type": "code",
   "execution_count": 25,
   "metadata": {},
   "outputs": [],
   "source": [
    "food['GPA'].replace('3.79 bitch', '3.79', inplace=True) #how to erase unwanted text from a specific cell(s)\n",
    "\n",
    "\n",
    "\n"
   ]
  },
  {
   "cell_type": "code",
   "execution_count": 26,
   "metadata": {},
   "outputs": [
    {
     "data": {
      "text/plain": [
       "array(['2.4', '3.654', '3.3', '3.2', '3.5', '2.25', '3.8', '3.3', '3.3',\n",
       "       '3.3', '3.5', '3.904', '3.4', '3.6', '3.1', 0, '4', '3.6', '3.4',\n",
       "       '2.2', '3.3', '3.87', '3.7', '3.7', '3.9', '2.8', '3.7', '3', '3.2',\n",
       "       '3.5', '4', '4', '3.4', '2.8', '3.65', '3', '3.7', '3.4', '3.89',\n",
       "       '3', '3.4', '2.9', '3.6', '3.5', '3.2', '3.605', '3.8', '2.8',\n",
       "       '3.5', '3.83', '3.6', '3.3', '3.3', '3.292', '3.5', '3.35', '3.8',\n",
       "       '2.8', '3.5', '3.7', '3.6', '0', '3.9', '2.6', '3.5', '3.2', '3',\n",
       "       '3.6', '3.2', '3.67', '3.73', '4', '3.1', '3.79', '2.71', '3',\n",
       "       '3.7', '3.1', '3', '3.9', '3.4', '3.5', '3.7', '3.7', '3.83', '2.6',\n",
       "       '3', '3.2', '3.5', '3.2', '3.68', '3.8', '3.3', '3.2', '3.75',\n",
       "       '3.5', '3.92', '3.9', '3.9', '3.2', '3.5', '3.4', 0, '3.7', '0',\n",
       "       '3', '3', '3.8', '3.8', '3.4', '3.7', '2.9', '3.9', '3.6', '2.8',\n",
       "       '3.3', '3.4', '3.77', '3.63', '3.2', '3.5', '3', '3.882', '3', '3.9'], dtype=object)"
      ]
     },
     "execution_count": 26,
     "metadata": {},
     "output_type": "execute_result"
    }
   ],
   "source": [
    "food['GPA'].values"
   ]
  },
  {
   "cell_type": "code",
   "execution_count": 27,
   "metadata": {},
   "outputs": [],
   "source": [
    "food['GPA'] = food['GPA'].astype(str).astype(float)"
   ]
  },
  {
   "cell_type": "code",
   "execution_count": 28,
   "metadata": {
    "scrolled": false
   },
   "outputs": [
    {
     "data": {
      "text/plain": [
       "array([ 2.4  ,  3.654,  3.3  ,  3.2  ,  3.5  ,  2.25 ,  3.8  ,  3.3  ,\n",
       "        3.3  ,  3.3  ,  3.5  ,  3.904,  3.4  ,  3.6  ,  3.1  ,  0.   ,\n",
       "        4.   ,  3.6  ,  3.4  ,  2.2  ,  3.3  ,  3.87 ,  3.7  ,  3.7  ,\n",
       "        3.9  ,  2.8  ,  3.7  ,  3.   ,  3.2  ,  3.5  ,  4.   ,  4.   ,\n",
       "        3.4  ,  2.8  ,  3.65 ,  3.   ,  3.7  ,  3.4  ,  3.89 ,  3.   ,\n",
       "        3.4  ,  2.9  ,  3.6  ,  3.5  ,  3.2  ,  3.605,  3.8  ,  2.8  ,\n",
       "        3.5  ,  3.83 ,  3.6  ,  3.3  ,  3.3  ,  3.292,  3.5  ,  3.35 ,\n",
       "        3.8  ,  2.8  ,  3.5  ,  3.7  ,  3.6  ,  0.   ,  3.9  ,  2.6  ,\n",
       "        3.5  ,  3.2  ,  3.   ,  3.6  ,  3.2  ,  3.67 ,  3.73 ,  4.   ,\n",
       "        3.1  ,  3.79 ,  2.71 ,  3.   ,  3.7  ,  3.1  ,  3.   ,  3.9  ,\n",
       "        3.4  ,  3.5  ,  3.7  ,  3.7  ,  3.83 ,  2.6  ,  3.   ,  3.2  ,\n",
       "        3.5  ,  3.2  ,  3.68 ,  3.8  ,  3.3  ,  3.2  ,  3.75 ,  3.5  ,\n",
       "        3.92 ,  3.9  ,  3.9  ,  3.2  ,  3.5  ,  3.4  ,  0.   ,  3.7  ,\n",
       "        0.   ,  3.   ,  3.   ,  3.8  ,  3.8  ,  3.4  ,  3.7  ,  2.9  ,\n",
       "        3.9  ,  3.6  ,  2.8  ,  3.3  ,  3.4  ,  3.77 ,  3.63 ,  3.2  ,\n",
       "        3.5  ,  3.   ,  3.882,  3.   ,  3.9  ])"
      ]
     },
     "execution_count": 28,
     "metadata": {},
     "output_type": "execute_result"
    }
   ],
   "source": [
    "food['GPA'].values\n"
   ]
  },
  {
   "cell_type": "code",
   "execution_count": 29,
   "metadata": {},
   "outputs": [
    {
     "data": {
      "text/plain": [
       "3.3092559999999986"
      ]
     },
     "execution_count": 29,
     "metadata": {},
     "output_type": "execute_result"
    }
   ],
   "source": [
    "food['GPA'].mean()"
   ]
  },
  {
   "cell_type": "code",
   "execution_count": 30,
   "metadata": {},
   "outputs": [
    {
     "data": {
      "text/html": [
       "<div>\n",
       "<style scoped>\n",
       "    .dataframe tbody tr th:only-of-type {\n",
       "        vertical-align: middle;\n",
       "    }\n",
       "\n",
       "    .dataframe tbody tr th {\n",
       "        vertical-align: top;\n",
       "    }\n",
       "\n",
       "    .dataframe thead th {\n",
       "        text-align: right;\n",
       "    }\n",
       "</style>\n",
       "<table border=\"1\" class=\"dataframe\">\n",
       "  <thead>\n",
       "    <tr style=\"text-align: right;\">\n",
       "      <th></th>\n",
       "      <th>GPA</th>\n",
       "      <th>Gender</th>\n",
       "      <th>breakfast</th>\n",
       "      <th>calories_chicken</th>\n",
       "      <th>calories_day</th>\n",
       "      <th>calories_scone</th>\n",
       "      <th>coffee</th>\n",
       "      <th>comfort_food</th>\n",
       "      <th>comfort_food_reasons</th>\n",
       "      <th>comfort_food_reasons_coded</th>\n",
       "      <th>...</th>\n",
       "      <th>self_perception_weight</th>\n",
       "      <th>sports</th>\n",
       "      <th>thai_food</th>\n",
       "      <th>tortilla_calories</th>\n",
       "      <th>turkey_calories</th>\n",
       "      <th>type_sports</th>\n",
       "      <th>veggies_day</th>\n",
       "      <th>vitamins</th>\n",
       "      <th>waffle_calories</th>\n",
       "      <th>weight</th>\n",
       "    </tr>\n",
       "  </thead>\n",
       "  <tbody>\n",
       "    <tr>\n",
       "      <th>0</th>\n",
       "      <td>2.400</td>\n",
       "      <td>2</td>\n",
       "      <td>1</td>\n",
       "      <td>430</td>\n",
       "      <td>NaN</td>\n",
       "      <td>315.0</td>\n",
       "      <td>1</td>\n",
       "      <td>none</td>\n",
       "      <td>we dont have comfort</td>\n",
       "      <td>9.0</td>\n",
       "      <td>...</td>\n",
       "      <td>3.0</td>\n",
       "      <td>1.0</td>\n",
       "      <td>1</td>\n",
       "      <td>1165.0</td>\n",
       "      <td>345</td>\n",
       "      <td>car racing</td>\n",
       "      <td>5</td>\n",
       "      <td>1</td>\n",
       "      <td>1315</td>\n",
       "      <td>187</td>\n",
       "    </tr>\n",
       "    <tr>\n",
       "      <th>1</th>\n",
       "      <td>3.654</td>\n",
       "      <td>1</td>\n",
       "      <td>1</td>\n",
       "      <td>610</td>\n",
       "      <td>3.0</td>\n",
       "      <td>420.0</td>\n",
       "      <td>2</td>\n",
       "      <td>chocolate, chips, ice cream</td>\n",
       "      <td>Stress, bored, anger</td>\n",
       "      <td>1.0</td>\n",
       "      <td>...</td>\n",
       "      <td>3.0</td>\n",
       "      <td>1.0</td>\n",
       "      <td>2</td>\n",
       "      <td>725.0</td>\n",
       "      <td>690</td>\n",
       "      <td>Basketball</td>\n",
       "      <td>4</td>\n",
       "      <td>2</td>\n",
       "      <td>900</td>\n",
       "      <td>155</td>\n",
       "    </tr>\n",
       "    <tr>\n",
       "      <th>2</th>\n",
       "      <td>3.300</td>\n",
       "      <td>1</td>\n",
       "      <td>1</td>\n",
       "      <td>720</td>\n",
       "      <td>4.0</td>\n",
       "      <td>420.0</td>\n",
       "      <td>2</td>\n",
       "      <td>frozen yogurt, pizza, fast food</td>\n",
       "      <td>stress, sadness</td>\n",
       "      <td>1.0</td>\n",
       "      <td>...</td>\n",
       "      <td>6.0</td>\n",
       "      <td>2.0</td>\n",
       "      <td>5</td>\n",
       "      <td>1165.0</td>\n",
       "      <td>500</td>\n",
       "      <td>none</td>\n",
       "      <td>5</td>\n",
       "      <td>1</td>\n",
       "      <td>900</td>\n",
       "      <td>I'm not answering this.</td>\n",
       "    </tr>\n",
       "    <tr>\n",
       "      <th>3</th>\n",
       "      <td>3.200</td>\n",
       "      <td>1</td>\n",
       "      <td>1</td>\n",
       "      <td>430</td>\n",
       "      <td>3.0</td>\n",
       "      <td>420.0</td>\n",
       "      <td>2</td>\n",
       "      <td>Pizza, Mac and cheese, ice cream</td>\n",
       "      <td>Boredom</td>\n",
       "      <td>2.0</td>\n",
       "      <td>...</td>\n",
       "      <td>5.0</td>\n",
       "      <td>2.0</td>\n",
       "      <td>5</td>\n",
       "      <td>725.0</td>\n",
       "      <td>690</td>\n",
       "      <td>NaN</td>\n",
       "      <td>3</td>\n",
       "      <td>1</td>\n",
       "      <td>1315</td>\n",
       "      <td>Not sure, 240</td>\n",
       "    </tr>\n",
       "    <tr>\n",
       "      <th>4</th>\n",
       "      <td>3.500</td>\n",
       "      <td>1</td>\n",
       "      <td>1</td>\n",
       "      <td>720</td>\n",
       "      <td>2.0</td>\n",
       "      <td>420.0</td>\n",
       "      <td>2</td>\n",
       "      <td>Ice cream, chocolate, chips</td>\n",
       "      <td>Stress, boredom, cravings</td>\n",
       "      <td>1.0</td>\n",
       "      <td>...</td>\n",
       "      <td>4.0</td>\n",
       "      <td>1.0</td>\n",
       "      <td>4</td>\n",
       "      <td>940.0</td>\n",
       "      <td>500</td>\n",
       "      <td>Softball</td>\n",
       "      <td>4</td>\n",
       "      <td>2</td>\n",
       "      <td>760</td>\n",
       "      <td>190</td>\n",
       "    </tr>\n",
       "  </tbody>\n",
       "</table>\n",
       "<p>5 rows × 60 columns</p>\n",
       "</div>"
      ],
      "text/plain": [
       "     GPA  Gender  breakfast  calories_chicken  calories_day  calories_scone  \\\n",
       "0  2.400       2          1               430           NaN           315.0   \n",
       "1  3.654       1          1               610           3.0           420.0   \n",
       "2  3.300       1          1               720           4.0           420.0   \n",
       "3  3.200       1          1               430           3.0           420.0   \n",
       "4  3.500       1          1               720           2.0           420.0   \n",
       "\n",
       "   coffee                      comfort_food        comfort_food_reasons  \\\n",
       "0       1                              none       we dont have comfort    \n",
       "1       2       chocolate, chips, ice cream        Stress, bored, anger   \n",
       "2       2   frozen yogurt, pizza, fast food             stress, sadness   \n",
       "3       2  Pizza, Mac and cheese, ice cream                     Boredom   \n",
       "4       2      Ice cream, chocolate, chips   Stress, boredom, cravings    \n",
       "\n",
       "   comfort_food_reasons_coded            ...             \\\n",
       "0                         9.0            ...              \n",
       "1                         1.0            ...              \n",
       "2                         1.0            ...              \n",
       "3                         2.0            ...              \n",
       "4                         1.0            ...              \n",
       "\n",
       "   self_perception_weight  sports  thai_food tortilla_calories  \\\n",
       "0                     3.0     1.0          1            1165.0   \n",
       "1                     3.0     1.0          2             725.0   \n",
       "2                     6.0     2.0          5            1165.0   \n",
       "3                     5.0     2.0          5             725.0   \n",
       "4                     4.0     1.0          4             940.0   \n",
       "\n",
       "   turkey_calories  type_sports veggies_day  vitamins  waffle_calories  \\\n",
       "0              345   car racing           5         1             1315   \n",
       "1              690  Basketball            4         2              900   \n",
       "2              500         none           5         1              900   \n",
       "3              690          NaN           3         1             1315   \n",
       "4              500     Softball           4         2              760   \n",
       "\n",
       "                     weight  \n",
       "0                       187  \n",
       "1                       155  \n",
       "2  I'm not answering this.   \n",
       "3             Not sure, 240  \n",
       "4                       190  \n",
       "\n",
       "[5 rows x 60 columns]"
      ]
     },
     "execution_count": 30,
     "metadata": {},
     "output_type": "execute_result"
    }
   ],
   "source": [
    "food.head()"
   ]
  },
  {
   "cell_type": "code",
   "execution_count": 31,
   "metadata": {},
   "outputs": [
    {
     "data": {
      "text/plain": [
       "GPA                             float64\n",
       "Gender                            int64\n",
       "breakfast                         int64\n",
       "calories_chicken                  int64\n",
       "calories_day                    float64\n",
       "calories_scone                  float64\n",
       "coffee                            int64\n",
       "comfort_food                     object\n",
       "comfort_food_reasons             object\n",
       "comfort_food_reasons_coded      float64\n",
       "cook                            float64\n",
       "comfort_food_reasons_coded.1      int64\n",
       "cuisine                         float64\n",
       "diet_current                     object\n",
       "diet_current_coded                int64\n",
       "drink                           float64\n",
       "eating_changes                   object\n",
       "eating_changes_coded              int64\n",
       "eating_changes_coded1             int64\n",
       "eating_out                        int64\n",
       "employment                      float64\n",
       "ethnic_food                       int64\n",
       "exercise                        float64\n",
       "father_education                float64\n",
       "father_profession                object\n",
       "fav_cuisine                      object\n",
       "fav_cuisine_coded                 int64\n",
       "fav_food                        float64\n",
       "food_childhood                   object\n",
       "fries                             int64\n",
       "fruit_day                         int64\n",
       "grade_level                       int64\n",
       "greek_food                        int64\n",
       "healthy_feeling                   int64\n",
       "healthy_meal                     object\n",
       "ideal_diet                       object\n",
       "ideal_diet_coded                  int64\n",
       "income                          float64\n",
       "indian_food                       int64\n",
       "italian_food                      int64\n",
       "life_rewarding                  float64\n",
       "marital_status                  float64\n",
       "meals_dinner_friend              object\n",
       "mother_education                float64\n",
       "mother_profession                object\n",
       "nutritional_check                 int64\n",
       "on_off_campus                   float64\n",
       "parents_cook                      int64\n",
       "pay_meal_out                      int64\n",
       "persian_food                    float64\n",
       "self_perception_weight          float64\n",
       "sports                          float64\n",
       "thai_food                         int64\n",
       "tortilla_calories               float64\n",
       "turkey_calories                   int64\n",
       "type_sports                      object\n",
       "veggies_day                       int64\n",
       "vitamins                          int64\n",
       "waffle_calories                   int64\n",
       "weight                           object\n",
       "dtype: object"
      ]
     },
     "execution_count": 31,
     "metadata": {},
     "output_type": "execute_result"
    }
   ],
   "source": [
    "food.dtypes"
   ]
  },
  {
   "cell_type": "code",
   "execution_count": 32,
   "metadata": {},
   "outputs": [],
   "source": [
    "food['comfort_food_reasons'].fillna('None', inplace=True)\n",
    "# cv = CountVectorizer()\n",
    "# cv.fit(comfort)\n",
    "# cv.transform(comfort)\n"
   ]
  },
  {
   "cell_type": "code",
   "execution_count": 33,
   "metadata": {},
   "outputs": [],
   "source": [
    "food['calories_scone'].fillna(420, inplace=True)\n",
    "    \n",
    "    "
   ]
  },
  {
   "cell_type": "code",
   "execution_count": 34,
   "metadata": {},
   "outputs": [],
   "source": [
    "food['calories_day'].fillna(3.0, inplace=True)"
   ]
  },
  {
   "cell_type": "code",
   "execution_count": 35,
   "metadata": {},
   "outputs": [],
   "source": [
    "food['comfort_food'].fillna('None', inplace=True)\n"
   ]
  },
  {
   "cell_type": "code",
   "execution_count": 36,
   "metadata": {},
   "outputs": [],
   "source": [
    "food['comfort_food_reasons_coded'].fillna(2.0, inplace=True)"
   ]
  },
  {
   "cell_type": "code",
   "execution_count": 37,
   "metadata": {},
   "outputs": [
    {
     "data": {
      "text/plain": [
       "GPA                              0\n",
       "Gender                           0\n",
       "breakfast                        0\n",
       "calories_chicken                 0\n",
       "calories_day                     0\n",
       "calories_scone                   0\n",
       "coffee                           0\n",
       "comfort_food                     0\n",
       "comfort_food_reasons             0\n",
       "comfort_food_reasons_coded       0\n",
       "cook                             3\n",
       "comfort_food_reasons_coded.1     0\n",
       "cuisine                         17\n",
       "diet_current                     1\n",
       "diet_current_coded               0\n",
       "drink                            2\n",
       "eating_changes                   3\n",
       "eating_changes_coded             0\n",
       "eating_changes_coded1            0\n",
       "eating_out                       0\n",
       "employment                       9\n",
       "ethnic_food                      0\n",
       "exercise                        13\n",
       "father_education                 1\n",
       "father_profession                3\n",
       "fav_cuisine                      2\n",
       "fav_cuisine_coded                0\n",
       "fav_food                         2\n",
       "food_childhood                   1\n",
       "fries                            0\n",
       "fruit_day                        0\n",
       "grade_level                      0\n",
       "greek_food                       0\n",
       "healthy_feeling                  0\n",
       "healthy_meal                     1\n",
       "ideal_diet                       1\n",
       "ideal_diet_coded                 0\n",
       "income                           1\n",
       "indian_food                      0\n",
       "italian_food                     0\n",
       "life_rewarding                   1\n",
       "marital_status                   1\n",
       "meals_dinner_friend              3\n",
       "mother_education                 3\n",
       "mother_profession                2\n",
       "nutritional_check                0\n",
       "on_off_campus                    1\n",
       "parents_cook                     0\n",
       "pay_meal_out                     0\n",
       "persian_food                     1\n",
       "self_perception_weight           1\n",
       "sports                           2\n",
       "thai_food                        0\n",
       "tortilla_calories                1\n",
       "turkey_calories                  0\n",
       "type_sports                     21\n",
       "veggies_day                      0\n",
       "vitamins                         0\n",
       "waffle_calories                  0\n",
       "weight                           2\n",
       "dtype: int64"
      ]
     },
     "execution_count": 37,
     "metadata": {},
     "output_type": "execute_result"
    }
   ],
   "source": [
    "food.isnull().sum()"
   ]
  },
  {
   "cell_type": "code",
   "execution_count": 38,
   "metadata": {},
   "outputs": [],
   "source": [
    "food['cook'].fillna(0, inplace=True) #replacing null values in the cook column with 0"
   ]
  },
  {
   "cell_type": "code",
   "execution_count": 39,
   "metadata": {},
   "outputs": [
    {
     "data": {
      "text/plain": [
       "array([ nan,   1.,   3.,   2.,   6.,   4.,   5.])"
      ]
     },
     "execution_count": 39,
     "metadata": {},
     "output_type": "execute_result"
    }
   ],
   "source": [
    "food['cuisine'].unique()"
   ]
  },
  {
   "cell_type": "code",
   "execution_count": 40,
   "metadata": {},
   "outputs": [],
   "source": [
    "food['cuisine'].fillna(0, inplace=True) #replacing null values in the cuisine column with 0"
   ]
  },
  {
   "cell_type": "code",
   "execution_count": 41,
   "metadata": {},
   "outputs": [],
   "source": [
    "food['type_sports'].fillna('None', inplace=True)"
   ]
  },
  {
   "cell_type": "code",
   "execution_count": 42,
   "metadata": {},
   "outputs": [],
   "source": [
    "food['exercise'].fillna(0, inplace=True)"
   ]
  },
  {
   "cell_type": "code",
   "execution_count": 43,
   "metadata": {},
   "outputs": [],
   "source": [
    "food['employment'].fillna(0, inplace=True)"
   ]
  },
  {
   "cell_type": "code",
   "execution_count": 44,
   "metadata": {},
   "outputs": [],
   "source": [
    "food['diet_current'].fillna('None', inplace=True)"
   ]
  },
  {
   "cell_type": "code",
   "execution_count": 45,
   "metadata": {},
   "outputs": [],
   "source": [
    "food['drink'].fillna(0, inplace=True)"
   ]
  },
  {
   "cell_type": "code",
   "execution_count": 46,
   "metadata": {},
   "outputs": [],
   "source": [
    "food['eating_changes'].fillna('None', inplace=True)"
   ]
  },
  {
   "cell_type": "code",
   "execution_count": 47,
   "metadata": {},
   "outputs": [],
   "source": [
    "food['father_education'].fillna(0, inplace=True)\n",
    "food['father_profession'].fillna('None', inplace=True)\n",
    "food['fav_cuisine'].fillna('None', inplace=True)"
   ]
  },
  {
   "cell_type": "code",
   "execution_count": 48,
   "metadata": {},
   "outputs": [],
   "source": [
    "food['fav_food'].fillna(0, inplace=True)\n",
    "food['income'].fillna(0, inplace=True)\n",
    "food['life_rewarding'].fillna(0, inplace=True)\n",
    "food['marital_status'].fillna(0, inplace=True)"
   ]
  },
  {
   "cell_type": "code",
   "execution_count": 49,
   "metadata": {},
   "outputs": [],
   "source": [
    "food['mother_profession'].fillna('None', inplace=True)\n",
    "food['on_off_campus'].fillna(0, inplace=True)\n",
    "food['persian_food'].fillna(0, inplace=True)\n",
    "food['self_perception_weight'].fillna(0, inplace=True)\n",
    "food['sports'].fillna(0, inplace=True)"
   ]
  },
  {
   "cell_type": "code",
   "execution_count": 50,
   "metadata": {},
   "outputs": [],
   "source": [
    "food['meals_dinner_friend'].fillna('None', inplace=True)\n",
    "food['mother_education'].fillna(0, inplace=True)"
   ]
  },
  {
   "cell_type": "code",
   "execution_count": 51,
   "metadata": {},
   "outputs": [],
   "source": [
    "food['tortilla_calories'].fillna(940, inplace=True)"
   ]
  },
  {
   "cell_type": "code",
   "execution_count": 52,
   "metadata": {},
   "outputs": [],
   "source": [
    "food['weight'].replace('Not sure, 240', 240, inplace=True)"
   ]
  },
  {
   "cell_type": "code",
   "execution_count": 53,
   "metadata": {},
   "outputs": [],
   "source": [
    "food['weight'].replace('144 lbs', 144, inplace=True)"
   ]
  },
  {
   "cell_type": "code",
   "execution_count": 54,
   "metadata": {},
   "outputs": [
    {
     "data": {
      "text/html": [
       "<div>\n",
       "<style scoped>\n",
       "    .dataframe tbody tr th:only-of-type {\n",
       "        vertical-align: middle;\n",
       "    }\n",
       "\n",
       "    .dataframe tbody tr th {\n",
       "        vertical-align: top;\n",
       "    }\n",
       "\n",
       "    .dataframe thead th {\n",
       "        text-align: right;\n",
       "    }\n",
       "</style>\n",
       "<table border=\"1\" class=\"dataframe\">\n",
       "  <thead>\n",
       "    <tr style=\"text-align: right;\">\n",
       "      <th></th>\n",
       "      <th>GPA</th>\n",
       "      <th>Gender</th>\n",
       "      <th>breakfast</th>\n",
       "      <th>calories_chicken</th>\n",
       "      <th>calories_day</th>\n",
       "      <th>calories_scone</th>\n",
       "      <th>coffee</th>\n",
       "      <th>comfort_food</th>\n",
       "      <th>comfort_food_reasons</th>\n",
       "      <th>comfort_food_reasons_coded</th>\n",
       "      <th>...</th>\n",
       "      <th>self_perception_weight</th>\n",
       "      <th>sports</th>\n",
       "      <th>thai_food</th>\n",
       "      <th>tortilla_calories</th>\n",
       "      <th>turkey_calories</th>\n",
       "      <th>type_sports</th>\n",
       "      <th>veggies_day</th>\n",
       "      <th>vitamins</th>\n",
       "      <th>waffle_calories</th>\n",
       "      <th>weight</th>\n",
       "    </tr>\n",
       "  </thead>\n",
       "  <tbody>\n",
       "    <tr>\n",
       "      <th>32</th>\n",
       "      <td>3.40</td>\n",
       "      <td>2</td>\n",
       "      <td>1</td>\n",
       "      <td>610</td>\n",
       "      <td>3.0</td>\n",
       "      <td>315.0</td>\n",
       "      <td>2</td>\n",
       "      <td>Grandma's Chinese, Peruvian food from back hom...</td>\n",
       "      <td>Hunger and Boredom</td>\n",
       "      <td>4.0</td>\n",
       "      <td>...</td>\n",
       "      <td>4.0</td>\n",
       "      <td>1.0</td>\n",
       "      <td>5</td>\n",
       "      <td>580.0</td>\n",
       "      <td>345</td>\n",
       "      <td>Soccer</td>\n",
       "      <td>5</td>\n",
       "      <td>1</td>\n",
       "      <td>760</td>\n",
       "      <td>NaN</td>\n",
       "    </tr>\n",
       "    <tr>\n",
       "      <th>74</th>\n",
       "      <td>2.71</td>\n",
       "      <td>2</td>\n",
       "      <td>2</td>\n",
       "      <td>265</td>\n",
       "      <td>2.0</td>\n",
       "      <td>420.0</td>\n",
       "      <td>1</td>\n",
       "      <td>None</td>\n",
       "      <td>None</td>\n",
       "      <td>9.0</td>\n",
       "      <td>...</td>\n",
       "      <td>3.0</td>\n",
       "      <td>2.0</td>\n",
       "      <td>3</td>\n",
       "      <td>580.0</td>\n",
       "      <td>345</td>\n",
       "      <td>None</td>\n",
       "      <td>4</td>\n",
       "      <td>2</td>\n",
       "      <td>760</td>\n",
       "      <td>NaN</td>\n",
       "    </tr>\n",
       "  </tbody>\n",
       "</table>\n",
       "<p>2 rows × 60 columns</p>\n",
       "</div>"
      ],
      "text/plain": [
       "     GPA  Gender  breakfast  calories_chicken  calories_day  calories_scone  \\\n",
       "32  3.40       2          1               610           3.0           315.0   \n",
       "74  2.71       2          2               265           2.0           420.0   \n",
       "\n",
       "    coffee                                       comfort_food  \\\n",
       "32       2  Grandma's Chinese, Peruvian food from back hom...   \n",
       "74       1                                               None   \n",
       "\n",
       "   comfort_food_reasons  comfort_food_reasons_coded   ...    \\\n",
       "32  Hunger and Boredom                          4.0   ...     \n",
       "74                 None                         9.0   ...     \n",
       "\n",
       "    self_perception_weight  sports  thai_food tortilla_calories  \\\n",
       "32                     4.0     1.0          5             580.0   \n",
       "74                     3.0     2.0          3             580.0   \n",
       "\n",
       "    turkey_calories  type_sports veggies_day  vitamins  waffle_calories  \\\n",
       "32              345       Soccer           5         1              760   \n",
       "74              345         None           4         2              760   \n",
       "\n",
       "    weight  \n",
       "32     NaN  \n",
       "74     NaN  \n",
       "\n",
       "[2 rows x 60 columns]"
      ]
     },
     "execution_count": 54,
     "metadata": {},
     "output_type": "execute_result"
    }
   ],
   "source": [
    "food.loc[food['weight'].isnull() == True]"
   ]
  },
  {
   "cell_type": "code",
   "execution_count": 55,
   "metadata": {},
   "outputs": [
    {
     "data": {
      "text/plain": [
       "array(['187', '155', \"I'm not answering this. \", 240, '190', '180', '137',\n",
       "       '125', '116', '110', '264', '123', '185', '145', '170', '135',\n",
       "       '165', '175', '195', '105', '160', '167', '115', '205', nan, '128',\n",
       "       '150', '140', '120', '100', '113', '168', '169', '200', '265',\n",
       "       '192', '118', '210', '112', 144, '130', '127', '129', '260', '184',\n",
       "       '230', '138', '156'], dtype=object)"
      ]
     },
     "execution_count": 55,
     "metadata": {},
     "output_type": "execute_result"
    }
   ],
   "source": [
    "food['weight'].unique()"
   ]
  },
  {
   "cell_type": "code",
   "execution_count": 56,
   "metadata": {},
   "outputs": [],
   "source": [
    "food['weight'].fillna(0, inplace=True)\n",
    "food['weight'].replace(\"I'm not answering this. \", 0, inplace=True)"
   ]
  },
  {
   "cell_type": "code",
   "execution_count": 57,
   "metadata": {},
   "outputs": [],
   "source": [
    "food['weight'] = food['weight'].astype(str).astype(int)"
   ]
  },
  {
   "cell_type": "code",
   "execution_count": 58,
   "metadata": {},
   "outputs": [],
   "source": [
    "# food.loc[(food['weight'] > 0) & (food['weight'] < 300)].shape\n",
    "# food_w = food.loc[(food['weight'] > 100) & (food['weight'] <= 300)]\n",
    "# food_w['weight'].mean()\n",
    "food['weight'].replace(0, 155, inplace=True)"
   ]
  },
  {
   "cell_type": "code",
   "execution_count": 59,
   "metadata": {},
   "outputs": [
    {
     "data": {
      "text/plain": [
       "155.0"
      ]
     },
     "execution_count": 59,
     "metadata": {},
     "output_type": "execute_result"
    }
   ],
   "source": [
    "food['weight'].median()"
   ]
  },
  {
   "cell_type": "code",
   "execution_count": 60,
   "metadata": {},
   "outputs": [
    {
     "data": {
      "text/plain": [
       "array([2, 4, 3, 1], dtype=int64)"
      ]
     },
     "execution_count": 60,
     "metadata": {},
     "output_type": "execute_result"
    }
   ],
   "source": [
    "food['grade_level'].unique()"
   ]
  },
  {
   "cell_type": "code",
   "execution_count": 61,
   "metadata": {
    "scrolled": false
   },
   "outputs": [
    {
     "data": {
      "text/plain": [
       "array(['looks not oily ',\n",
       "       'Grains, Veggies, (more of grains and veggies), small protein and fruit with dairy ',\n",
       "       'usually includes natural ingredients; nonprocessed food',\n",
       "       'Fresh fruits& vegetables, organic meats ',\n",
       "       'A lean protein such as grilled chicken, green vegetables and  brown rice or other whole grain ',\n",
       "       'Requires veggies, fruits and a cooked meal. ',\n",
       "       'Protein, vegetables, fruit, and some carbs',\n",
       "       'A healthy meal has a piece of meat followed by a lot of fruit and veggies',\n",
       "       'Colorful', 'Chicken and rice with a side of veggies. ',\n",
       "       'Chicken, and veggies ',\n",
       "       'lean protein, veggies, fruit, complex carbs',\n",
       "       'A salad with a reasonable amount of dressing and a meat.',\n",
       "       'Lots of vegetabls with some grains like rice. Also has lean meat such as fish or chicken.',\n",
       "       'Green and not greasy', 'chicken, veggies, rice',\n",
       "       'Not too much carbs, a lot of protein, healthy fats and fruits and vegs ',\n",
       "       'for me usually a big piece of chicken or steak with a side of veggies, and i usually have rice with mine as well',\n",
       "       'Everything from food group ',\n",
       "       'lots of fruits and vegitibles, not any fried foods',\n",
       "       'Rice, Meat, vegetable', 'Green and colourful',\n",
       "       'pasta. veg, water ', 'Protein, vegetables, grains ',\n",
       "       'A healthy meal is a lean meat with mostly vegetables and a starch like brown rice or quinoa.',\n",
       "       'good portions, lots of color, targets main food groups',\n",
       "       'A rice, a vegetable, a piece of meat ',\n",
       "       'Salad, vegetable, carb, protein ', 'Protein, vegetable and grains',\n",
       "       'Grilled chicken, mac and cheese, broccoli, apple, milk',\n",
       "       'whole grain carbs, vegetables, a small amount of protein',\n",
       "       '4-6 ounces chicken or fish, side of potatoes, and green beans',\n",
       "       'Plenty of greens and lean proteins',\n",
       "       'A balance of vegetables and cooked lean meat.', 'a lot of greens',\n",
       "       'Some kind of protein, a vegetable, and a grain',\n",
       "       'a meal with a meat, vegetable, grain, and fruit ',\n",
       "       'A protein, starch, veg, and a healthier dessert. ',\n",
       "       'a lean protein plus the addition of 2-3 fruits and vegetables',\n",
       "       'Chicken breast with veggies ',\n",
       "       'A meal with all of the food groups. ',\n",
       "       'a salad with chicken and 2 tablespoons of salad dressing ',\n",
       "       'Grilled chicken, side salad, rice and broccoli and cranberries',\n",
       "       'It is probably more on the green side and there is less fryed or overly seasoned food. There would be more organic foods rather than processed foods. ',\n",
       "       'Mostly green!', 'Colorful ',\n",
       "       'A meal that you have cooked yourself without a lot of grease or fat in it.  ',\n",
       "       'good balance between meats, grains, fruits, vegetables, carbs, and dairy products ',\n",
       "       'one that is well balanced and consists on main food groups',\n",
       "       'lots of green and color.',\n",
       "       'Balance of veggies, white meat, fruits, and grains.', 'Chicken ',\n",
       "       'Low carbs and high protein ',\n",
       "       'Grilled, natural ingredients, and no carbonated beverages',\n",
       "       'High protein and vegetables',\n",
       "       'the different colors of the rain bow. protein, fruit, veggies',\n",
       "       'Low protein and carbs and high in vegetables and fruits.',\n",
       "       'Chicken and broccoli ', 'Fruit, vegetables, and protien',\n",
       "       'Proper serving sizes of almost anything ',\n",
       "       'Half the plate fruit and vegetables. Other half grains and protein. Then a little dairy. ',\n",
       "       'chicken, veggies, fruit, water ',\n",
       "       'high protein, low fat, low carbs and sugar',\n",
       "       'high protein, fruit, veggies, low carbs and fat',\n",
       "       \"Meal prep'd foods with food from each section on the food pyramid. \",\n",
       "       'vegtables',\n",
       "       'Milk for a drink, meat, a grain, vegetable, fruit for dinner',\n",
       "       'It has protein, vegetables and some carbs ',\n",
       "       'Balanced between protein, veggies, and carbs',\n",
       "       'Well portioned meat, veggies, and fruits. Water instead of a sugary drink like pop. ',\n",
       "       'A vegetable, a protein, and a fruit',\n",
       "       'A balanced meal with a protein, carbohydrate and a vegetable.',\n",
       "       'salad', 'Protein source, vegetables, fruits, whole grains', nan,\n",
       "       'grilled meat, fruit, vegetable, and some grains',\n",
       "       'a plate that has a variety of colors not just one color',\n",
       "       'Meat and potatoes ',\n",
       "       'good portions of fruit, protein, veggies and carbs',\n",
       "       'All food groups',\n",
       "       'All of the food groups(carbs, veggies, fruits,etc)',\n",
       "       'all elements of food pyramid', 'lots of colors',\n",
       "       'Has fruits vegetables and or some type of meat ',\n",
       "       'Mostly vegetables and plenty of lean protein and healthy fats to keep you full',\n",
       "       'Lots of Greens, meat and water',\n",
       "       'Small portion of meat with majority fruits or vegetables ',\n",
       "       'lots of variety and veggies',\n",
       "       'High protein, high carbs , vegetables ',\n",
       "       'Healthy meal for me is a food rich in protein, fiber, some sort of carbohydrates',\n",
       "       'half a plate of protein, quarter of a plate of carbs and the other quarter fruits or veggies.',\n",
       "       'Very colorful and smaller portions of the unhealthy food with larger portions of vegetables ',\n",
       "       'Chicken Salad with Pita Chips', 'Fruits, vegetables, meat ',\n",
       "       'steak or salmon with broccoli or asparagus and brown rice or quinoa',\n",
       "       'a balance of Meat and vegetables',\n",
       "       'Modest proportions of many different food groups.',\n",
       "       'It combines a protein with other elements of the diet such as vegetables and other items that support the body.',\n",
       "       'Well balanced with protein, fruits, vegetables, starch, etc.',\n",
       "       'lean meat, fresh fruits & veggies',\n",
       "       'water, fruits, vegetables, protein, carbs',\n",
       "       'More vegetables and fruits as opposed to meat and bread/potatoes',\n",
       "       'A protein, veggies, and a carb',\n",
       "       'Salmon, sweet potato, and larger portion, but equally spread of broccoli, squash, zucchini, carrots, and tomatoes.',\n",
       "       'Vegetables, white meat, and a starch like potatoes, water, and fruit for dessert ',\n",
       "       'I think a healthy meals includes some kind of protein, preferably meat, vegetables, and a starch such as potatoes or rice',\n",
       "       'A healthy meal constitutes of balanced diet with fruits and veggies dominating the plate. ',\n",
       "       'To me a healthy meal is balanced and ',\n",
       "       'equal portions of carbs, proteins and fruits/veges',\n",
       "       'Salad with chicken and vegetables with a raspberry vinaigrette ',\n",
       "       'It includes a protein, vegetable, fruit, and grain. ',\n",
       "       'low calories plenty of veggies',\n",
       "       'A pice of meat such as chicken with a side of vegetables and possibly a salad',\n",
       "       'Blackened Chicken, broccoli, and milk',\n",
       "       'Meat, greens and food containing protein',\n",
       "       'Intaking the proper amount of each food group',\n",
       "       'BBQ Chicken with mash sweat potatoes and steam vegetable with corn and a glass of water.',\n",
       "       'Including both vegetable and meat',\n",
       "       'Chicken vegetables and fruit for dinner ',\n",
       "       'A diet that is well balanced in most of the nutrients needed for the body.',\n",
       "       'mainly protein and vegetables with a complex carb ',\n",
       "       'A healthy meal is a variety of food , organic food that gives you the nutrients such as protein , carbohydrates , fat , water , vitamins and minerals.',\n",
       "       'lots of vegetables',\n",
       "       'A protein, a fruit, a starch, and a salad or some sort of vegetable.',\n",
       "       'a cup of rice, vegetables, and meat. '], dtype=object)"
      ]
     },
     "execution_count": 61,
     "metadata": {},
     "output_type": "execute_result"
    }
   ],
   "source": [
    "food['healthy_meal'].unique()"
   ]
  },
  {
   "cell_type": "code",
   "execution_count": 62,
   "metadata": {},
   "outputs": [],
   "source": [
    "food.drop(74, axis=0, inplace=True)"
   ]
  },
  {
   "cell_type": "code",
   "execution_count": 63,
   "metadata": {},
   "outputs": [],
   "source": [
    "food.replace('lots of fruits and vegitibles, not any fried foods', 'lots of fruits and vegetables, not any fried foods', inplace=True)"
   ]
  },
  {
   "cell_type": "code",
   "execution_count": 64,
   "metadata": {},
   "outputs": [],
   "source": [
    "food.replace('equal portions of carbs, proteins and fruits/veges', 'equal portions of carbs, proteins and fruits vegetables', inplace=True)"
   ]
  },
  {
   "cell_type": "code",
   "execution_count": 65,
   "metadata": {},
   "outputs": [],
   "source": [
    "food['all_sentences'] = food['healthy_meal'] + ' ' + food['comfort_food'] + ' ' + food['food_childhood'] + ' ' + food['meals_dinner_friend']"
   ]
  },
  {
   "cell_type": "code",
   "execution_count": 66,
   "metadata": {},
   "outputs": [
    {
     "data": {
      "text/plain": [
       "array(['looks not oily  none rice  and chicken  rice, chicken,  soup',\n",
       "       'Grains, Veggies, (more of grains and veggies), small protein and fruit with dairy  chocolate, chips, ice cream chicken and biscuits, beef soup, baked beans Pasta, steak, chicken ',\n",
       "       'usually includes natural ingredients; nonprocessed food frozen yogurt, pizza, fast food mac and cheese, pizza, tacos chicken and rice with veggies, pasta, some kind of healthy recipe',\n",
       "       'Fresh fruits& vegetables, organic meats  Pizza, Mac and cheese, ice cream Beef stroganoff, tacos, pizza Grilled chicken \\rStuffed Shells\\rHomemade Chili',\n",
       "       'A lean protein such as grilled chicken, green vegetables and  brown rice or other whole grain  Ice cream, chocolate, chips  Pasta, chicken tender, pizza  Chicken Parmesan, Pulled Pork, Spaghetti and meatballs ',\n",
       "       \"Requires veggies, fruits and a cooked meal.  Candy, brownies and soda. Fries, plaintain & fried fish Anything they'd want. I'd ask them before hand what they want to eat and it depends on which type of friend is coming.\",\n",
       "       'Protein, vegetables, fruit, and some carbs Chocolate, ice cream, french fries, pretzels grilled chicken, hamburgers Grilled chicken, steak, pizza',\n",
       "       'A healthy meal has a piece of meat followed by a lot of fruit and veggies Ice cream, cheeseburgers, chips. chicken, cheesey potatoes, and hot dogs chicken, steak, pasta ',\n",
       "       'Colorful Donuts, ice cream, chips Shrimp, spaghetti Pasta, Fish, Steak',\n",
       "       'Chicken and rice with a side of veggies.  Mac and cheese, chocolate, and pasta  Pasta, Eggs, Pancakes  pasta salad and bread',\n",
       "       'Chicken, and veggies  Pasta, grandma homemade chocolate cake anything homemade  Chicken chicken al king, spaghetti, fish',\n",
       "       'lean protein, veggies, fruit, complex carbs chocolate, pasta, soup, chips, popcorn Scalloped potatoes and ham  Chicken parm, Fish, Pasta dishes ',\n",
       "       'A salad with a reasonable amount of dressing and a meat. Cookies, popcorn, and chips Pizza, chicken wings, and corn on the cob  Cereal, pizza, toast ',\n",
       "       'Lots of vegetabls with some grains like rice. Also has lean meat such as fish or chicken. ice cream, cake, chocolate steak, lasagna, crab pasta, chicken, steak',\n",
       "       'Green and not greasy Pizza, fruit, spaghetti, chicken and Potatoes   Pizza Pizza, chicken and rice, roast beef.',\n",
       "       'chicken, veggies, rice cookies, donuts, candy bars pizza pizza buffalo chicken pasta',\n",
       "       'Not too much carbs, a lot of protein, healthy fats and fruits and vegs  Saltfish, Candy and Kit Kat  Curry, Stew Chicken and Saltfish Curry goat, saltfish, jerk chicken ',\n",
       "       'for me usually a big piece of chicken or steak with a side of veggies, and i usually have rice with mine as well chips, cookies, ice cream chicken fingers, steak, mac and cheese Grilled chicken or steak with veggies and rice. or some type of pasta and chicken ',\n",
       "       'Everything from food group  Chocolate, ice crea  Chicken Spaghetti, Chicken, Steak',\n",
       "       'lots of fruits and vegetables, not any fried foods pizza, wings, Chinese manacotti chicken, manicotti, rice',\n",
       "       'Rice, Meat, vegetable Fast food, pizza, subs pizza, chicken fingers Chicken, Pasta, Veal',\n",
       "       'Green and colourful chocolate, sweets, ice cream Pasta Meat, wine, chocolate pudding',\n",
       "       'pasta. veg, water  burgers, chips, cookies pasta pasta, pizza ',\n",
       "       'Protein, vegetables, grains  Chilli, soup, pot pie Chicken Nuggets Pizza, Pasta, Poutine',\n",
       "       'A healthy meal is a lean meat with mostly vegetables and a starch like brown rice or quinoa. Soup, pasta, brownies, cake Spaghetti  Pasta, chicken and rice, and soup',\n",
       "       'good portions, lots of color, targets main food groups chocolate, ice cream/milkshake, cookies Chicken parm, beef stroganof, tacos Pasta\\rTake out',\n",
       "       'A rice, a vegetable, a piece of meat  Chips, ice cream, microwaveable foods  Chicken Parm, Pizza  Chicken parm ',\n",
       "       'Salad, vegetable, carb, protein  Chicken fingers, pizza  Steak Steak, lobster, chicken ',\n",
       "       'Protein, vegetable and grains cookies, hot chocolate, beef jerky Deer Steak, Buttered Pasta, Garlic Pasta Garlic noodles and steak, Parmesan chicken and pasta, Tacos and pasta',\n",
       "       'Grilled chicken, mac and cheese, broccoli, apple, milk Tomato soup, pizza, Fritos, Meatball sub, Dr. Pepper Crab legs, Mushroom soup, homemade rolls Tomato soup, Steak, crab',\n",
       "       'whole grain carbs, vegetables, a small amount of protein cookies, mac-n-cheese, brownies, french fries,  french fries, waffles, chocolate pasta, chicken with potatoes, pizza ',\n",
       "       '4-6 ounces chicken or fish, side of potatoes, and green beans chips and dip, pepsi,  chicken and biscuits Chicken, Steak, Pasta',\n",
       "       \"Plenty of greens and lean proteins Grandma's Chinese, Peruvian food from back home, and sushi Spaghetti, Chicken, Won Tons Pasta,Sushi,Steak\",\n",
       "       'A balance of vegetables and cooked lean meat. Ice cream, cookies,  Chinese food, and chicken nuggets  Chicken Nuggets, Mac and Cheese, and pasta Chicken Parmesan, pasta,  ',\n",
       "       'a lot of greens french fries, chips, ice cream hamburgers, chicken nuggets  pasta, lasagna, chicken ',\n",
       "       'Some kind of protein, a vegetable, and a grain mac n cheese, peanut butter and banana sandwich, omelet chicken, pasta, stir fry Some kind of pasta, a chicken dish, some kind of salad',\n",
       "       'a meal with a meat, vegetable, grain, and fruit  pizza, doughnuts, mcdonalds  pizza, pasta, grilled cheese  spaghetti or pasta, shrimp fried rice, chicken ',\n",
       "       'A protein, starch, veg, and a healthier dessert.  chocolate, chips, candy Pasta Pasta, Pizza, Chicken ',\n",
       "       'a lean protein plus the addition of 2-3 fruits and vegetables chocolate, popcorn, ice cream chicken parmesan Chicken Parmesan, Orange Chicken, Tacos',\n",
       "       \"Chicken breast with veggies  Candy\\rPop\\rChocolate \\rChipotle \\rMoe's  Chicken and steak  Steak and potatoes, burgers and fries, bacon and eggs \",\n",
       "       'A meal with all of the food groups.  Pizza, Ice cream, fries, cereal, cookies   pizza, ice cream. pop tarts  Pizza, Japanize Hibachi, Moes   ',\n",
       "       'a salad with chicken and 2 tablespoons of salad dressing  Ice cream, chocolate, twizzlers  Mac cheese  Chicken, Pasta, Salad',\n",
       "       'Grilled chicken, side salad, rice and broccoli and cranberries ice cream, cookie dough, cookies, cheese French Toast, Grilled Cheese, Orange Chicken Pancakes, Pasta, Grilled Cheese and Soup',\n",
       "       'It is probably more on the green side and there is less fryed or overly seasoned food. There would be more organic foods rather than processed foods.  ice cream, cereal, and salt and vinegar chips  pickles, chinese food, pizza pasta, soup, steak  ',\n",
       "       'Mostly green! Potato chips, ice cream, chocolate, cookies Mac and Cheese, Hot Dogs, Grilled Cheese Steak, asparagus and potatoes, homemade chicken alfredo, Mexican cuisine',\n",
       "       'Colorful  Mac and cheese, fried chicken, cornbread  Hamloaf, tuna fish salad, mac and cheese  Tacos, spaghetti, grilled cheese',\n",
       "       'A meal that you have cooked yourself without a lot of grease or fat in it.   popcorn, chips, candy, & fries  chicken soup,  perogies, & roast beef   Spaghetti, steak, burgers ',\n",
       "       'good balance between meats, grains, fruits, vegetables, carbs, and dairy products  Chex-mix, Wegmans cookies, Cheez-Its  lasagna, meatloaf, pizza lasagna,  hamburgers w/ corn, steak  ',\n",
       "       'one that is well balanced and consists on main food groups pizza, ice cream, chips Tacos, Spaghetti, and Roast Steak, Chicken, Tacos',\n",
       "       'lots of green and color. fried chicken. mashed potatoes, mac and cheese mac and cheease, mashed potatoes, salmon pizza, pasta, burgers',\n",
       "       'Balance of veggies, white meat, fruits, and grains. Popcorn, Chex Mix, Pizza Pizza Pizza, salad',\n",
       "       'Chicken  Burger Steak  Steak, Chicken, Pasta ',\n",
       "       'Low carbs and high protein  Pizza, chocolate, and ice cream  Grilled chicken, pasta, and turkey  Chicken Parm',\n",
       "       'Grilled, natural ingredients, and no carbonated beverages fries, chips, fried chicken, pizza, grapes Chicken, Pizza, Cherry tomatoes Pizza, Steak, Spaghetti',\n",
       "       'High protein and vegetables peanut butter sandwich, pretzals, garlic bread Chicken Alfredo Chicken, Steak, Pasta',\n",
       "       'the different colors of the rain bow. protein, fruit, veggies chips, dip, fries, pizza steak and cheesy potatoes mac n cheese, steak, potatos',\n",
       "       'Low protein and carbs and high in vegetables and fruits. Pizza, Ice Cream, Chicken Wings Meatloaf Chicken, Beef, Steak',\n",
       "       'Chicken and broccoli  Pizza chocolate chips bagels ice Capps  Pizza pasta and quesadillas  chicken, pizza, stuffed shells',\n",
       "       'Fruit, vegetables, and protien Chocolate, ice cream, pasta Steak steak, noodles, edemame',\n",
       "       'Proper serving sizes of almost anything  Mac n Cheese. Chips and salsa. Ice cream.  Mac and cheese  Steak and veggies. Chicken and rice. Stirfry. ',\n",
       "       'Half the plate fruit and vegetables. Other half grains and protein. Then a little dairy.  peanut butter, dessets, pretzels.  lasagna Lasagna, steak, chili ',\n",
       "       'chicken, veggies, fruit, water  Macaroons, truffles, peanut butter n chocolate ice cream Chocolate I would say \"lets go out\"',\n",
       "       'high protein, low fat, low carbs and sugar ice cream, cookies, ice cream Pizza, Pasta, Chicken pasta, chicken, vegetables',\n",
       "       'high protein, fruit, veggies, low carbs and fat carrots and ranch, pretzels, dark chocolate  chicken tenders, pasta, mac&cheese  chicken and pasta, homemade pizza, lasagna ',\n",
       "       \"Meal prep'd foods with food from each section on the food pyramid.  cookies, nutella, ice cream, coffee, fruit  chicken stir fry, spaghetti, chicken parmesan  1. pasta 2. spaghetti 3. chicken and rice \",\n",
       "       'vegtables mac and cheese Mac and Cheese, Chicken nuggets Lasagna, Steak, Pasta ',\n",
       "       'Milk for a drink, meat, a grain, vegetable, fruit for dinner Chocolate, Popcorn, Icecream Mac and cheese  mac and cheese, pizza, chicken ',\n",
       "       'It has protein, vegetables and some carbs  Ice cream, cake, mozzarella sticks, pierogies  Mac&Cheese, Chicken Nuggets  Lasagna, Pizza, Pasta ',\n",
       "       'Balanced between protein, veggies, and carbs Chips, Mac and cheese, pizza, French fries  Pasta, pizza, meatballs  pasta, chicken parm, tacos ',\n",
       "       'Well portioned meat, veggies, and fruits. Water instead of a sugary drink like pop.  Pizza, burritos, slim jims Steak, Garlic and butter noodles, schnitzle Steak, pasta, burgers',\n",
       "       'A vegetable, a protein, and a fruit Broccoli, spaghetti squash, quinoa, and grilled chicken Pizza and Spaghetti Pizza, Italian, anything chicken related',\n",
       "       'A balanced meal with a protein, carbohydrate and a vegetable. Chocolate, ice cream, cookie dough Spaghetti  Spaghetti, steak, or chicken',\n",
       "       'salad pizza, pretzels, fruit snacks, deli sandwhich Pizza Mac n Cheese Pasta Pasta, Steak, Chicken',\n",
       "       'Protein source, vegetables, fruits, whole grains Chips, ice cream Pizza chipotle, chick fil a, chicken and rice',\n",
       "       'grilled meat, fruit, vegetable, and some grains mac and cheese, potato soup, ice cream, chips and cheese salad, chicken, pizza Chicken, Spaghetti, Hamburgers',\n",
       "       'a plate that has a variety of colors not just one color chocolate, pizza, and mashed potatoes pizza, mashed potatoes, chocolate chip cookies chicken, steak, pizza',\n",
       "       'Meat and potatoes  Pizza cookies steak  Pizza and wings  Steak, Pizza, Haddock ',\n",
       "       'good portions of fruit, protein, veggies and carbs chocolate, fruit, and ice cream tacos, pizza, chicken wing dip mexican chicken, hibachi chicken and rice, steak',\n",
       "       'All food groups Chips sweets popcorn Sloppy joes Chicken and vegetables, Roast Beef, pasta',\n",
       "       'All of the food groups(carbs, veggies, fruits,etc) Cookies, burgers, chicken noodle soup, ice cream Spaghetti and Meatballs, Steak, and Burgers Salad, pasta, and ice cream',\n",
       "       'all elements of food pyramid cake, French fries, chicken nuggets chicken fingers, pasta, pizza steak, mashed potatoes, vegetables ',\n",
       "       'lots of colors pizza, ice cream, cookies spaghetti and tacos pizza, tacos, pasta',\n",
       "       'Has fruits vegetables and or some type of meat  Mashed potatoes, pasta Spaghetti or  chicken panini sandwich  Spaghetti con Chorizo, Carne Asada, Salmon',\n",
       "       'Mostly vegetables and plenty of lean protein and healthy fats to keep you full Pasta dishes, Cheesecake, Pancakes Spaghetti and Pop-tarts Stuffed chicken breasts, spagetti carbonara, breakfast for dinner ',\n",
       "       'Lots of Greens, meat and water Ice cream, pizza, cookies Pasta, breakfast for dinner, pizza Pasta, breakfast for dinner, pizza',\n",
       "       'Small portion of meat with majority fruits or vegetables  Chinese food, moes, sponge candy, homemade lasagne  peanut butter and jelly, celery and peanut butter, hot pockets  Pizza, Chicken and rice and pasta',\n",
       "       'lots of variety and veggies pizza, pasta, mac and cheese pizza Pasta, pizza, and chicken',\n",
       "       'High protein, high carbs , vegetables  Little Debbie snacks, donuts, pizza Quesadilla, chocolate, steak burritos, pasta, chicken',\n",
       "       'Healthy meal for me is a food rich in protein, fiber, some sort of carbohydrates carrots, plantain chips, almonds, popcorn  Jollof Rice, Bread, pasta  Rice with vegetables, chicken with pasta, salad',\n",
       "       'half a plate of protein, quarter of a plate of carbs and the other quarter fruits or veggies. chips, ice cream, fruit snacks Chinese food, pizza, chicken adobo any Chinese food, pasta, burgers',\n",
       "       'Very colorful and smaller portions of the unhealthy food with larger portions of vegetables  Macaroni and cheese, chicken noodle soup, pizza Pasta, chicken, pizza  Pasta, chicken, pizza ',\n",
       "       'Chicken Salad with Pita Chips Chocolate, Chips, Ice cream, French Fires, Pizza Steak, Chicken Tenders, Pizza Chicken, Pork Chops, Steak',\n",
       "       'Fruits, vegetables, meat  Mac and cheese, lasagna, Chinese food  Spaghetti, Italian potato soup Salmon, hamburger surprise, Italian potato soup',\n",
       "       'steak or salmon with broccoli or asparagus and brown rice or quinoa candy, Chinese, mcdonalds steak, spaghetti, salmon salmon, steak, spaghetti squash',\n",
       "       'a balance of Meat and vegetables Doritos, mac and cheese, ice cream Macaroni and Cheese Pasta, fish, steak',\n",
       "       'Modest proportions of many different food groups. Ice cream, cake, pop, pizza, and milkshakes. Pizza Pizza, chicken, pasta',\n",
       "       'It combines a protein with other elements of the diet such as vegetables and other items that support the body. Mac and Cheese, Pizza, Ice Cream and French Fries  Chicken Parm, Spaghetti, and Grilled Cheese Chicken Parm, Baked Ziti, Shrimp Alfredo ',\n",
       "       'Well balanced with protein, fruits, vegetables, starch, etc. Soup, pasta, cake Chicken parmigiana, wedding soup, pasta Chicken parmigiana, pasta, wedding soup',\n",
       "       'lean meat, fresh fruits & veggies mac & cheese, frosted brownies, chicken nuggs chicken, macaroni & cheese, cheesy potatoes chicken alfredo, chicken parmesan, spaghetti',\n",
       "       'water, fruits, vegetables, protein, carbs watermelon, grapes, ice cream Spaghetti, Tuna noodle casserole, Italian sausage spaghetti, steak, lasagna ',\n",
       "       'More vegetables and fruits as opposed to meat and bread/potatoes macaroni and cheese, stuffed peppers, hamburgers, french fries chicken nuggets, macaroni and cheese None',\n",
       "       'A protein, veggies, and a carb Pizza, mashed potatoes, spaghetti Pizza None',\n",
       "       \"Salmon, sweet potato, and larger portion, but equally spread of broccoli, squash, zucchini, carrots, and tomatoes. dark chocolate, terra chips, reese's cups(dark chocolate), and bread/crackers with cottage cheese Tortellini and Broccoli with parmesan cheese and homemade breaded chicken with sweet potato Spaghetti and pasta, seasoned salmon with steamed or boiled broccoli, or soup with ritz crackers if I was busy that day.\",\n",
       "       'Vegetables, white meat, and a starch like potatoes, water, and fruit for dessert  Chips, chocolate, ,mozzarella sticks  Chicken Marsala, Manicotti, Mashed Potatoes Pasta, Burgers and Fries, Chicken Marsala',\n",
       "       'I think a healthy meals includes some kind of protein, preferably meat, vegetables, and a starch such as potatoes or rice ice cream, chips, candy hot dogs, chicken fingers, mashed potatoes Chicken rice and asparagus, pizza, something easy in the crockpot',\n",
       "       \"A healthy meal constitutes of balanced diet with fruits and veggies dominating the plate.  Pizza, soda, chocolate brownie, chicken tikka masala and butter naan  Chicken Biryani, Dad's burgers, Chicken curry Marinated nuts, prawn crackers, drink of their choice, mixed veggie crackers\\rRice, chicken curry, lentil, pickle, potato kebab\\rLemon Meringue Pie\",\n",
       "       'To me a healthy meal is balanced and  Chocolate, Pasta, Cookies dino chicken nuggets Pasta, Croque Madam, chicken ',\n",
       "       'equal portions of carbs, proteins and fruits vegetables Candy, salty snacks, toast Spaghetti and chicken parm Steak, salmon, chicken parm',\n",
       "       'Salad with chicken and vegetables with a raspberry vinaigrette  Mac in cheese, pizza, mozzarella sticks  Chicken parm.  Spaghetti, Grilled Chicken, Pizza ',\n",
       "       'It includes a protein, vegetable, fruit, and grain.  Ice-cream, pizza, chocolate Spaghetti Grilled chicken, Spaghetti, Alfredo ',\n",
       "       'low calories plenty of veggies snacks, chips,  Pizza, Pita, Lasagna None',\n",
       "       'A pice of meat such as chicken with a side of vegetables and possibly a salad Chocolate, Ice cream, pizza Mac & Cheese, Chicken, Stir Fry  Dinner, Lunch, Dessert ',\n",
       "       'Blackened Chicken, broccoli, and milk ice cream, pizza, Chinese food  Mac and Cheese  Beef Stroganoff, Chicken and Mashed Potatoes, Tacos ',\n",
       "       'Meat, greens and food containing protein Burgers, indian and korean food\\r Dumplings, Chicken Curry and Pizza Meat, meat and meat',\n",
       "       'Intaking the proper amount of each food group chocolate bar, ice cream, pretzels, potato chips and protein bars. Pasta, Pizza, Popcorn Pasta, Chicken, Pizza',\n",
       "       'BBQ Chicken with mash sweat potatoes and steam vegetable with corn and a glass of water. Ice cream, chocolate, pizza, cucumber  Fry Chicken, Rice Vegetable Rice and Peas and Chicken, Jerk Chicken and Shrimp',\n",
       "       'Including both vegetable and meat Noodle ( any kinds of noodle), Tuna sandwich, and Egg.\\r Noodle, Wings, and Tiramisu Vietnamese fried rolls, Pho, Some kinds of noodles.',\n",
       "       'Chicken vegetables and fruit for dinner  Chinese, chips, cake Chinese Chinese tacos or pasta ',\n",
       "       'A diet that is well balanced in most of the nutrients needed for the body. chips, rice, chicken curry, pizza, burger, pasta Chicken, Rice, Vegetables',\n",
       "       'mainly protein and vegetables with a complex carb  wine. mac and cheese, pizza, ice cream  Stromboli Mac and Cheese and Pizza pasta, fish, steak',\n",
       "       'A healthy meal is a variety of food , organic food that gives you the nutrients such as protein , carbohydrates , fat , water , vitamins and minerals. Pizza / Wings / Cheesecake Isombe , Plantains and Ugali Fried Rice \\rBaked potatoes \\rCurry Chicken',\n",
       "       'lots of vegetables rice, potato, seaweed soup Rice and potato meat, rice, kimchi',\n",
       "       'A protein, a fruit, a starch, and a salad or some sort of vegetable. Mac n Cheese, Lasagna, Pizza pizza and spaghetti  Pizza, Spaghetti, Baked Ziti',\n",
       "       'a cup of rice, vegetables, and meat.  Chocolates, pizza, and Ritz. rice, beans, and chicken / pizza/ tenders Vegetables, Meat, and rice.'], dtype=object)"
      ]
     },
     "execution_count": 66,
     "metadata": {},
     "output_type": "execute_result"
    }
   ],
   "source": [
    "food['all_sentences'].values"
   ]
  },
  {
   "cell_type": "code",
   "execution_count": 67,
   "metadata": {},
   "outputs": [],
   "source": [
    "cv = CountVectorizer(stop_words = ['and', 'of', 'or', 'of', 'the', 'with', 'food', 'meal'])\n",
    "cv.fit(food['all_sentences'])\n",
    "cv_all = cv.transform(food['all_sentences'])"
   ]
  },
  {
   "cell_type": "code",
   "execution_count": 68,
   "metadata": {},
   "outputs": [
    {
     "data": {
      "text/plain": [
       "<124x544 sparse matrix of type '<class 'numpy.int64'>'\n",
       "\twith 1986 stored elements in Compressed Sparse Row format>"
      ]
     },
     "execution_count": 68,
     "metadata": {},
     "output_type": "execute_result"
    }
   ],
   "source": [
    "cv_all"
   ]
  },
  {
   "cell_type": "code",
   "execution_count": 69,
   "metadata": {},
   "outputs": [],
   "source": [
    "cv_df = pd.DataFrame(cv_all.todense(), columns=cv.get_feature_names())"
   ]
  },
  {
   "cell_type": "code",
   "execution_count": 70,
   "metadata": {},
   "outputs": [
    {
     "data": {
      "text/html": [
       "<div>\n",
       "<style scoped>\n",
       "    .dataframe tbody tr th:only-of-type {\n",
       "        vertical-align: middle;\n",
       "    }\n",
       "\n",
       "    .dataframe tbody tr th {\n",
       "        vertical-align: top;\n",
       "    }\n",
       "\n",
       "    .dataframe thead th {\n",
       "        text-align: right;\n",
       "    }\n",
       "</style>\n",
       "<table border=\"1\" class=\"dataframe\">\n",
       "  <thead>\n",
       "    <tr style=\"text-align: right;\">\n",
       "      <th></th>\n",
       "      <th>addition</th>\n",
       "      <th>adobo</th>\n",
       "      <th>al</th>\n",
       "      <th>alfredo</th>\n",
       "      <th>all</th>\n",
       "      <th>almonds</th>\n",
       "      <th>almost</th>\n",
       "      <th>also</th>\n",
       "      <th>amount</th>\n",
       "      <th>any</th>\n",
       "      <th>...</th>\n",
       "      <th>wing</th>\n",
       "      <th>wings</th>\n",
       "      <th>without</th>\n",
       "      <th>won</th>\n",
       "      <th>would</th>\n",
       "      <th>yogurt</th>\n",
       "      <th>you</th>\n",
       "      <th>yourself</th>\n",
       "      <th>ziti</th>\n",
       "      <th>zucchini</th>\n",
       "    </tr>\n",
       "  </thead>\n",
       "  <tbody>\n",
       "    <tr>\n",
       "      <th>0</th>\n",
       "      <td>0</td>\n",
       "      <td>0</td>\n",
       "      <td>0</td>\n",
       "      <td>0</td>\n",
       "      <td>0</td>\n",
       "      <td>0</td>\n",
       "      <td>0</td>\n",
       "      <td>0</td>\n",
       "      <td>0</td>\n",
       "      <td>0</td>\n",
       "      <td>...</td>\n",
       "      <td>0</td>\n",
       "      <td>0</td>\n",
       "      <td>0</td>\n",
       "      <td>0</td>\n",
       "      <td>0</td>\n",
       "      <td>0</td>\n",
       "      <td>0</td>\n",
       "      <td>0</td>\n",
       "      <td>0</td>\n",
       "      <td>0</td>\n",
       "    </tr>\n",
       "    <tr>\n",
       "      <th>1</th>\n",
       "      <td>0</td>\n",
       "      <td>0</td>\n",
       "      <td>0</td>\n",
       "      <td>0</td>\n",
       "      <td>0</td>\n",
       "      <td>0</td>\n",
       "      <td>0</td>\n",
       "      <td>0</td>\n",
       "      <td>0</td>\n",
       "      <td>0</td>\n",
       "      <td>...</td>\n",
       "      <td>0</td>\n",
       "      <td>0</td>\n",
       "      <td>0</td>\n",
       "      <td>0</td>\n",
       "      <td>0</td>\n",
       "      <td>0</td>\n",
       "      <td>0</td>\n",
       "      <td>0</td>\n",
       "      <td>0</td>\n",
       "      <td>0</td>\n",
       "    </tr>\n",
       "    <tr>\n",
       "      <th>2</th>\n",
       "      <td>0</td>\n",
       "      <td>0</td>\n",
       "      <td>0</td>\n",
       "      <td>0</td>\n",
       "      <td>0</td>\n",
       "      <td>0</td>\n",
       "      <td>0</td>\n",
       "      <td>0</td>\n",
       "      <td>0</td>\n",
       "      <td>0</td>\n",
       "      <td>...</td>\n",
       "      <td>0</td>\n",
       "      <td>0</td>\n",
       "      <td>0</td>\n",
       "      <td>0</td>\n",
       "      <td>0</td>\n",
       "      <td>1</td>\n",
       "      <td>0</td>\n",
       "      <td>0</td>\n",
       "      <td>0</td>\n",
       "      <td>0</td>\n",
       "    </tr>\n",
       "    <tr>\n",
       "      <th>3</th>\n",
       "      <td>0</td>\n",
       "      <td>0</td>\n",
       "      <td>0</td>\n",
       "      <td>0</td>\n",
       "      <td>0</td>\n",
       "      <td>0</td>\n",
       "      <td>0</td>\n",
       "      <td>0</td>\n",
       "      <td>0</td>\n",
       "      <td>0</td>\n",
       "      <td>...</td>\n",
       "      <td>0</td>\n",
       "      <td>0</td>\n",
       "      <td>0</td>\n",
       "      <td>0</td>\n",
       "      <td>0</td>\n",
       "      <td>0</td>\n",
       "      <td>0</td>\n",
       "      <td>0</td>\n",
       "      <td>0</td>\n",
       "      <td>0</td>\n",
       "    </tr>\n",
       "    <tr>\n",
       "      <th>4</th>\n",
       "      <td>0</td>\n",
       "      <td>0</td>\n",
       "      <td>0</td>\n",
       "      <td>0</td>\n",
       "      <td>0</td>\n",
       "      <td>0</td>\n",
       "      <td>0</td>\n",
       "      <td>0</td>\n",
       "      <td>0</td>\n",
       "      <td>0</td>\n",
       "      <td>...</td>\n",
       "      <td>0</td>\n",
       "      <td>0</td>\n",
       "      <td>0</td>\n",
       "      <td>0</td>\n",
       "      <td>0</td>\n",
       "      <td>0</td>\n",
       "      <td>0</td>\n",
       "      <td>0</td>\n",
       "      <td>0</td>\n",
       "      <td>0</td>\n",
       "    </tr>\n",
       "  </tbody>\n",
       "</table>\n",
       "<p>5 rows × 544 columns</p>\n",
       "</div>"
      ],
      "text/plain": [
       "   addition  adobo  al  alfredo  all  almonds  almost  also  amount  any  \\\n",
       "0         0      0   0        0    0        0       0     0       0    0   \n",
       "1         0      0   0        0    0        0       0     0       0    0   \n",
       "2         0      0   0        0    0        0       0     0       0    0   \n",
       "3         0      0   0        0    0        0       0     0       0    0   \n",
       "4         0      0   0        0    0        0       0     0       0    0   \n",
       "\n",
       "     ...     wing  wings  without  won  would  yogurt  you  yourself  ziti  \\\n",
       "0    ...        0      0        0    0      0       0    0         0     0   \n",
       "1    ...        0      0        0    0      0       0    0         0     0   \n",
       "2    ...        0      0        0    0      0       1    0         0     0   \n",
       "3    ...        0      0        0    0      0       0    0         0     0   \n",
       "4    ...        0      0        0    0      0       0    0         0     0   \n",
       "\n",
       "   zucchini  \n",
       "0         0  \n",
       "1         0  \n",
       "2         0  \n",
       "3         0  \n",
       "4         0  \n",
       "\n",
       "[5 rows x 544 columns]"
      ]
     },
     "execution_count": 70,
     "metadata": {},
     "output_type": "execute_result"
    }
   ],
   "source": [
    "cv_df.head()"
   ]
  },
  {
   "cell_type": "code",
   "execution_count": 71,
   "metadata": {},
   "outputs": [],
   "source": [
    "cv_df['chicken'].replace(2, 1, inplace=True)\n",
    "cv_df['chicken'].replace(3, 1, inplace=True)\n",
    "cv_df['chicken'].replace(4, 1, inplace=True)"
   ]
  },
  {
   "cell_type": "code",
   "execution_count": 72,
   "metadata": {},
   "outputs": [],
   "source": [
    "cv_df['pizza'].replace(2, 1, inplace=True)\n",
    "cv_df['pizza'].replace(3, 1, inplace=True)"
   ]
  },
  {
   "cell_type": "code",
   "execution_count": 73,
   "metadata": {},
   "outputs": [],
   "source": [
    "cv_df['pasta'].replace(2, 1, inplace=True)\n",
    "cv_df['pasta'].replace(3, 1, inplace=True)\n",
    "cv_df['pasta'].replace(4, 1, inplace=True)"
   ]
  },
  {
   "cell_type": "code",
   "execution_count": 74,
   "metadata": {},
   "outputs": [],
   "source": [
    "cv_df['spaghetti'].replace(2, 1, inplace=True)"
   ]
  },
  {
   "cell_type": "code",
   "execution_count": 75,
   "metadata": {},
   "outputs": [],
   "source": [
    "cv_df['pasta1'] = cv_df['pasta'] | cv_df['spaghetti']"
   ]
  },
  {
   "cell_type": "code",
   "execution_count": 76,
   "metadata": {},
   "outputs": [],
   "source": [
    "cv_df['steak'].replace(2, 1, inplace=True)\n",
    "cv_df['steak'].replace(3, 1, inplace=True)"
   ]
  },
  {
   "cell_type": "code",
   "execution_count": 77,
   "metadata": {},
   "outputs": [],
   "source": [
    "cv_df['meat'].replace(2, 1, inplace=True)\n",
    "cv_df['meat'].replace(4, 1, inplace=True)"
   ]
  },
  {
   "cell_type": "code",
   "execution_count": 78,
   "metadata": {},
   "outputs": [
    {
     "data": {
      "text/plain": [
       "array([0, 1], dtype=int64)"
      ]
     },
     "execution_count": 78,
     "metadata": {},
     "output_type": "execute_result"
    }
   ],
   "source": [
    "cv_df['hamburgers'].unique()"
   ]
  },
  {
   "cell_type": "code",
   "execution_count": 79,
   "metadata": {},
   "outputs": [],
   "source": [
    "cv_df['meat1'] = cv_df['steak']  | cv_df['protein'] | cv_df['proteins'] | cv_df['meat'] | cv_df['meats'] | cv_df['beef'] | cv_df['ham'] | cv_df['hamburgers']"
   ]
  },
  {
   "cell_type": "code",
   "execution_count": 80,
   "metadata": {},
   "outputs": [
    {
     "data": {
      "text/plain": [
       "array([0, 1], dtype=int64)"
      ]
     },
     "execution_count": 80,
     "metadata": {},
     "output_type": "execute_result"
    }
   ],
   "source": [
    "cv_df['meat1'].unique()"
   ]
  },
  {
   "cell_type": "code",
   "execution_count": 81,
   "metadata": {},
   "outputs": [],
   "source": [
    "cv_df['vegetable'].replace(2, 1, inplace=True)"
   ]
  },
  {
   "cell_type": "code",
   "execution_count": 82,
   "metadata": {},
   "outputs": [],
   "source": [
    "cv_df['vegetables'].replace(2, 1, inplace=True)"
   ]
  },
  {
   "cell_type": "code",
   "execution_count": 83,
   "metadata": {},
   "outputs": [],
   "source": [
    "cv_df['veggies'].replace(2, 1, inplace=True)"
   ]
  },
  {
   "cell_type": "code",
   "execution_count": 84,
   "metadata": {},
   "outputs": [],
   "source": [
    "cv_df['salad'].replace(3, 1, inplace=True)"
   ]
  },
  {
   "cell_type": "code",
   "execution_count": 85,
   "metadata": {},
   "outputs": [],
   "source": [
    "cv_df['broccoli'].replace(3, 1, inplace=True)"
   ]
  },
  {
   "cell_type": "code",
   "execution_count": 86,
   "metadata": {},
   "outputs": [],
   "source": [
    "cv_df['veg1'] = cv_df['vegetable'] | cv_df['vegetables'] | cv_df['veggies'] | cv_df['veg'] | cv_df['salad'] | cv_df['broccoli'] | cv_df['tomatoes']"
   ]
  },
  {
   "cell_type": "code",
   "execution_count": 87,
   "metadata": {},
   "outputs": [],
   "source": [
    "cv_df['rice'].replace(2, 1, inplace=True)\n",
    "cv_df['rice'].replace(3, 1, inplace=True)"
   ]
  },
  {
   "cell_type": "code",
   "execution_count": 88,
   "metadata": {},
   "outputs": [],
   "source": [
    "cv_df['mac'].replace(2, 1, inplace=True)"
   ]
  },
  {
   "cell_type": "code",
   "execution_count": 89,
   "metadata": {},
   "outputs": [],
   "source": [
    "cv_df['macaroni'].replace(2, 1, inplace=True)"
   ]
  },
  {
   "cell_type": "code",
   "execution_count": 90,
   "metadata": {},
   "outputs": [
    {
     "data": {
      "text/plain": [
       "array([0, 1], dtype=int64)"
      ]
     },
     "execution_count": 90,
     "metadata": {},
     "output_type": "execute_result"
    }
   ],
   "source": [
    "cv_df['macaroni'].unique()"
   ]
  },
  {
   "cell_type": "code",
   "execution_count": 91,
   "metadata": {},
   "outputs": [],
   "source": [
    "cv_df['mac1'] = cv_df['mac'] | cv_df['macaroni']"
   ]
  },
  {
   "cell_type": "code",
   "execution_count": 92,
   "metadata": {},
   "outputs": [
    {
     "data": {
      "text/plain": [
       "array([0, 1], dtype=int64)"
      ]
     },
     "execution_count": 92,
     "metadata": {},
     "output_type": "execute_result"
    }
   ],
   "source": [
    "cv_df['mac1'].unique()"
   ]
  },
  {
   "cell_type": "code",
   "execution_count": 93,
   "metadata": {},
   "outputs": [],
   "source": [
    "cv_df['cheese'].replace(2, 1, inplace=True)\n",
    "cv_df['cheese'].replace(3, 1, inplace=True)"
   ]
  },
  {
   "cell_type": "code",
   "execution_count": 94,
   "metadata": {},
   "outputs": [],
   "source": [
    "cv_df['dairy1'] = cv_df['dairy'] | cv_df['cheese'] | cv_df['yogurt']"
   ]
  },
  {
   "cell_type": "code",
   "execution_count": 95,
   "metadata": {},
   "outputs": [],
   "source": [
    "cv_df['tacos'].replace(2, 1, inplace=True)"
   ]
  },
  {
   "cell_type": "code",
   "execution_count": 96,
   "metadata": {},
   "outputs": [],
   "source": [
    "cv_df['ice cream'] = cv_df['ice'] & cv_df['cream']"
   ]
  },
  {
   "cell_type": "code",
   "execution_count": 97,
   "metadata": {},
   "outputs": [],
   "source": [
    "cv_df['ice cream'].replace(2, 1, inplace=True)"
   ]
  },
  {
   "cell_type": "code",
   "execution_count": 98,
   "metadata": {},
   "outputs": [],
   "source": [
    "cv_df['chocolate'].replace(2, 1, inplace=True)"
   ]
  },
  {
   "cell_type": "code",
   "execution_count": 99,
   "metadata": {},
   "outputs": [],
   "source": [
    "cv_df['potatoes'].replace(2, 1, inplace=True)"
   ]
  },
  {
   "cell_type": "code",
   "execution_count": 100,
   "metadata": {},
   "outputs": [],
   "source": [
    "cv_df['soup'].replace(2, 1, inplace=True)\n",
    "cv_df['soup'].replace(3, 1, inplace=True)"
   ]
  },
  {
   "cell_type": "code",
   "execution_count": 101,
   "metadata": {},
   "outputs": [],
   "source": [
    "cv_df['fruit'].replace(2, 1, inplace=True)"
   ]
  },
  {
   "cell_type": "code",
   "execution_count": 102,
   "metadata": {},
   "outputs": [],
   "source": [
    "cv_df['fruit1'] = cv_df['fruit'] | cv_df['fruits']"
   ]
  },
  {
   "cell_type": "code",
   "execution_count": 103,
   "metadata": {},
   "outputs": [],
   "source": [
    "cv_df['salmon'].replace(2, 1, inplace=True)\n",
    "cv_df['salmon'].replace(3, 1, inplace=True)"
   ]
  },
  {
   "cell_type": "code",
   "execution_count": 104,
   "metadata": {},
   "outputs": [],
   "source": [
    "cv_df['fish1'] = cv_df['fish'] | cv_df['salmon'] | cv_df['tuna']"
   ]
  },
  {
   "cell_type": "code",
   "execution_count": 105,
   "metadata": {},
   "outputs": [
    {
     "data": {
      "text/plain": [
       "array([0, 1], dtype=int64)"
      ]
     },
     "execution_count": 105,
     "metadata": {},
     "output_type": "execute_result"
    }
   ],
   "source": [
    "cv_df['fish1'].unique()"
   ]
  },
  {
   "cell_type": "code",
   "execution_count": 106,
   "metadata": {},
   "outputs": [],
   "source": [
    "cvdf2 = cv_df.sum().sort_values(ascending=False)"
   ]
  },
  {
   "cell_type": "code",
   "execution_count": 107,
   "metadata": {},
   "outputs": [
    {
     "data": {
      "text/plain": [
       "chicken          99\n",
       "meat1            96\n",
       "veg1             94\n",
       "pasta1           85\n",
       "pizza            68\n",
       "pasta            66\n",
       "ice              53\n",
       "cream            51\n",
       "ice cream        48\n",
       "fruit1           42\n",
       "steak            42\n",
       "vegetables       41\n",
       "protein          40\n",
       "dairy1           39\n",
       "cheese           36\n",
       "chocolate        36\n",
       "chips            35\n",
       "mac1             33\n",
       "spaghetti        31\n",
       "mac              31\n",
       "rice             28\n",
       "meat             28\n",
       "veggies          25\n",
       "fruit            22\n",
       "potatoes         21\n",
       "fruits           21\n",
       "cookies          20\n",
       "grilled          19\n",
       "carbs            17\n",
       "fish1            17\n",
       "                 ..\n",
       "pockets           1\n",
       "portioned         1\n",
       "possibly          1\n",
       "pot               1\n",
       "potatos           1\n",
       "overly            1\n",
       "ounces            1\n",
       "opposed           1\n",
       "most              1\n",
       "meringue          1\n",
       "microwaveable     1\n",
       "milkshake         1\n",
       "milkshakes        1\n",
       "mine              1\n",
       "minerals          1\n",
       "mixed             1\n",
       "modest            1\n",
       "moe               1\n",
       "much              1\n",
       "omelet            1\n",
       "mushroom          1\n",
       "naan              1\n",
       "needed            1\n",
       "no                1\n",
       "nonprocessed      1\n",
       "nuggs             1\n",
       "nutella           1\n",
       "nuts              1\n",
       "oily              1\n",
       "addition          1\n",
       "Length: 552, dtype: int64"
      ]
     },
     "execution_count": 107,
     "metadata": {},
     "output_type": "execute_result"
    }
   ],
   "source": [
    "cvdf2"
   ]
  },
  {
   "cell_type": "code",
   "execution_count": 108,
   "metadata": {},
   "outputs": [],
   "source": [
    "X_df = cv_df[['chicken', 'pizza', 'pasta1', 'meat1', 'veg1', 'rice', 'mac', 'dairy1', 'tacos',\n",
    "             'ice cream', 'chocolate', 'potatoes', 'fruit1', 'soup', 'fish1']]"
   ]
  },
  {
   "cell_type": "code",
   "execution_count": 109,
   "metadata": {},
   "outputs": [],
   "source": [
    "food.drop(['healthy_meal', 'comfort_food', 'food_childhood', 'meals_dinner_friend'], axis=1, inplace=True)"
   ]
  },
  {
   "cell_type": "code",
   "execution_count": 110,
   "metadata": {},
   "outputs": [],
   "source": [
    "dict_1 = {\n",
    "    0: 'None',\n",
    "    1: 'Italian',\n",
    "    2: 'Mexican',\n",
    "    3: 'Middle Eastern',\n",
    "    4: 'Thai/Asian',\n",
    "    5: 'American',\n",
    "    6: 'African',\n",
    "    7: 'Jamaican',\n",
    "    8: 'Indian'\n",
    "}"
   ]
  },
  {
   "cell_type": "code",
   "execution_count": 111,
   "metadata": {},
   "outputs": [
    {
     "data": {
      "text/plain": [
       "array([3, 1, 6, 4, 5, 7, 2, 8, 0], dtype=int64)"
      ]
     },
     "execution_count": 111,
     "metadata": {},
     "output_type": "execute_result"
    }
   ],
   "source": [
    "food['fav_cuisine_coded'].unique()"
   ]
  },
  {
   "cell_type": "code",
   "execution_count": 112,
   "metadata": {},
   "outputs": [],
   "source": [
    "food['favorite_cuisine'] = food['fav_cuisine_coded'].map(dict_1)"
   ]
  },
  {
   "cell_type": "code",
   "execution_count": 113,
   "metadata": {},
   "outputs": [
    {
     "data": {
      "text/plain": [
       "array(['Middle Eastern', 'Italian', 'African', 'Thai/Asian', 'American',\n",
       "       'Jamaican', 'Mexican', 'Indian', 'None'], dtype=object)"
      ]
     },
     "execution_count": 113,
     "metadata": {},
     "output_type": "execute_result"
    }
   ],
   "source": [
    "food['favorite_cuisine'].unique()"
   ]
  },
  {
   "cell_type": "code",
   "execution_count": 114,
   "metadata": {},
   "outputs": [],
   "source": [
    "cuisines = pd.get_dummies(food['favorite_cuisine'])"
   ]
  },
  {
   "cell_type": "code",
   "execution_count": 115,
   "metadata": {},
   "outputs": [],
   "source": [
    "cuisines.drop(['Jamaican', 'None'], axis=1, inplace=True)"
   ]
  },
  {
   "cell_type": "code",
   "execution_count": 116,
   "metadata": {},
   "outputs": [],
   "source": [
    "indian = pd.get_dummies(food['indian_food'])"
   ]
  },
  {
   "cell_type": "code",
   "execution_count": 117,
   "metadata": {},
   "outputs": [
    {
     "data": {
      "text/html": [
       "<div>\n",
       "<style scoped>\n",
       "    .dataframe tbody tr th:only-of-type {\n",
       "        vertical-align: middle;\n",
       "    }\n",
       "\n",
       "    .dataframe tbody tr th {\n",
       "        vertical-align: top;\n",
       "    }\n",
       "\n",
       "    .dataframe thead th {\n",
       "        text-align: right;\n",
       "    }\n",
       "</style>\n",
       "<table border=\"1\" class=\"dataframe\">\n",
       "  <thead>\n",
       "    <tr style=\"text-align: right;\">\n",
       "      <th></th>\n",
       "      <th>1</th>\n",
       "      <th>2</th>\n",
       "      <th>3</th>\n",
       "      <th>4</th>\n",
       "      <th>5</th>\n",
       "    </tr>\n",
       "  </thead>\n",
       "  <tbody>\n",
       "    <tr>\n",
       "      <th>0</th>\n",
       "      <td>0</td>\n",
       "      <td>0</td>\n",
       "      <td>0</td>\n",
       "      <td>0</td>\n",
       "      <td>1</td>\n",
       "    </tr>\n",
       "    <tr>\n",
       "      <th>1</th>\n",
       "      <td>0</td>\n",
       "      <td>0</td>\n",
       "      <td>0</td>\n",
       "      <td>1</td>\n",
       "      <td>0</td>\n",
       "    </tr>\n",
       "    <tr>\n",
       "      <th>2</th>\n",
       "      <td>0</td>\n",
       "      <td>0</td>\n",
       "      <td>0</td>\n",
       "      <td>0</td>\n",
       "      <td>1</td>\n",
       "    </tr>\n",
       "    <tr>\n",
       "      <th>3</th>\n",
       "      <td>0</td>\n",
       "      <td>0</td>\n",
       "      <td>0</td>\n",
       "      <td>0</td>\n",
       "      <td>1</td>\n",
       "    </tr>\n",
       "    <tr>\n",
       "      <th>4</th>\n",
       "      <td>0</td>\n",
       "      <td>1</td>\n",
       "      <td>0</td>\n",
       "      <td>0</td>\n",
       "      <td>0</td>\n",
       "    </tr>\n",
       "  </tbody>\n",
       "</table>\n",
       "</div>"
      ],
      "text/plain": [
       "   1  2  3  4  5\n",
       "0  0  0  0  0  1\n",
       "1  0  0  0  1  0\n",
       "2  0  0  0  0  1\n",
       "3  0  0  0  0  1\n",
       "4  0  1  0  0  0"
      ]
     },
     "execution_count": 117,
     "metadata": {},
     "output_type": "execute_result"
    }
   ],
   "source": [
    "indian.head()"
   ]
  },
  {
   "cell_type": "code",
   "execution_count": 118,
   "metadata": {},
   "outputs": [],
   "source": [
    "indian.drop([1, 2, 3], axis=1, inplace=True)"
   ]
  },
  {
   "cell_type": "code",
   "execution_count": 119,
   "metadata": {},
   "outputs": [],
   "source": [
    "indian['indian1'] = indian[4] | indian[5]"
   ]
  },
  {
   "cell_type": "code",
   "execution_count": 120,
   "metadata": {},
   "outputs": [
    {
     "data": {
      "text/html": [
       "<div>\n",
       "<style scoped>\n",
       "    .dataframe tbody tr th:only-of-type {\n",
       "        vertical-align: middle;\n",
       "    }\n",
       "\n",
       "    .dataframe tbody tr th {\n",
       "        vertical-align: top;\n",
       "    }\n",
       "\n",
       "    .dataframe thead th {\n",
       "        text-align: right;\n",
       "    }\n",
       "</style>\n",
       "<table border=\"1\" class=\"dataframe\">\n",
       "  <thead>\n",
       "    <tr style=\"text-align: right;\">\n",
       "      <th></th>\n",
       "      <th>4</th>\n",
       "      <th>5</th>\n",
       "      <th>indian1</th>\n",
       "    </tr>\n",
       "  </thead>\n",
       "  <tbody>\n",
       "    <tr>\n",
       "      <th>0</th>\n",
       "      <td>0</td>\n",
       "      <td>1</td>\n",
       "      <td>1</td>\n",
       "    </tr>\n",
       "    <tr>\n",
       "      <th>1</th>\n",
       "      <td>1</td>\n",
       "      <td>0</td>\n",
       "      <td>1</td>\n",
       "    </tr>\n",
       "    <tr>\n",
       "      <th>2</th>\n",
       "      <td>0</td>\n",
       "      <td>1</td>\n",
       "      <td>1</td>\n",
       "    </tr>\n",
       "    <tr>\n",
       "      <th>3</th>\n",
       "      <td>0</td>\n",
       "      <td>1</td>\n",
       "      <td>1</td>\n",
       "    </tr>\n",
       "    <tr>\n",
       "      <th>4</th>\n",
       "      <td>0</td>\n",
       "      <td>0</td>\n",
       "      <td>0</td>\n",
       "    </tr>\n",
       "  </tbody>\n",
       "</table>\n",
       "</div>"
      ],
      "text/plain": [
       "   4  5  indian1\n",
       "0  0  1        1\n",
       "1  1  0        1\n",
       "2  0  1        1\n",
       "3  0  1        1\n",
       "4  0  0        0"
      ]
     },
     "execution_count": 120,
     "metadata": {},
     "output_type": "execute_result"
    }
   ],
   "source": [
    "indian.head()"
   ]
  },
  {
   "cell_type": "code",
   "execution_count": 121,
   "metadata": {},
   "outputs": [],
   "source": [
    "italian = pd.get_dummies(food['italian_food'])"
   ]
  },
  {
   "cell_type": "code",
   "execution_count": 122,
   "metadata": {},
   "outputs": [],
   "source": [
    "italian.drop(3, axis=1, inplace=True)"
   ]
  },
  {
   "cell_type": "code",
   "execution_count": 123,
   "metadata": {},
   "outputs": [],
   "source": [
    "italian['italian1'] = italian[4] | italian[5]"
   ]
  },
  {
   "cell_type": "code",
   "execution_count": 124,
   "metadata": {},
   "outputs": [],
   "source": [
    "thai = pd.get_dummies(food['thai_food'])"
   ]
  },
  {
   "cell_type": "code",
   "execution_count": 125,
   "metadata": {},
   "outputs": [],
   "source": [
    "thai.drop([1,2,3], axis=1, inplace=True)"
   ]
  },
  {
   "cell_type": "code",
   "execution_count": 126,
   "metadata": {},
   "outputs": [],
   "source": [
    "thai['thai'] = thai[4] | thai[5]"
   ]
  },
  {
   "cell_type": "code",
   "execution_count": 127,
   "metadata": {},
   "outputs": [],
   "source": [
    "middle_east = pd.get_dummies(food['persian_food'])"
   ]
  },
  {
   "cell_type": "code",
   "execution_count": 128,
   "metadata": {},
   "outputs": [
    {
     "data": {
      "text/plain": [
       "array([ 5.,  4.,  2.,  1.,  3.,  0.])"
      ]
     },
     "execution_count": 128,
     "metadata": {},
     "output_type": "execute_result"
    }
   ],
   "source": [
    "food['persian_food'].unique()"
   ]
  },
  {
   "cell_type": "code",
   "execution_count": 129,
   "metadata": {},
   "outputs": [],
   "source": [
    "middle_east.drop([0,1,2,3], axis=1, inplace=True)"
   ]
  },
  {
   "cell_type": "code",
   "execution_count": 130,
   "metadata": {},
   "outputs": [],
   "source": [
    "middle_east['middle_east'] = middle_east[4] | middle_east[5]"
   ]
  },
  {
   "cell_type": "code",
   "execution_count": 131,
   "metadata": {},
   "outputs": [],
   "source": [
    "all_c = pd.concat([indian, italian, thai, middle_east], axis=1)"
   ]
  },
  {
   "cell_type": "code",
   "execution_count": 132,
   "metadata": {},
   "outputs": [
    {
     "data": {
      "text/html": [
       "<div>\n",
       "<style scoped>\n",
       "    .dataframe tbody tr th:only-of-type {\n",
       "        vertical-align: middle;\n",
       "    }\n",
       "\n",
       "    .dataframe tbody tr th {\n",
       "        vertical-align: top;\n",
       "    }\n",
       "\n",
       "    .dataframe thead th {\n",
       "        text-align: right;\n",
       "    }\n",
       "</style>\n",
       "<table border=\"1\" class=\"dataframe\">\n",
       "  <thead>\n",
       "    <tr style=\"text-align: right;\">\n",
       "      <th></th>\n",
       "      <th>4</th>\n",
       "      <th>5</th>\n",
       "      <th>indian1</th>\n",
       "      <th>4</th>\n",
       "      <th>5</th>\n",
       "      <th>italian1</th>\n",
       "      <th>4</th>\n",
       "      <th>5</th>\n",
       "      <th>thai</th>\n",
       "      <th>4.0</th>\n",
       "      <th>5.0</th>\n",
       "      <th>middle_east</th>\n",
       "    </tr>\n",
       "  </thead>\n",
       "  <tbody>\n",
       "    <tr>\n",
       "      <th>0</th>\n",
       "      <td>0</td>\n",
       "      <td>1</td>\n",
       "      <td>1</td>\n",
       "      <td>0</td>\n",
       "      <td>1</td>\n",
       "      <td>1</td>\n",
       "      <td>0</td>\n",
       "      <td>0</td>\n",
       "      <td>0</td>\n",
       "      <td>0</td>\n",
       "      <td>1</td>\n",
       "      <td>1</td>\n",
       "    </tr>\n",
       "    <tr>\n",
       "      <th>1</th>\n",
       "      <td>1</td>\n",
       "      <td>0</td>\n",
       "      <td>1</td>\n",
       "      <td>1</td>\n",
       "      <td>0</td>\n",
       "      <td>1</td>\n",
       "      <td>0</td>\n",
       "      <td>0</td>\n",
       "      <td>0</td>\n",
       "      <td>1</td>\n",
       "      <td>0</td>\n",
       "      <td>1</td>\n",
       "    </tr>\n",
       "    <tr>\n",
       "      <th>2</th>\n",
       "      <td>0</td>\n",
       "      <td>1</td>\n",
       "      <td>1</td>\n",
       "      <td>0</td>\n",
       "      <td>1</td>\n",
       "      <td>1</td>\n",
       "      <td>0</td>\n",
       "      <td>1</td>\n",
       "      <td>1</td>\n",
       "      <td>0</td>\n",
       "      <td>1</td>\n",
       "      <td>1</td>\n",
       "    </tr>\n",
       "    <tr>\n",
       "      <th>3</th>\n",
       "      <td>0</td>\n",
       "      <td>1</td>\n",
       "      <td>1</td>\n",
       "      <td>0</td>\n",
       "      <td>1</td>\n",
       "      <td>1</td>\n",
       "      <td>0</td>\n",
       "      <td>1</td>\n",
       "      <td>1</td>\n",
       "      <td>0</td>\n",
       "      <td>1</td>\n",
       "      <td>1</td>\n",
       "    </tr>\n",
       "    <tr>\n",
       "      <th>4</th>\n",
       "      <td>0</td>\n",
       "      <td>0</td>\n",
       "      <td>0</td>\n",
       "      <td>0</td>\n",
       "      <td>1</td>\n",
       "      <td>1</td>\n",
       "      <td>1</td>\n",
       "      <td>0</td>\n",
       "      <td>1</td>\n",
       "      <td>0</td>\n",
       "      <td>0</td>\n",
       "      <td>0</td>\n",
       "    </tr>\n",
       "  </tbody>\n",
       "</table>\n",
       "</div>"
      ],
      "text/plain": [
       "   4  5  indian1  4  5  italian1  4  5  thai  4.0  5.0  middle_east\n",
       "0  0  1        1  0  1         1  0  0     0    0    1            1\n",
       "1  1  0        1  1  0         1  0  0     0    1    0            1\n",
       "2  0  1        1  0  1         1  0  1     1    0    1            1\n",
       "3  0  1        1  0  1         1  0  1     1    0    1            1\n",
       "4  0  0        0  0  1         1  1  0     1    0    0            0"
      ]
     },
     "execution_count": 132,
     "metadata": {},
     "output_type": "execute_result"
    }
   ],
   "source": [
    "all_c.head()"
   ]
  },
  {
   "cell_type": "code",
   "execution_count": 133,
   "metadata": {},
   "outputs": [],
   "source": [
    "all_c.drop([4,5], axis=1, inplace=True)"
   ]
  },
  {
   "cell_type": "code",
   "execution_count": 134,
   "metadata": {},
   "outputs": [
    {
     "data": {
      "text/html": [
       "<div>\n",
       "<style scoped>\n",
       "    .dataframe tbody tr th:only-of-type {\n",
       "        vertical-align: middle;\n",
       "    }\n",
       "\n",
       "    .dataframe tbody tr th {\n",
       "        vertical-align: top;\n",
       "    }\n",
       "\n",
       "    .dataframe thead th {\n",
       "        text-align: right;\n",
       "    }\n",
       "</style>\n",
       "<table border=\"1\" class=\"dataframe\">\n",
       "  <thead>\n",
       "    <tr style=\"text-align: right;\">\n",
       "      <th></th>\n",
       "      <th>indian1</th>\n",
       "      <th>italian1</th>\n",
       "      <th>thai</th>\n",
       "      <th>middle_east</th>\n",
       "    </tr>\n",
       "  </thead>\n",
       "  <tbody>\n",
       "    <tr>\n",
       "      <th>0</th>\n",
       "      <td>1</td>\n",
       "      <td>1</td>\n",
       "      <td>0</td>\n",
       "      <td>1</td>\n",
       "    </tr>\n",
       "    <tr>\n",
       "      <th>1</th>\n",
       "      <td>1</td>\n",
       "      <td>1</td>\n",
       "      <td>0</td>\n",
       "      <td>1</td>\n",
       "    </tr>\n",
       "    <tr>\n",
       "      <th>2</th>\n",
       "      <td>1</td>\n",
       "      <td>1</td>\n",
       "      <td>1</td>\n",
       "      <td>1</td>\n",
       "    </tr>\n",
       "    <tr>\n",
       "      <th>3</th>\n",
       "      <td>1</td>\n",
       "      <td>1</td>\n",
       "      <td>1</td>\n",
       "      <td>1</td>\n",
       "    </tr>\n",
       "    <tr>\n",
       "      <th>4</th>\n",
       "      <td>0</td>\n",
       "      <td>1</td>\n",
       "      <td>1</td>\n",
       "      <td>0</td>\n",
       "    </tr>\n",
       "  </tbody>\n",
       "</table>\n",
       "</div>"
      ],
      "text/plain": [
       "   indian1  italian1  thai  middle_east\n",
       "0        1         1     0            1\n",
       "1        1         1     0            1\n",
       "2        1         1     1            1\n",
       "3        1         1     1            1\n",
       "4        0         1     1            0"
      ]
     },
     "execution_count": 134,
     "metadata": {},
     "output_type": "execute_result"
    }
   ],
   "source": [
    "all_c.head()"
   ]
  },
  {
   "cell_type": "code",
   "execution_count": 135,
   "metadata": {},
   "outputs": [],
   "source": [
    "all_cuisines = pd.concat([cuisines, all_c], axis=1)"
   ]
  },
  {
   "cell_type": "code",
   "execution_count": 136,
   "metadata": {},
   "outputs": [
    {
     "data": {
      "text/html": [
       "<div>\n",
       "<style scoped>\n",
       "    .dataframe tbody tr th:only-of-type {\n",
       "        vertical-align: middle;\n",
       "    }\n",
       "\n",
       "    .dataframe tbody tr th {\n",
       "        vertical-align: top;\n",
       "    }\n",
       "\n",
       "    .dataframe thead th {\n",
       "        text-align: right;\n",
       "    }\n",
       "</style>\n",
       "<table border=\"1\" class=\"dataframe\">\n",
       "  <thead>\n",
       "    <tr style=\"text-align: right;\">\n",
       "      <th></th>\n",
       "      <th>African</th>\n",
       "      <th>American</th>\n",
       "      <th>Indian</th>\n",
       "      <th>Italian</th>\n",
       "      <th>Mexican</th>\n",
       "      <th>Middle Eastern</th>\n",
       "      <th>Thai/Asian</th>\n",
       "      <th>indian1</th>\n",
       "      <th>italian1</th>\n",
       "      <th>thai</th>\n",
       "      <th>middle_east</th>\n",
       "    </tr>\n",
       "  </thead>\n",
       "  <tbody>\n",
       "    <tr>\n",
       "      <th>0</th>\n",
       "      <td>0</td>\n",
       "      <td>0</td>\n",
       "      <td>0</td>\n",
       "      <td>0</td>\n",
       "      <td>0</td>\n",
       "      <td>1</td>\n",
       "      <td>0</td>\n",
       "      <td>1</td>\n",
       "      <td>1</td>\n",
       "      <td>0</td>\n",
       "      <td>1</td>\n",
       "    </tr>\n",
       "    <tr>\n",
       "      <th>1</th>\n",
       "      <td>0</td>\n",
       "      <td>0</td>\n",
       "      <td>0</td>\n",
       "      <td>1</td>\n",
       "      <td>0</td>\n",
       "      <td>0</td>\n",
       "      <td>0</td>\n",
       "      <td>1</td>\n",
       "      <td>1</td>\n",
       "      <td>0</td>\n",
       "      <td>1</td>\n",
       "    </tr>\n",
       "    <tr>\n",
       "      <th>2</th>\n",
       "      <td>0</td>\n",
       "      <td>0</td>\n",
       "      <td>0</td>\n",
       "      <td>1</td>\n",
       "      <td>0</td>\n",
       "      <td>0</td>\n",
       "      <td>0</td>\n",
       "      <td>1</td>\n",
       "      <td>1</td>\n",
       "      <td>1</td>\n",
       "      <td>1</td>\n",
       "    </tr>\n",
       "    <tr>\n",
       "      <th>3</th>\n",
       "      <td>0</td>\n",
       "      <td>0</td>\n",
       "      <td>0</td>\n",
       "      <td>0</td>\n",
       "      <td>0</td>\n",
       "      <td>1</td>\n",
       "      <td>0</td>\n",
       "      <td>1</td>\n",
       "      <td>1</td>\n",
       "      <td>1</td>\n",
       "      <td>1</td>\n",
       "    </tr>\n",
       "    <tr>\n",
       "      <th>4</th>\n",
       "      <td>0</td>\n",
       "      <td>0</td>\n",
       "      <td>0</td>\n",
       "      <td>1</td>\n",
       "      <td>0</td>\n",
       "      <td>0</td>\n",
       "      <td>0</td>\n",
       "      <td>0</td>\n",
       "      <td>1</td>\n",
       "      <td>1</td>\n",
       "      <td>0</td>\n",
       "    </tr>\n",
       "  </tbody>\n",
       "</table>\n",
       "</div>"
      ],
      "text/plain": [
       "   African  American  Indian  Italian  Mexican  Middle Eastern  Thai/Asian  \\\n",
       "0        0         0       0        0        0               1           0   \n",
       "1        0         0       0        1        0               0           0   \n",
       "2        0         0       0        1        0               0           0   \n",
       "3        0         0       0        0        0               1           0   \n",
       "4        0         0       0        1        0               0           0   \n",
       "\n",
       "   indian1  italian1  thai  middle_east  \n",
       "0        1         1     0            1  \n",
       "1        1         1     0            1  \n",
       "2        1         1     1            1  \n",
       "3        1         1     1            1  \n",
       "4        0         1     1            0  "
      ]
     },
     "execution_count": 136,
     "metadata": {},
     "output_type": "execute_result"
    }
   ],
   "source": [
    "all_cuisines.head()"
   ]
  },
  {
   "cell_type": "code",
   "execution_count": 137,
   "metadata": {},
   "outputs": [],
   "source": [
    "all_cuisines['indian'] = all_cuisines['Indian'] | all_cuisines['indian1']\n",
    "all_cuisines['italian'] = all_cuisines['Italian'] | all_cuisines['italian1']\n",
    "all_cuisines['Thai'] = all_cuisines['Thai/Asian'] | all_cuisines['thai']\n",
    "all_cuisines['middle eastern'] = all_cuisines['Middle Eastern'] | all_cuisines['middle_east']"
   ]
  },
  {
   "cell_type": "code",
   "execution_count": 138,
   "metadata": {},
   "outputs": [
    {
     "data": {
      "text/html": [
       "<div>\n",
       "<style scoped>\n",
       "    .dataframe tbody tr th:only-of-type {\n",
       "        vertical-align: middle;\n",
       "    }\n",
       "\n",
       "    .dataframe tbody tr th {\n",
       "        vertical-align: top;\n",
       "    }\n",
       "\n",
       "    .dataframe thead th {\n",
       "        text-align: right;\n",
       "    }\n",
       "</style>\n",
       "<table border=\"1\" class=\"dataframe\">\n",
       "  <thead>\n",
       "    <tr style=\"text-align: right;\">\n",
       "      <th></th>\n",
       "      <th>African</th>\n",
       "      <th>American</th>\n",
       "      <th>Indian</th>\n",
       "      <th>Italian</th>\n",
       "      <th>Mexican</th>\n",
       "      <th>Middle Eastern</th>\n",
       "      <th>Thai/Asian</th>\n",
       "      <th>indian1</th>\n",
       "      <th>italian1</th>\n",
       "      <th>thai</th>\n",
       "      <th>middle_east</th>\n",
       "      <th>indian</th>\n",
       "      <th>italian</th>\n",
       "      <th>Thai</th>\n",
       "      <th>middle eastern</th>\n",
       "    </tr>\n",
       "  </thead>\n",
       "  <tbody>\n",
       "    <tr>\n",
       "      <th>0</th>\n",
       "      <td>0</td>\n",
       "      <td>0</td>\n",
       "      <td>0</td>\n",
       "      <td>0</td>\n",
       "      <td>0</td>\n",
       "      <td>1</td>\n",
       "      <td>0</td>\n",
       "      <td>1</td>\n",
       "      <td>1</td>\n",
       "      <td>0</td>\n",
       "      <td>1</td>\n",
       "      <td>1</td>\n",
       "      <td>1</td>\n",
       "      <td>0</td>\n",
       "      <td>1</td>\n",
       "    </tr>\n",
       "    <tr>\n",
       "      <th>1</th>\n",
       "      <td>0</td>\n",
       "      <td>0</td>\n",
       "      <td>0</td>\n",
       "      <td>1</td>\n",
       "      <td>0</td>\n",
       "      <td>0</td>\n",
       "      <td>0</td>\n",
       "      <td>1</td>\n",
       "      <td>1</td>\n",
       "      <td>0</td>\n",
       "      <td>1</td>\n",
       "      <td>1</td>\n",
       "      <td>1</td>\n",
       "      <td>0</td>\n",
       "      <td>1</td>\n",
       "    </tr>\n",
       "    <tr>\n",
       "      <th>2</th>\n",
       "      <td>0</td>\n",
       "      <td>0</td>\n",
       "      <td>0</td>\n",
       "      <td>1</td>\n",
       "      <td>0</td>\n",
       "      <td>0</td>\n",
       "      <td>0</td>\n",
       "      <td>1</td>\n",
       "      <td>1</td>\n",
       "      <td>1</td>\n",
       "      <td>1</td>\n",
       "      <td>1</td>\n",
       "      <td>1</td>\n",
       "      <td>1</td>\n",
       "      <td>1</td>\n",
       "    </tr>\n",
       "    <tr>\n",
       "      <th>3</th>\n",
       "      <td>0</td>\n",
       "      <td>0</td>\n",
       "      <td>0</td>\n",
       "      <td>0</td>\n",
       "      <td>0</td>\n",
       "      <td>1</td>\n",
       "      <td>0</td>\n",
       "      <td>1</td>\n",
       "      <td>1</td>\n",
       "      <td>1</td>\n",
       "      <td>1</td>\n",
       "      <td>1</td>\n",
       "      <td>1</td>\n",
       "      <td>1</td>\n",
       "      <td>1</td>\n",
       "    </tr>\n",
       "    <tr>\n",
       "      <th>4</th>\n",
       "      <td>0</td>\n",
       "      <td>0</td>\n",
       "      <td>0</td>\n",
       "      <td>1</td>\n",
       "      <td>0</td>\n",
       "      <td>0</td>\n",
       "      <td>0</td>\n",
       "      <td>0</td>\n",
       "      <td>1</td>\n",
       "      <td>1</td>\n",
       "      <td>0</td>\n",
       "      <td>0</td>\n",
       "      <td>1</td>\n",
       "      <td>1</td>\n",
       "      <td>0</td>\n",
       "    </tr>\n",
       "  </tbody>\n",
       "</table>\n",
       "</div>"
      ],
      "text/plain": [
       "   African  American  Indian  Italian  Mexican  Middle Eastern  Thai/Asian  \\\n",
       "0        0         0       0        0        0               1           0   \n",
       "1        0         0       0        1        0               0           0   \n",
       "2        0         0       0        1        0               0           0   \n",
       "3        0         0       0        0        0               1           0   \n",
       "4        0         0       0        1        0               0           0   \n",
       "\n",
       "   indian1  italian1  thai  middle_east  indian  italian  Thai  middle eastern  \n",
       "0        1         1     0            1       1        1     0               1  \n",
       "1        1         1     0            1       1        1     0               1  \n",
       "2        1         1     1            1       1        1     1               1  \n",
       "3        1         1     1            1       1        1     1               1  \n",
       "4        0         1     1            0       0        1     1               0  "
      ]
     },
     "execution_count": 138,
     "metadata": {},
     "output_type": "execute_result"
    }
   ],
   "source": [
    "all_cuisines.head()"
   ]
  },
  {
   "cell_type": "code",
   "execution_count": 139,
   "metadata": {},
   "outputs": [],
   "source": [
    "all_cuisines.drop(['Indian', 'Italian', 'Middle Eastern', 'Thai/Asian', 'indian1', 'italian1', 'thai', 'middle_east'], axis=1, \n",
    "                 inplace=True)"
   ]
  },
  {
   "cell_type": "code",
   "execution_count": 140,
   "metadata": {},
   "outputs": [
    {
     "data": {
      "text/html": [
       "<div>\n",
       "<style scoped>\n",
       "    .dataframe tbody tr th:only-of-type {\n",
       "        vertical-align: middle;\n",
       "    }\n",
       "\n",
       "    .dataframe tbody tr th {\n",
       "        vertical-align: top;\n",
       "    }\n",
       "\n",
       "    .dataframe thead th {\n",
       "        text-align: right;\n",
       "    }\n",
       "</style>\n",
       "<table border=\"1\" class=\"dataframe\">\n",
       "  <thead>\n",
       "    <tr style=\"text-align: right;\">\n",
       "      <th></th>\n",
       "      <th>African</th>\n",
       "      <th>American</th>\n",
       "      <th>Mexican</th>\n",
       "      <th>indian</th>\n",
       "      <th>italian</th>\n",
       "      <th>Thai</th>\n",
       "      <th>middle eastern</th>\n",
       "    </tr>\n",
       "  </thead>\n",
       "  <tbody>\n",
       "    <tr>\n",
       "      <th>0</th>\n",
       "      <td>0</td>\n",
       "      <td>0</td>\n",
       "      <td>0</td>\n",
       "      <td>1</td>\n",
       "      <td>1</td>\n",
       "      <td>0</td>\n",
       "      <td>1</td>\n",
       "    </tr>\n",
       "    <tr>\n",
       "      <th>1</th>\n",
       "      <td>0</td>\n",
       "      <td>0</td>\n",
       "      <td>0</td>\n",
       "      <td>1</td>\n",
       "      <td>1</td>\n",
       "      <td>0</td>\n",
       "      <td>1</td>\n",
       "    </tr>\n",
       "    <tr>\n",
       "      <th>2</th>\n",
       "      <td>0</td>\n",
       "      <td>0</td>\n",
       "      <td>0</td>\n",
       "      <td>1</td>\n",
       "      <td>1</td>\n",
       "      <td>1</td>\n",
       "      <td>1</td>\n",
       "    </tr>\n",
       "    <tr>\n",
       "      <th>3</th>\n",
       "      <td>0</td>\n",
       "      <td>0</td>\n",
       "      <td>0</td>\n",
       "      <td>1</td>\n",
       "      <td>1</td>\n",
       "      <td>1</td>\n",
       "      <td>1</td>\n",
       "    </tr>\n",
       "    <tr>\n",
       "      <th>4</th>\n",
       "      <td>0</td>\n",
       "      <td>0</td>\n",
       "      <td>0</td>\n",
       "      <td>0</td>\n",
       "      <td>1</td>\n",
       "      <td>1</td>\n",
       "      <td>0</td>\n",
       "    </tr>\n",
       "  </tbody>\n",
       "</table>\n",
       "</div>"
      ],
      "text/plain": [
       "   African  American  Mexican  indian  italian  Thai  middle eastern\n",
       "0        0         0        0       1        1     0               1\n",
       "1        0         0        0       1        1     0               1\n",
       "2        0         0        0       1        1     1               1\n",
       "3        0         0        0       1        1     1               1\n",
       "4        0         0        0       0        1     1               0"
      ]
     },
     "execution_count": 140,
     "metadata": {},
     "output_type": "execute_result"
    }
   ],
   "source": [
    "all_cuisines.head()"
   ]
  },
  {
   "cell_type": "code",
   "execution_count": 141,
   "metadata": {},
   "outputs": [],
   "source": [
    "all_cuisines = all_cuisines.rename(columns={'indian': 'Indian', 'italian': 'Italian', 'middle eastern': 'Middle Eastern'})"
   ]
  },
  {
   "cell_type": "code",
   "execution_count": 142,
   "metadata": {},
   "outputs": [
    {
     "data": {
      "text/html": [
       "<div>\n",
       "<style scoped>\n",
       "    .dataframe tbody tr th:only-of-type {\n",
       "        vertical-align: middle;\n",
       "    }\n",
       "\n",
       "    .dataframe tbody tr th {\n",
       "        vertical-align: top;\n",
       "    }\n",
       "\n",
       "    .dataframe thead th {\n",
       "        text-align: right;\n",
       "    }\n",
       "</style>\n",
       "<table border=\"1\" class=\"dataframe\">\n",
       "  <thead>\n",
       "    <tr style=\"text-align: right;\">\n",
       "      <th></th>\n",
       "      <th>African</th>\n",
       "      <th>American</th>\n",
       "      <th>Mexican</th>\n",
       "      <th>Indian</th>\n",
       "      <th>Italian</th>\n",
       "      <th>Thai</th>\n",
       "      <th>Middle Eastern</th>\n",
       "    </tr>\n",
       "  </thead>\n",
       "  <tbody>\n",
       "    <tr>\n",
       "      <th>0</th>\n",
       "      <td>0</td>\n",
       "      <td>0</td>\n",
       "      <td>0</td>\n",
       "      <td>1</td>\n",
       "      <td>1</td>\n",
       "      <td>0</td>\n",
       "      <td>1</td>\n",
       "    </tr>\n",
       "    <tr>\n",
       "      <th>1</th>\n",
       "      <td>0</td>\n",
       "      <td>0</td>\n",
       "      <td>0</td>\n",
       "      <td>1</td>\n",
       "      <td>1</td>\n",
       "      <td>0</td>\n",
       "      <td>1</td>\n",
       "    </tr>\n",
       "    <tr>\n",
       "      <th>2</th>\n",
       "      <td>0</td>\n",
       "      <td>0</td>\n",
       "      <td>0</td>\n",
       "      <td>1</td>\n",
       "      <td>1</td>\n",
       "      <td>1</td>\n",
       "      <td>1</td>\n",
       "    </tr>\n",
       "    <tr>\n",
       "      <th>3</th>\n",
       "      <td>0</td>\n",
       "      <td>0</td>\n",
       "      <td>0</td>\n",
       "      <td>1</td>\n",
       "      <td>1</td>\n",
       "      <td>1</td>\n",
       "      <td>1</td>\n",
       "    </tr>\n",
       "    <tr>\n",
       "      <th>4</th>\n",
       "      <td>0</td>\n",
       "      <td>0</td>\n",
       "      <td>0</td>\n",
       "      <td>0</td>\n",
       "      <td>1</td>\n",
       "      <td>1</td>\n",
       "      <td>0</td>\n",
       "    </tr>\n",
       "  </tbody>\n",
       "</table>\n",
       "</div>"
      ],
      "text/plain": [
       "   African  American  Mexican  Indian  Italian  Thai  Middle Eastern\n",
       "0        0         0        0       1        1     0               1\n",
       "1        0         0        0       1        1     0               1\n",
       "2        0         0        0       1        1     1               1\n",
       "3        0         0        0       1        1     1               1\n",
       "4        0         0        0       0        1     1               0"
      ]
     },
     "execution_count": 142,
     "metadata": {},
     "output_type": "execute_result"
    }
   ],
   "source": [
    "all_cuisines.head()"
   ]
  },
  {
   "cell_type": "code",
   "execution_count": 143,
   "metadata": {},
   "outputs": [],
   "source": [
    "#Dropping column that lists which students prefer American food\n",
    "all_cuisines.drop('American', axis=1, inplace=True)"
   ]
  },
  {
   "cell_type": "code",
   "execution_count": 144,
   "metadata": {},
   "outputs": [
    {
     "data": {
      "text/html": [
       "<div>\n",
       "<style scoped>\n",
       "    .dataframe tbody tr th:only-of-type {\n",
       "        vertical-align: middle;\n",
       "    }\n",
       "\n",
       "    .dataframe tbody tr th {\n",
       "        vertical-align: top;\n",
       "    }\n",
       "\n",
       "    .dataframe thead th {\n",
       "        text-align: right;\n",
       "    }\n",
       "</style>\n",
       "<table border=\"1\" class=\"dataframe\">\n",
       "  <thead>\n",
       "    <tr style=\"text-align: right;\">\n",
       "      <th></th>\n",
       "      <th>African</th>\n",
       "      <th>Mexican</th>\n",
       "      <th>Indian</th>\n",
       "      <th>Italian</th>\n",
       "      <th>Thai</th>\n",
       "      <th>Middle Eastern</th>\n",
       "    </tr>\n",
       "  </thead>\n",
       "  <tbody>\n",
       "    <tr>\n",
       "      <th>0</th>\n",
       "      <td>0</td>\n",
       "      <td>0</td>\n",
       "      <td>1</td>\n",
       "      <td>1</td>\n",
       "      <td>0</td>\n",
       "      <td>1</td>\n",
       "    </tr>\n",
       "    <tr>\n",
       "      <th>1</th>\n",
       "      <td>0</td>\n",
       "      <td>0</td>\n",
       "      <td>1</td>\n",
       "      <td>1</td>\n",
       "      <td>0</td>\n",
       "      <td>1</td>\n",
       "    </tr>\n",
       "    <tr>\n",
       "      <th>2</th>\n",
       "      <td>0</td>\n",
       "      <td>0</td>\n",
       "      <td>1</td>\n",
       "      <td>1</td>\n",
       "      <td>1</td>\n",
       "      <td>1</td>\n",
       "    </tr>\n",
       "    <tr>\n",
       "      <th>3</th>\n",
       "      <td>0</td>\n",
       "      <td>0</td>\n",
       "      <td>1</td>\n",
       "      <td>1</td>\n",
       "      <td>1</td>\n",
       "      <td>1</td>\n",
       "    </tr>\n",
       "    <tr>\n",
       "      <th>4</th>\n",
       "      <td>0</td>\n",
       "      <td>0</td>\n",
       "      <td>0</td>\n",
       "      <td>1</td>\n",
       "      <td>1</td>\n",
       "      <td>0</td>\n",
       "    </tr>\n",
       "  </tbody>\n",
       "</table>\n",
       "</div>"
      ],
      "text/plain": [
       "   African  Mexican  Indian  Italian  Thai  Middle Eastern\n",
       "0        0        0       1        1     0               1\n",
       "1        0        0       1        1     0               1\n",
       "2        0        0       1        1     1               1\n",
       "3        0        0       1        1     1               1\n",
       "4        0        0       0        1     1               0"
      ]
     },
     "execution_count": 144,
     "metadata": {},
     "output_type": "execute_result"
    }
   ],
   "source": [
    "all_cuisines.head()"
   ]
  },
  {
   "cell_type": "code",
   "execution_count": 145,
   "metadata": {},
   "outputs": [
    {
     "data": {
      "text/html": [
       "<div>\n",
       "<style scoped>\n",
       "    .dataframe tbody tr th:only-of-type {\n",
       "        vertical-align: middle;\n",
       "    }\n",
       "\n",
       "    .dataframe tbody tr th {\n",
       "        vertical-align: top;\n",
       "    }\n",
       "\n",
       "    .dataframe thead th {\n",
       "        text-align: right;\n",
       "    }\n",
       "</style>\n",
       "<table border=\"1\" class=\"dataframe\">\n",
       "  <thead>\n",
       "    <tr style=\"text-align: right;\">\n",
       "      <th></th>\n",
       "      <th>chicken</th>\n",
       "      <th>pizza</th>\n",
       "      <th>pasta1</th>\n",
       "      <th>meat1</th>\n",
       "      <th>veg1</th>\n",
       "      <th>rice</th>\n",
       "      <th>mac</th>\n",
       "      <th>dairy1</th>\n",
       "      <th>tacos</th>\n",
       "      <th>ice cream</th>\n",
       "      <th>chocolate</th>\n",
       "      <th>potatoes</th>\n",
       "      <th>fruit1</th>\n",
       "      <th>soup</th>\n",
       "      <th>fish1</th>\n",
       "    </tr>\n",
       "  </thead>\n",
       "  <tbody>\n",
       "    <tr>\n",
       "      <th>0</th>\n",
       "      <td>1</td>\n",
       "      <td>0</td>\n",
       "      <td>0</td>\n",
       "      <td>0</td>\n",
       "      <td>0</td>\n",
       "      <td>1</td>\n",
       "      <td>0</td>\n",
       "      <td>0</td>\n",
       "      <td>0</td>\n",
       "      <td>0</td>\n",
       "      <td>0</td>\n",
       "      <td>0</td>\n",
       "      <td>0</td>\n",
       "      <td>1</td>\n",
       "      <td>0</td>\n",
       "    </tr>\n",
       "    <tr>\n",
       "      <th>1</th>\n",
       "      <td>1</td>\n",
       "      <td>0</td>\n",
       "      <td>1</td>\n",
       "      <td>1</td>\n",
       "      <td>1</td>\n",
       "      <td>0</td>\n",
       "      <td>0</td>\n",
       "      <td>1</td>\n",
       "      <td>0</td>\n",
       "      <td>1</td>\n",
       "      <td>1</td>\n",
       "      <td>0</td>\n",
       "      <td>1</td>\n",
       "      <td>1</td>\n",
       "      <td>0</td>\n",
       "    </tr>\n",
       "    <tr>\n",
       "      <th>2</th>\n",
       "      <td>1</td>\n",
       "      <td>1</td>\n",
       "      <td>1</td>\n",
       "      <td>0</td>\n",
       "      <td>1</td>\n",
       "      <td>1</td>\n",
       "      <td>1</td>\n",
       "      <td>1</td>\n",
       "      <td>1</td>\n",
       "      <td>0</td>\n",
       "      <td>0</td>\n",
       "      <td>0</td>\n",
       "      <td>0</td>\n",
       "      <td>0</td>\n",
       "      <td>0</td>\n",
       "    </tr>\n",
       "    <tr>\n",
       "      <th>3</th>\n",
       "      <td>1</td>\n",
       "      <td>1</td>\n",
       "      <td>0</td>\n",
       "      <td>1</td>\n",
       "      <td>1</td>\n",
       "      <td>0</td>\n",
       "      <td>1</td>\n",
       "      <td>1</td>\n",
       "      <td>1</td>\n",
       "      <td>1</td>\n",
       "      <td>0</td>\n",
       "      <td>0</td>\n",
       "      <td>1</td>\n",
       "      <td>0</td>\n",
       "      <td>0</td>\n",
       "    </tr>\n",
       "    <tr>\n",
       "      <th>4</th>\n",
       "      <td>1</td>\n",
       "      <td>1</td>\n",
       "      <td>1</td>\n",
       "      <td>1</td>\n",
       "      <td>1</td>\n",
       "      <td>1</td>\n",
       "      <td>0</td>\n",
       "      <td>0</td>\n",
       "      <td>0</td>\n",
       "      <td>1</td>\n",
       "      <td>1</td>\n",
       "      <td>0</td>\n",
       "      <td>0</td>\n",
       "      <td>0</td>\n",
       "      <td>0</td>\n",
       "    </tr>\n",
       "    <tr>\n",
       "      <th>5</th>\n",
       "      <td>0</td>\n",
       "      <td>0</td>\n",
       "      <td>0</td>\n",
       "      <td>0</td>\n",
       "      <td>1</td>\n",
       "      <td>0</td>\n",
       "      <td>0</td>\n",
       "      <td>0</td>\n",
       "      <td>0</td>\n",
       "      <td>0</td>\n",
       "      <td>0</td>\n",
       "      <td>0</td>\n",
       "      <td>1</td>\n",
       "      <td>0</td>\n",
       "      <td>1</td>\n",
       "    </tr>\n",
       "    <tr>\n",
       "      <th>6</th>\n",
       "      <td>1</td>\n",
       "      <td>1</td>\n",
       "      <td>0</td>\n",
       "      <td>1</td>\n",
       "      <td>1</td>\n",
       "      <td>0</td>\n",
       "      <td>0</td>\n",
       "      <td>0</td>\n",
       "      <td>0</td>\n",
       "      <td>1</td>\n",
       "      <td>1</td>\n",
       "      <td>0</td>\n",
       "      <td>1</td>\n",
       "      <td>0</td>\n",
       "      <td>0</td>\n",
       "    </tr>\n",
       "    <tr>\n",
       "      <th>7</th>\n",
       "      <td>1</td>\n",
       "      <td>0</td>\n",
       "      <td>1</td>\n",
       "      <td>1</td>\n",
       "      <td>1</td>\n",
       "      <td>0</td>\n",
       "      <td>0</td>\n",
       "      <td>0</td>\n",
       "      <td>0</td>\n",
       "      <td>1</td>\n",
       "      <td>0</td>\n",
       "      <td>1</td>\n",
       "      <td>1</td>\n",
       "      <td>0</td>\n",
       "      <td>0</td>\n",
       "    </tr>\n",
       "    <tr>\n",
       "      <th>8</th>\n",
       "      <td>0</td>\n",
       "      <td>0</td>\n",
       "      <td>1</td>\n",
       "      <td>1</td>\n",
       "      <td>0</td>\n",
       "      <td>0</td>\n",
       "      <td>0</td>\n",
       "      <td>0</td>\n",
       "      <td>0</td>\n",
       "      <td>1</td>\n",
       "      <td>0</td>\n",
       "      <td>0</td>\n",
       "      <td>0</td>\n",
       "      <td>0</td>\n",
       "      <td>1</td>\n",
       "    </tr>\n",
       "    <tr>\n",
       "      <th>9</th>\n",
       "      <td>1</td>\n",
       "      <td>0</td>\n",
       "      <td>1</td>\n",
       "      <td>0</td>\n",
       "      <td>1</td>\n",
       "      <td>1</td>\n",
       "      <td>1</td>\n",
       "      <td>1</td>\n",
       "      <td>0</td>\n",
       "      <td>0</td>\n",
       "      <td>1</td>\n",
       "      <td>0</td>\n",
       "      <td>0</td>\n",
       "      <td>0</td>\n",
       "      <td>0</td>\n",
       "    </tr>\n",
       "    <tr>\n",
       "      <th>10</th>\n",
       "      <td>1</td>\n",
       "      <td>0</td>\n",
       "      <td>1</td>\n",
       "      <td>0</td>\n",
       "      <td>1</td>\n",
       "      <td>0</td>\n",
       "      <td>0</td>\n",
       "      <td>0</td>\n",
       "      <td>0</td>\n",
       "      <td>0</td>\n",
       "      <td>1</td>\n",
       "      <td>0</td>\n",
       "      <td>0</td>\n",
       "      <td>0</td>\n",
       "      <td>1</td>\n",
       "    </tr>\n",
       "    <tr>\n",
       "      <th>11</th>\n",
       "      <td>1</td>\n",
       "      <td>0</td>\n",
       "      <td>1</td>\n",
       "      <td>1</td>\n",
       "      <td>1</td>\n",
       "      <td>0</td>\n",
       "      <td>0</td>\n",
       "      <td>0</td>\n",
       "      <td>0</td>\n",
       "      <td>0</td>\n",
       "      <td>1</td>\n",
       "      <td>1</td>\n",
       "      <td>1</td>\n",
       "      <td>1</td>\n",
       "      <td>1</td>\n",
       "    </tr>\n",
       "    <tr>\n",
       "      <th>12</th>\n",
       "      <td>1</td>\n",
       "      <td>1</td>\n",
       "      <td>0</td>\n",
       "      <td>1</td>\n",
       "      <td>1</td>\n",
       "      <td>0</td>\n",
       "      <td>0</td>\n",
       "      <td>0</td>\n",
       "      <td>0</td>\n",
       "      <td>0</td>\n",
       "      <td>0</td>\n",
       "      <td>0</td>\n",
       "      <td>0</td>\n",
       "      <td>0</td>\n",
       "      <td>0</td>\n",
       "    </tr>\n",
       "    <tr>\n",
       "      <th>13</th>\n",
       "      <td>1</td>\n",
       "      <td>0</td>\n",
       "      <td>1</td>\n",
       "      <td>1</td>\n",
       "      <td>0</td>\n",
       "      <td>1</td>\n",
       "      <td>0</td>\n",
       "      <td>0</td>\n",
       "      <td>0</td>\n",
       "      <td>1</td>\n",
       "      <td>1</td>\n",
       "      <td>0</td>\n",
       "      <td>0</td>\n",
       "      <td>0</td>\n",
       "      <td>1</td>\n",
       "    </tr>\n",
       "    <tr>\n",
       "      <th>14</th>\n",
       "      <td>1</td>\n",
       "      <td>1</td>\n",
       "      <td>1</td>\n",
       "      <td>1</td>\n",
       "      <td>0</td>\n",
       "      <td>1</td>\n",
       "      <td>0</td>\n",
       "      <td>0</td>\n",
       "      <td>0</td>\n",
       "      <td>0</td>\n",
       "      <td>0</td>\n",
       "      <td>1</td>\n",
       "      <td>1</td>\n",
       "      <td>0</td>\n",
       "      <td>0</td>\n",
       "    </tr>\n",
       "    <tr>\n",
       "      <th>15</th>\n",
       "      <td>1</td>\n",
       "      <td>1</td>\n",
       "      <td>1</td>\n",
       "      <td>0</td>\n",
       "      <td>1</td>\n",
       "      <td>1</td>\n",
       "      <td>0</td>\n",
       "      <td>0</td>\n",
       "      <td>0</td>\n",
       "      <td>0</td>\n",
       "      <td>0</td>\n",
       "      <td>0</td>\n",
       "      <td>0</td>\n",
       "      <td>0</td>\n",
       "      <td>0</td>\n",
       "    </tr>\n",
       "    <tr>\n",
       "      <th>16</th>\n",
       "      <td>1</td>\n",
       "      <td>0</td>\n",
       "      <td>0</td>\n",
       "      <td>1</td>\n",
       "      <td>0</td>\n",
       "      <td>0</td>\n",
       "      <td>0</td>\n",
       "      <td>0</td>\n",
       "      <td>0</td>\n",
       "      <td>0</td>\n",
       "      <td>0</td>\n",
       "      <td>0</td>\n",
       "      <td>1</td>\n",
       "      <td>0</td>\n",
       "      <td>0</td>\n",
       "    </tr>\n",
       "    <tr>\n",
       "      <th>17</th>\n",
       "      <td>1</td>\n",
       "      <td>0</td>\n",
       "      <td>1</td>\n",
       "      <td>1</td>\n",
       "      <td>1</td>\n",
       "      <td>1</td>\n",
       "      <td>1</td>\n",
       "      <td>1</td>\n",
       "      <td>0</td>\n",
       "      <td>1</td>\n",
       "      <td>0</td>\n",
       "      <td>0</td>\n",
       "      <td>0</td>\n",
       "      <td>0</td>\n",
       "      <td>0</td>\n",
       "    </tr>\n",
       "    <tr>\n",
       "      <th>18</th>\n",
       "      <td>1</td>\n",
       "      <td>0</td>\n",
       "      <td>1</td>\n",
       "      <td>1</td>\n",
       "      <td>0</td>\n",
       "      <td>0</td>\n",
       "      <td>0</td>\n",
       "      <td>0</td>\n",
       "      <td>0</td>\n",
       "      <td>0</td>\n",
       "      <td>1</td>\n",
       "      <td>0</td>\n",
       "      <td>0</td>\n",
       "      <td>0</td>\n",
       "      <td>0</td>\n",
       "    </tr>\n",
       "    <tr>\n",
       "      <th>19</th>\n",
       "      <td>1</td>\n",
       "      <td>1</td>\n",
       "      <td>0</td>\n",
       "      <td>0</td>\n",
       "      <td>1</td>\n",
       "      <td>1</td>\n",
       "      <td>0</td>\n",
       "      <td>0</td>\n",
       "      <td>0</td>\n",
       "      <td>0</td>\n",
       "      <td>0</td>\n",
       "      <td>0</td>\n",
       "      <td>1</td>\n",
       "      <td>0</td>\n",
       "      <td>0</td>\n",
       "    </tr>\n",
       "  </tbody>\n",
       "</table>\n",
       "</div>"
      ],
      "text/plain": [
       "    chicken  pizza  pasta1  meat1  veg1  rice  mac  dairy1  tacos  ice cream  \\\n",
       "0         1      0       0      0     0     1    0       0      0          0   \n",
       "1         1      0       1      1     1     0    0       1      0          1   \n",
       "2         1      1       1      0     1     1    1       1      1          0   \n",
       "3         1      1       0      1     1     0    1       1      1          1   \n",
       "4         1      1       1      1     1     1    0       0      0          1   \n",
       "5         0      0       0      0     1     0    0       0      0          0   \n",
       "6         1      1       0      1     1     0    0       0      0          1   \n",
       "7         1      0       1      1     1     0    0       0      0          1   \n",
       "8         0      0       1      1     0     0    0       0      0          1   \n",
       "9         1      0       1      0     1     1    1       1      0          0   \n",
       "10        1      0       1      0     1     0    0       0      0          0   \n",
       "11        1      0       1      1     1     0    0       0      0          0   \n",
       "12        1      1       0      1     1     0    0       0      0          0   \n",
       "13        1      0       1      1     0     1    0       0      0          1   \n",
       "14        1      1       1      1     0     1    0       0      0          0   \n",
       "15        1      1       1      0     1     1    0       0      0          0   \n",
       "16        1      0       0      1     0     0    0       0      0          0   \n",
       "17        1      0       1      1     1     1    1       1      0          1   \n",
       "18        1      0       1      1     0     0    0       0      0          0   \n",
       "19        1      1       0      0     1     1    0       0      0          0   \n",
       "\n",
       "    chocolate  potatoes  fruit1  soup  fish1  \n",
       "0           0         0       0     1      0  \n",
       "1           1         0       1     1      0  \n",
       "2           0         0       0     0      0  \n",
       "3           0         0       1     0      0  \n",
       "4           1         0       0     0      0  \n",
       "5           0         0       1     0      1  \n",
       "6           1         0       1     0      0  \n",
       "7           0         1       1     0      0  \n",
       "8           0         0       0     0      1  \n",
       "9           1         0       0     0      0  \n",
       "10          1         0       0     0      1  \n",
       "11          1         1       1     1      1  \n",
       "12          0         0       0     0      0  \n",
       "13          1         0       0     0      1  \n",
       "14          0         1       1     0      0  \n",
       "15          0         0       0     0      0  \n",
       "16          0         0       1     0      0  \n",
       "17          0         0       0     0      0  \n",
       "18          1         0       0     0      0  \n",
       "19          0         0       1     0      0  "
      ]
     },
     "execution_count": 145,
     "metadata": {},
     "output_type": "execute_result"
    }
   ],
   "source": [
    "X_df.head(20)"
   ]
  },
  {
   "cell_type": "code",
   "execution_count": 146,
   "metadata": {},
   "outputs": [],
   "source": [
    "X_df = pd.concat([X_df, all_cuisines], axis=1)"
   ]
  },
  {
   "cell_type": "code",
   "execution_count": 147,
   "metadata": {},
   "outputs": [
    {
     "data": {
      "text/html": [
       "<div>\n",
       "<style scoped>\n",
       "    .dataframe tbody tr th:only-of-type {\n",
       "        vertical-align: middle;\n",
       "    }\n",
       "\n",
       "    .dataframe tbody tr th {\n",
       "        vertical-align: top;\n",
       "    }\n",
       "\n",
       "    .dataframe thead th {\n",
       "        text-align: right;\n",
       "    }\n",
       "</style>\n",
       "<table border=\"1\" class=\"dataframe\">\n",
       "  <thead>\n",
       "    <tr style=\"text-align: right;\">\n",
       "      <th></th>\n",
       "      <th>chicken</th>\n",
       "      <th>pizza</th>\n",
       "      <th>pasta1</th>\n",
       "      <th>meat1</th>\n",
       "      <th>veg1</th>\n",
       "      <th>rice</th>\n",
       "      <th>mac</th>\n",
       "      <th>dairy1</th>\n",
       "      <th>tacos</th>\n",
       "      <th>ice cream</th>\n",
       "      <th>...</th>\n",
       "      <th>potatoes</th>\n",
       "      <th>fruit1</th>\n",
       "      <th>soup</th>\n",
       "      <th>fish1</th>\n",
       "      <th>African</th>\n",
       "      <th>Mexican</th>\n",
       "      <th>Indian</th>\n",
       "      <th>Italian</th>\n",
       "      <th>Thai</th>\n",
       "      <th>Middle Eastern</th>\n",
       "    </tr>\n",
       "  </thead>\n",
       "  <tbody>\n",
       "    <tr>\n",
       "      <th>0</th>\n",
       "      <td>1.0</td>\n",
       "      <td>0.0</td>\n",
       "      <td>0.0</td>\n",
       "      <td>0.0</td>\n",
       "      <td>0.0</td>\n",
       "      <td>1.0</td>\n",
       "      <td>0.0</td>\n",
       "      <td>0.0</td>\n",
       "      <td>0.0</td>\n",
       "      <td>0.0</td>\n",
       "      <td>...</td>\n",
       "      <td>0.0</td>\n",
       "      <td>0.0</td>\n",
       "      <td>1.0</td>\n",
       "      <td>0.0</td>\n",
       "      <td>0.0</td>\n",
       "      <td>0.0</td>\n",
       "      <td>1.0</td>\n",
       "      <td>1.0</td>\n",
       "      <td>0.0</td>\n",
       "      <td>1.0</td>\n",
       "    </tr>\n",
       "    <tr>\n",
       "      <th>1</th>\n",
       "      <td>1.0</td>\n",
       "      <td>0.0</td>\n",
       "      <td>1.0</td>\n",
       "      <td>1.0</td>\n",
       "      <td>1.0</td>\n",
       "      <td>0.0</td>\n",
       "      <td>0.0</td>\n",
       "      <td>1.0</td>\n",
       "      <td>0.0</td>\n",
       "      <td>1.0</td>\n",
       "      <td>...</td>\n",
       "      <td>0.0</td>\n",
       "      <td>1.0</td>\n",
       "      <td>1.0</td>\n",
       "      <td>0.0</td>\n",
       "      <td>0.0</td>\n",
       "      <td>0.0</td>\n",
       "      <td>1.0</td>\n",
       "      <td>1.0</td>\n",
       "      <td>0.0</td>\n",
       "      <td>1.0</td>\n",
       "    </tr>\n",
       "    <tr>\n",
       "      <th>2</th>\n",
       "      <td>1.0</td>\n",
       "      <td>1.0</td>\n",
       "      <td>1.0</td>\n",
       "      <td>0.0</td>\n",
       "      <td>1.0</td>\n",
       "      <td>1.0</td>\n",
       "      <td>1.0</td>\n",
       "      <td>1.0</td>\n",
       "      <td>1.0</td>\n",
       "      <td>0.0</td>\n",
       "      <td>...</td>\n",
       "      <td>0.0</td>\n",
       "      <td>0.0</td>\n",
       "      <td>0.0</td>\n",
       "      <td>0.0</td>\n",
       "      <td>0.0</td>\n",
       "      <td>0.0</td>\n",
       "      <td>1.0</td>\n",
       "      <td>1.0</td>\n",
       "      <td>1.0</td>\n",
       "      <td>1.0</td>\n",
       "    </tr>\n",
       "    <tr>\n",
       "      <th>3</th>\n",
       "      <td>1.0</td>\n",
       "      <td>1.0</td>\n",
       "      <td>0.0</td>\n",
       "      <td>1.0</td>\n",
       "      <td>1.0</td>\n",
       "      <td>0.0</td>\n",
       "      <td>1.0</td>\n",
       "      <td>1.0</td>\n",
       "      <td>1.0</td>\n",
       "      <td>1.0</td>\n",
       "      <td>...</td>\n",
       "      <td>0.0</td>\n",
       "      <td>1.0</td>\n",
       "      <td>0.0</td>\n",
       "      <td>0.0</td>\n",
       "      <td>0.0</td>\n",
       "      <td>0.0</td>\n",
       "      <td>1.0</td>\n",
       "      <td>1.0</td>\n",
       "      <td>1.0</td>\n",
       "      <td>1.0</td>\n",
       "    </tr>\n",
       "    <tr>\n",
       "      <th>4</th>\n",
       "      <td>1.0</td>\n",
       "      <td>1.0</td>\n",
       "      <td>1.0</td>\n",
       "      <td>1.0</td>\n",
       "      <td>1.0</td>\n",
       "      <td>1.0</td>\n",
       "      <td>0.0</td>\n",
       "      <td>0.0</td>\n",
       "      <td>0.0</td>\n",
       "      <td>1.0</td>\n",
       "      <td>...</td>\n",
       "      <td>0.0</td>\n",
       "      <td>0.0</td>\n",
       "      <td>0.0</td>\n",
       "      <td>0.0</td>\n",
       "      <td>0.0</td>\n",
       "      <td>0.0</td>\n",
       "      <td>0.0</td>\n",
       "      <td>1.0</td>\n",
       "      <td>1.0</td>\n",
       "      <td>0.0</td>\n",
       "    </tr>\n",
       "  </tbody>\n",
       "</table>\n",
       "<p>5 rows × 21 columns</p>\n",
       "</div>"
      ],
      "text/plain": [
       "   chicken  pizza  pasta1  meat1  veg1  rice  mac  dairy1  tacos  ice cream  \\\n",
       "0      1.0    0.0     0.0    0.0   0.0   1.0  0.0     0.0    0.0        0.0   \n",
       "1      1.0    0.0     1.0    1.0   1.0   0.0  0.0     1.0    0.0        1.0   \n",
       "2      1.0    1.0     1.0    0.0   1.0   1.0  1.0     1.0    1.0        0.0   \n",
       "3      1.0    1.0     0.0    1.0   1.0   0.0  1.0     1.0    1.0        1.0   \n",
       "4      1.0    1.0     1.0    1.0   1.0   1.0  0.0     0.0    0.0        1.0   \n",
       "\n",
       "        ...        potatoes  fruit1  soup  fish1  African  Mexican  Indian  \\\n",
       "0       ...             0.0     0.0   1.0    0.0      0.0      0.0     1.0   \n",
       "1       ...             0.0     1.0   1.0    0.0      0.0      0.0     1.0   \n",
       "2       ...             0.0     0.0   0.0    0.0      0.0      0.0     1.0   \n",
       "3       ...             0.0     1.0   0.0    0.0      0.0      0.0     1.0   \n",
       "4       ...             0.0     0.0   0.0    0.0      0.0      0.0     0.0   \n",
       "\n",
       "   Italian  Thai  Middle Eastern  \n",
       "0      1.0   0.0             1.0  \n",
       "1      1.0   0.0             1.0  \n",
       "2      1.0   1.0             1.0  \n",
       "3      1.0   1.0             1.0  \n",
       "4      1.0   1.0             0.0  \n",
       "\n",
       "[5 rows x 21 columns]"
      ]
     },
     "execution_count": 147,
     "metadata": {},
     "output_type": "execute_result"
    }
   ],
   "source": [
    "X_df.head()"
   ]
  },
  {
   "cell_type": "code",
   "execution_count": 148,
   "metadata": {
    "scrolled": true
   },
   "outputs": [],
   "source": [
    "food.drop(['fav_cuisine', 'fav_cuisine_coded', 'indian_food', 'italian_food', 'persian_food', 'thai_food'],\n",
    "         axis=1, inplace=True)"
   ]
  },
  {
   "cell_type": "code",
   "execution_count": 149,
   "metadata": {},
   "outputs": [
    {
     "data": {
      "text/plain": [
       "(124, 52)"
      ]
     },
     "execution_count": 149,
     "metadata": {},
     "output_type": "execute_result"
    }
   ],
   "source": [
    "food.shape"
   ]
  },
  {
   "cell_type": "code",
   "execution_count": 150,
   "metadata": {},
   "outputs": [],
   "source": [
    "food = pd.concat([food, X_df], axis=1)"
   ]
  },
  {
   "cell_type": "code",
   "execution_count": 151,
   "metadata": {},
   "outputs": [
    {
     "data": {
      "text/plain": [
       "Index(['GPA', 'Gender', 'breakfast', 'calories_chicken', 'calories_day',\n",
       "       'calories_scone', 'coffee', 'comfort_food_reasons',\n",
       "       'comfort_food_reasons_coded', 'cook', 'comfort_food_reasons_coded.1',\n",
       "       'cuisine', 'diet_current', 'diet_current_coded', 'drink',\n",
       "       'eating_changes', 'eating_changes_coded', 'eating_changes_coded1',\n",
       "       'eating_out', 'employment', 'ethnic_food', 'exercise',\n",
       "       'father_education', 'father_profession', 'fav_food', 'fries',\n",
       "       'fruit_day', 'grade_level', 'greek_food', 'healthy_feeling',\n",
       "       'ideal_diet', 'ideal_diet_coded', 'income', 'life_rewarding',\n",
       "       'marital_status', 'mother_education', 'mother_profession',\n",
       "       'nutritional_check', 'on_off_campus', 'parents_cook', 'pay_meal_out',\n",
       "       'self_perception_weight', 'sports', 'tortilla_calories',\n",
       "       'turkey_calories', 'type_sports', 'veggies_day', 'vitamins',\n",
       "       'waffle_calories', 'weight', 'all_sentences', 'favorite_cuisine',\n",
       "       'chicken', 'pizza', 'pasta1', 'meat1', 'veg1', 'rice', 'mac', 'dairy1',\n",
       "       'tacos', 'ice cream', 'chocolate', 'potatoes', 'fruit1', 'soup',\n",
       "       'fish1', 'African', 'Mexican', 'Indian', 'Italian', 'Thai',\n",
       "       'Middle Eastern'],\n",
       "      dtype='object')"
      ]
     },
     "execution_count": 151,
     "metadata": {},
     "output_type": "execute_result"
    }
   ],
   "source": [
    "food.columns"
   ]
  },
  {
   "cell_type": "code",
   "execution_count": 152,
   "metadata": {},
   "outputs": [],
   "source": [
    "food = food.rename(columns={'pasta1': 'pasta', 'meat1': 'meat', 'veg1': 'vegetables', 'dairy1': 'dairy', \n",
    "                           'fruit1': 'fruit', 'fish1': 'fish'})"
   ]
  },
  {
   "cell_type": "code",
   "execution_count": 153,
   "metadata": {},
   "outputs": [
    {
     "data": {
      "text/html": [
       "<div>\n",
       "<style scoped>\n",
       "    .dataframe tbody tr th:only-of-type {\n",
       "        vertical-align: middle;\n",
       "    }\n",
       "\n",
       "    .dataframe tbody tr th {\n",
       "        vertical-align: top;\n",
       "    }\n",
       "\n",
       "    .dataframe thead th {\n",
       "        text-align: right;\n",
       "    }\n",
       "</style>\n",
       "<table border=\"1\" class=\"dataframe\">\n",
       "  <thead>\n",
       "    <tr style=\"text-align: right;\">\n",
       "      <th></th>\n",
       "      <th>GPA</th>\n",
       "      <th>Gender</th>\n",
       "      <th>breakfast</th>\n",
       "      <th>calories_chicken</th>\n",
       "      <th>calories_day</th>\n",
       "      <th>calories_scone</th>\n",
       "      <th>coffee</th>\n",
       "      <th>comfort_food_reasons</th>\n",
       "      <th>comfort_food_reasons_coded</th>\n",
       "      <th>cook</th>\n",
       "      <th>...</th>\n",
       "      <th>potatoes</th>\n",
       "      <th>fruit</th>\n",
       "      <th>soup</th>\n",
       "      <th>fish</th>\n",
       "      <th>African</th>\n",
       "      <th>Mexican</th>\n",
       "      <th>Indian</th>\n",
       "      <th>Italian</th>\n",
       "      <th>Thai</th>\n",
       "      <th>Middle Eastern</th>\n",
       "    </tr>\n",
       "  </thead>\n",
       "  <tbody>\n",
       "    <tr>\n",
       "      <th>0</th>\n",
       "      <td>2.400</td>\n",
       "      <td>2.0</td>\n",
       "      <td>1.0</td>\n",
       "      <td>430.0</td>\n",
       "      <td>3.0</td>\n",
       "      <td>315.0</td>\n",
       "      <td>1.0</td>\n",
       "      <td>we dont have comfort</td>\n",
       "      <td>9.0</td>\n",
       "      <td>2.0</td>\n",
       "      <td>...</td>\n",
       "      <td>0.0</td>\n",
       "      <td>0.0</td>\n",
       "      <td>1.0</td>\n",
       "      <td>0.0</td>\n",
       "      <td>0.0</td>\n",
       "      <td>0.0</td>\n",
       "      <td>1.0</td>\n",
       "      <td>1.0</td>\n",
       "      <td>0.0</td>\n",
       "      <td>1.0</td>\n",
       "    </tr>\n",
       "    <tr>\n",
       "      <th>1</th>\n",
       "      <td>3.654</td>\n",
       "      <td>1.0</td>\n",
       "      <td>1.0</td>\n",
       "      <td>610.0</td>\n",
       "      <td>3.0</td>\n",
       "      <td>420.0</td>\n",
       "      <td>2.0</td>\n",
       "      <td>Stress, bored, anger</td>\n",
       "      <td>1.0</td>\n",
       "      <td>3.0</td>\n",
       "      <td>...</td>\n",
       "      <td>0.0</td>\n",
       "      <td>1.0</td>\n",
       "      <td>1.0</td>\n",
       "      <td>0.0</td>\n",
       "      <td>0.0</td>\n",
       "      <td>0.0</td>\n",
       "      <td>1.0</td>\n",
       "      <td>1.0</td>\n",
       "      <td>0.0</td>\n",
       "      <td>1.0</td>\n",
       "    </tr>\n",
       "    <tr>\n",
       "      <th>2</th>\n",
       "      <td>3.300</td>\n",
       "      <td>1.0</td>\n",
       "      <td>1.0</td>\n",
       "      <td>720.0</td>\n",
       "      <td>4.0</td>\n",
       "      <td>420.0</td>\n",
       "      <td>2.0</td>\n",
       "      <td>stress, sadness</td>\n",
       "      <td>1.0</td>\n",
       "      <td>1.0</td>\n",
       "      <td>...</td>\n",
       "      <td>0.0</td>\n",
       "      <td>0.0</td>\n",
       "      <td>0.0</td>\n",
       "      <td>0.0</td>\n",
       "      <td>0.0</td>\n",
       "      <td>0.0</td>\n",
       "      <td>1.0</td>\n",
       "      <td>1.0</td>\n",
       "      <td>1.0</td>\n",
       "      <td>1.0</td>\n",
       "    </tr>\n",
       "    <tr>\n",
       "      <th>3</th>\n",
       "      <td>3.200</td>\n",
       "      <td>1.0</td>\n",
       "      <td>1.0</td>\n",
       "      <td>430.0</td>\n",
       "      <td>3.0</td>\n",
       "      <td>420.0</td>\n",
       "      <td>2.0</td>\n",
       "      <td>Boredom</td>\n",
       "      <td>2.0</td>\n",
       "      <td>2.0</td>\n",
       "      <td>...</td>\n",
       "      <td>0.0</td>\n",
       "      <td>1.0</td>\n",
       "      <td>0.0</td>\n",
       "      <td>0.0</td>\n",
       "      <td>0.0</td>\n",
       "      <td>0.0</td>\n",
       "      <td>1.0</td>\n",
       "      <td>1.0</td>\n",
       "      <td>1.0</td>\n",
       "      <td>1.0</td>\n",
       "    </tr>\n",
       "    <tr>\n",
       "      <th>4</th>\n",
       "      <td>3.500</td>\n",
       "      <td>1.0</td>\n",
       "      <td>1.0</td>\n",
       "      <td>720.0</td>\n",
       "      <td>2.0</td>\n",
       "      <td>420.0</td>\n",
       "      <td>2.0</td>\n",
       "      <td>Stress, boredom, cravings</td>\n",
       "      <td>1.0</td>\n",
       "      <td>1.0</td>\n",
       "      <td>...</td>\n",
       "      <td>0.0</td>\n",
       "      <td>0.0</td>\n",
       "      <td>0.0</td>\n",
       "      <td>0.0</td>\n",
       "      <td>0.0</td>\n",
       "      <td>0.0</td>\n",
       "      <td>0.0</td>\n",
       "      <td>1.0</td>\n",
       "      <td>1.0</td>\n",
       "      <td>0.0</td>\n",
       "    </tr>\n",
       "  </tbody>\n",
       "</table>\n",
       "<p>5 rows × 73 columns</p>\n",
       "</div>"
      ],
      "text/plain": [
       "     GPA  Gender  breakfast  calories_chicken  calories_day  calories_scone  \\\n",
       "0  2.400     2.0        1.0             430.0           3.0           315.0   \n",
       "1  3.654     1.0        1.0             610.0           3.0           420.0   \n",
       "2  3.300     1.0        1.0             720.0           4.0           420.0   \n",
       "3  3.200     1.0        1.0             430.0           3.0           420.0   \n",
       "4  3.500     1.0        1.0             720.0           2.0           420.0   \n",
       "\n",
       "   coffee        comfort_food_reasons  comfort_food_reasons_coded  cook  \\\n",
       "0     1.0       we dont have comfort                          9.0   2.0   \n",
       "1     2.0        Stress, bored, anger                         1.0   3.0   \n",
       "2     2.0             stress, sadness                         1.0   1.0   \n",
       "3     2.0                     Boredom                         2.0   2.0   \n",
       "4     2.0  Stress, boredom, cravings                          1.0   1.0   \n",
       "\n",
       "        ...        potatoes  fruit soup  fish  African Mexican  Indian  \\\n",
       "0       ...             0.0    0.0  1.0   0.0      0.0     0.0     1.0   \n",
       "1       ...             0.0    1.0  1.0   0.0      0.0     0.0     1.0   \n",
       "2       ...             0.0    0.0  0.0   0.0      0.0     0.0     1.0   \n",
       "3       ...             0.0    1.0  0.0   0.0      0.0     0.0     1.0   \n",
       "4       ...             0.0    0.0  0.0   0.0      0.0     0.0     0.0   \n",
       "\n",
       "   Italian  Thai  Middle Eastern  \n",
       "0      1.0   0.0             1.0  \n",
       "1      1.0   0.0             1.0  \n",
       "2      1.0   1.0             1.0  \n",
       "3      1.0   1.0             1.0  \n",
       "4      1.0   1.0             0.0  \n",
       "\n",
       "[5 rows x 73 columns]"
      ]
     },
     "execution_count": 153,
     "metadata": {},
     "output_type": "execute_result"
    }
   ],
   "source": [
    "food.head()"
   ]
  },
  {
   "cell_type": "code",
   "execution_count": 154,
   "metadata": {},
   "outputs": [],
   "source": [
    "food.drop(74, axis=0, inplace=True)"
   ]
  },
  {
   "cell_type": "code",
   "execution_count": 155,
   "metadata": {},
   "outputs": [],
   "source": [
    "food.drop(124, axis=0, inplace=True)"
   ]
  },
  {
   "cell_type": "code",
   "execution_count": 156,
   "metadata": {},
   "outputs": [
    {
     "data": {
      "text/plain": [
       "GPA                             float64\n",
       "Gender                          float64\n",
       "breakfast                       float64\n",
       "calories_chicken                float64\n",
       "calories_day                    float64\n",
       "calories_scone                  float64\n",
       "coffee                          float64\n",
       "comfort_food_reasons             object\n",
       "comfort_food_reasons_coded      float64\n",
       "cook                            float64\n",
       "comfort_food_reasons_coded.1    float64\n",
       "cuisine                         float64\n",
       "diet_current                     object\n",
       "diet_current_coded              float64\n",
       "drink                           float64\n",
       "eating_changes                   object\n",
       "eating_changes_coded            float64\n",
       "eating_changes_coded1           float64\n",
       "eating_out                      float64\n",
       "employment                      float64\n",
       "ethnic_food                     float64\n",
       "exercise                        float64\n",
       "father_education                float64\n",
       "father_profession                object\n",
       "fav_food                        float64\n",
       "fries                           float64\n",
       "fruit_day                       float64\n",
       "grade_level                     float64\n",
       "greek_food                      float64\n",
       "healthy_feeling                 float64\n",
       "                                 ...   \n",
       "tortilla_calories               float64\n",
       "turkey_calories                 float64\n",
       "type_sports                      object\n",
       "veggies_day                     float64\n",
       "vitamins                        float64\n",
       "waffle_calories                 float64\n",
       "weight                          float64\n",
       "all_sentences                    object\n",
       "favorite_cuisine                 object\n",
       "chicken                         float64\n",
       "pizza                           float64\n",
       "pasta                           float64\n",
       "meat                            float64\n",
       "vegetables                      float64\n",
       "rice                            float64\n",
       "mac                             float64\n",
       "dairy                           float64\n",
       "tacos                           float64\n",
       "ice cream                       float64\n",
       "chocolate                       float64\n",
       "potatoes                        float64\n",
       "fruit                           float64\n",
       "soup                            float64\n",
       "fish                            float64\n",
       "African                         float64\n",
       "Mexican                         float64\n",
       "Indian                          float64\n",
       "Italian                         float64\n",
       "Thai                            float64\n",
       "Middle Eastern                  float64\n",
       "Length: 73, dtype: object"
      ]
     },
     "execution_count": 156,
     "metadata": {},
     "output_type": "execute_result"
    }
   ],
   "source": [
    "food.dtypes"
   ]
  },
  {
   "cell_type": "code",
   "execution_count": 157,
   "metadata": {},
   "outputs": [
    {
     "data": {
      "text/plain": [
       "array(['car racing', 'Basketball ', 'none', 'None', 'Softball', 'None.',\n",
       "       'soccer', 'field hockey', 'Running', 'Soccer and basketball ',\n",
       "       'intramural volleyball', 'Hockey', 'hockey', 'dancing ',\n",
       "       'basketball', 'Soccer', 'Tennis', 'tennis soccer gym',\n",
       "       'Gaelic Football', 'Ice hockey', 'Lacrosse ', 'snowboarding',\n",
       "       'none organized', 'softball', 'Lacrosse', 'Softball ', 'Dancing',\n",
       "       'wrestling ', 'no particular engagement ', 'Volleyball', 'soccer ',\n",
       "       'wrestling & rowing', 'Wrestling', 'Skiing', 'skiing ',\n",
       "       'Water polo and running ', 'Ice Hockey', 'rowing ', 'tennis  ',\n",
       "       'Recreational Basketball, Equestrian Team', 'Rec Volleyball',\n",
       "       'baseball', 'I danced in high school', 'horse back riding',\n",
       "       'competitive skiing', 'Rowing, Running, and Cycling',\n",
       "       'softball and basketball', 'wrestling', 'Marching Band',\n",
       "       'Collegiate Water Polo', 'None right now', 'volleyball, lacrosse',\n",
       "       'none ', 'Fotball', 'crew',\n",
       "       'Football, Basketball, Volleyball, Golf', 'hockey, soccer, golf',\n",
       "       'Running ', 'Volleyball, Track',\n",
       "       'When I can, rarely though play pool, darts, and basketball.',\n",
       "       'None at the moment', 'volleyball', 'I used to play softball ',\n",
       "       ' None', 'Tennis, Basketball', \"No, I don't play sport.\",\n",
       "       'basketball '], dtype=object)"
      ]
     },
     "execution_count": 157,
     "metadata": {},
     "output_type": "execute_result"
    }
   ],
   "source": [
    "food['type_sports'].unique()"
   ]
  },
  {
   "cell_type": "code",
   "execution_count": 158,
   "metadata": {},
   "outputs": [
    {
     "data": {
      "text/plain": [
       "'Middle Eastern'"
      ]
     },
     "execution_count": 158,
     "metadata": {},
     "output_type": "execute_result"
    }
   ],
   "source": [
    "food.columns[-1]"
   ]
  },
  {
   "cell_type": "code",
   "execution_count": 159,
   "metadata": {},
   "outputs": [],
   "source": [
    "le = LabelEncoder()\n",
    "for col in food.columns:\n",
    "#     print(col, food[col].dtypes)\n",
    "#     print(food[col].dtypes)\n",
    "    if food[col].dtypes == 'object':\n",
    "#          print(col)\n",
    "         food[col] = le.fit_transform(food[col])\n",
    "# le.transform(X[col])"
   ]
  },
  {
   "cell_type": "code",
   "execution_count": 160,
   "metadata": {},
   "outputs": [
    {
     "data": {
      "text/plain": [
       "Series([], dtype: object)"
      ]
     },
     "execution_count": 160,
     "metadata": {},
     "output_type": "execute_result"
    }
   ],
   "source": [
    "food.dtypes[food.dtypes == 'object']"
   ]
  },
  {
   "cell_type": "code",
   "execution_count": 161,
   "metadata": {},
   "outputs": [
    {
     "data": {
      "text/plain": [
       "(123, 73)"
      ]
     },
     "execution_count": 161,
     "metadata": {},
     "output_type": "execute_result"
    }
   ],
   "source": [
    "food.shape"
   ]
  },
  {
   "cell_type": "code",
   "execution_count": 162,
   "metadata": {},
   "outputs": [],
   "source": [
    "food.drop(['all_sentences', 'favorite_cuisine'], axis=1, inplace=True)"
   ]
  },
  {
   "cell_type": "code",
   "execution_count": 163,
   "metadata": {},
   "outputs": [
    {
     "data": {
      "text/html": [
       "<div>\n",
       "<style scoped>\n",
       "    .dataframe tbody tr th:only-of-type {\n",
       "        vertical-align: middle;\n",
       "    }\n",
       "\n",
       "    .dataframe tbody tr th {\n",
       "        vertical-align: top;\n",
       "    }\n",
       "\n",
       "    .dataframe thead th {\n",
       "        text-align: right;\n",
       "    }\n",
       "</style>\n",
       "<table border=\"1\" class=\"dataframe\">\n",
       "  <thead>\n",
       "    <tr style=\"text-align: right;\">\n",
       "      <th></th>\n",
       "      <th>GPA</th>\n",
       "      <th>Gender</th>\n",
       "      <th>breakfast</th>\n",
       "      <th>calories_chicken</th>\n",
       "      <th>calories_day</th>\n",
       "      <th>calories_scone</th>\n",
       "      <th>coffee</th>\n",
       "      <th>comfort_food_reasons</th>\n",
       "      <th>comfort_food_reasons_coded</th>\n",
       "      <th>cook</th>\n",
       "      <th>...</th>\n",
       "      <th>potatoes</th>\n",
       "      <th>fruit</th>\n",
       "      <th>soup</th>\n",
       "      <th>fish</th>\n",
       "      <th>African</th>\n",
       "      <th>Mexican</th>\n",
       "      <th>Indian</th>\n",
       "      <th>Italian</th>\n",
       "      <th>Thai</th>\n",
       "      <th>Middle Eastern</th>\n",
       "    </tr>\n",
       "  </thead>\n",
       "  <tbody>\n",
       "    <tr>\n",
       "      <th>2</th>\n",
       "      <td>3.30</td>\n",
       "      <td>1.0</td>\n",
       "      <td>1.0</td>\n",
       "      <td>720.0</td>\n",
       "      <td>4.0</td>\n",
       "      <td>420.0</td>\n",
       "      <td>2.0</td>\n",
       "      <td>100</td>\n",
       "      <td>1.0</td>\n",
       "      <td>1.0</td>\n",
       "      <td>...</td>\n",
       "      <td>0.0</td>\n",
       "      <td>0.0</td>\n",
       "      <td>0.0</td>\n",
       "      <td>0.0</td>\n",
       "      <td>0.0</td>\n",
       "      <td>0.0</td>\n",
       "      <td>1.0</td>\n",
       "      <td>1.0</td>\n",
       "      <td>1.0</td>\n",
       "      <td>1.0</td>\n",
       "    </tr>\n",
       "    <tr>\n",
       "      <th>4</th>\n",
       "      <td>3.50</td>\n",
       "      <td>1.0</td>\n",
       "      <td>1.0</td>\n",
       "      <td>720.0</td>\n",
       "      <td>2.0</td>\n",
       "      <td>420.0</td>\n",
       "      <td>2.0</td>\n",
       "      <td>62</td>\n",
       "      <td>1.0</td>\n",
       "      <td>1.0</td>\n",
       "      <td>...</td>\n",
       "      <td>0.0</td>\n",
       "      <td>0.0</td>\n",
       "      <td>0.0</td>\n",
       "      <td>0.0</td>\n",
       "      <td>0.0</td>\n",
       "      <td>0.0</td>\n",
       "      <td>0.0</td>\n",
       "      <td>1.0</td>\n",
       "      <td>1.0</td>\n",
       "      <td>0.0</td>\n",
       "    </tr>\n",
       "    <tr>\n",
       "      <th>10</th>\n",
       "      <td>3.50</td>\n",
       "      <td>1.0</td>\n",
       "      <td>1.0</td>\n",
       "      <td>610.0</td>\n",
       "      <td>3.0</td>\n",
       "      <td>980.0</td>\n",
       "      <td>2.0</td>\n",
       "      <td>7</td>\n",
       "      <td>2.0</td>\n",
       "      <td>1.0</td>\n",
       "      <td>...</td>\n",
       "      <td>0.0</td>\n",
       "      <td>0.0</td>\n",
       "      <td>0.0</td>\n",
       "      <td>1.0</td>\n",
       "      <td>0.0</td>\n",
       "      <td>0.0</td>\n",
       "      <td>0.0</td>\n",
       "      <td>1.0</td>\n",
       "      <td>1.0</td>\n",
       "      <td>0.0</td>\n",
       "    </tr>\n",
       "    <tr>\n",
       "      <th>24</th>\n",
       "      <td>3.90</td>\n",
       "      <td>1.0</td>\n",
       "      <td>1.0</td>\n",
       "      <td>720.0</td>\n",
       "      <td>2.0</td>\n",
       "      <td>420.0</td>\n",
       "      <td>2.0</td>\n",
       "      <td>0</td>\n",
       "      <td>6.0</td>\n",
       "      <td>1.0</td>\n",
       "      <td>...</td>\n",
       "      <td>0.0</td>\n",
       "      <td>0.0</td>\n",
       "      <td>1.0</td>\n",
       "      <td>0.0</td>\n",
       "      <td>0.0</td>\n",
       "      <td>0.0</td>\n",
       "      <td>0.0</td>\n",
       "      <td>1.0</td>\n",
       "      <td>1.0</td>\n",
       "      <td>0.0</td>\n",
       "    </tr>\n",
       "    <tr>\n",
       "      <th>35</th>\n",
       "      <td>3.00</td>\n",
       "      <td>1.0</td>\n",
       "      <td>1.0</td>\n",
       "      <td>610.0</td>\n",
       "      <td>2.0</td>\n",
       "      <td>420.0</td>\n",
       "      <td>2.0</td>\n",
       "      <td>11</td>\n",
       "      <td>2.0</td>\n",
       "      <td>1.0</td>\n",
       "      <td>...</td>\n",
       "      <td>0.0</td>\n",
       "      <td>0.0</td>\n",
       "      <td>0.0</td>\n",
       "      <td>0.0</td>\n",
       "      <td>0.0</td>\n",
       "      <td>0.0</td>\n",
       "      <td>0.0</td>\n",
       "      <td>1.0</td>\n",
       "      <td>0.0</td>\n",
       "      <td>0.0</td>\n",
       "    </tr>\n",
       "    <tr>\n",
       "      <th>44</th>\n",
       "      <td>3.20</td>\n",
       "      <td>1.0</td>\n",
       "      <td>1.0</td>\n",
       "      <td>610.0</td>\n",
       "      <td>4.0</td>\n",
       "      <td>420.0</td>\n",
       "      <td>2.0</td>\n",
       "      <td>61</td>\n",
       "      <td>1.0</td>\n",
       "      <td>1.0</td>\n",
       "      <td>...</td>\n",
       "      <td>1.0</td>\n",
       "      <td>0.0</td>\n",
       "      <td>0.0</td>\n",
       "      <td>0.0</td>\n",
       "      <td>0.0</td>\n",
       "      <td>0.0</td>\n",
       "      <td>1.0</td>\n",
       "      <td>1.0</td>\n",
       "      <td>1.0</td>\n",
       "      <td>1.0</td>\n",
       "    </tr>\n",
       "    <tr>\n",
       "      <th>58</th>\n",
       "      <td>3.50</td>\n",
       "      <td>1.0</td>\n",
       "      <td>1.0</td>\n",
       "      <td>610.0</td>\n",
       "      <td>3.0</td>\n",
       "      <td>420.0</td>\n",
       "      <td>2.0</td>\n",
       "      <td>63</td>\n",
       "      <td>1.0</td>\n",
       "      <td>1.0</td>\n",
       "      <td>...</td>\n",
       "      <td>0.0</td>\n",
       "      <td>1.0</td>\n",
       "      <td>0.0</td>\n",
       "      <td>0.0</td>\n",
       "      <td>0.0</td>\n",
       "      <td>1.0</td>\n",
       "      <td>1.0</td>\n",
       "      <td>1.0</td>\n",
       "      <td>1.0</td>\n",
       "      <td>1.0</td>\n",
       "    </tr>\n",
       "    <tr>\n",
       "      <th>64</th>\n",
       "      <td>3.50</td>\n",
       "      <td>1.0</td>\n",
       "      <td>1.0</td>\n",
       "      <td>610.0</td>\n",
       "      <td>3.0</td>\n",
       "      <td>420.0</td>\n",
       "      <td>1.0</td>\n",
       "      <td>5</td>\n",
       "      <td>2.0</td>\n",
       "      <td>1.0</td>\n",
       "      <td>...</td>\n",
       "      <td>0.0</td>\n",
       "      <td>1.0</td>\n",
       "      <td>0.0</td>\n",
       "      <td>0.0</td>\n",
       "      <td>0.0</td>\n",
       "      <td>0.0</td>\n",
       "      <td>0.0</td>\n",
       "      <td>1.0</td>\n",
       "      <td>1.0</td>\n",
       "      <td>0.0</td>\n",
       "    </tr>\n",
       "    <tr>\n",
       "      <th>84</th>\n",
       "      <td>3.83</td>\n",
       "      <td>1.0</td>\n",
       "      <td>1.0</td>\n",
       "      <td>720.0</td>\n",
       "      <td>3.0</td>\n",
       "      <td>420.0</td>\n",
       "      <td>2.0</td>\n",
       "      <td>48</td>\n",
       "      <td>3.0</td>\n",
       "      <td>1.0</td>\n",
       "      <td>...</td>\n",
       "      <td>0.0</td>\n",
       "      <td>0.0</td>\n",
       "      <td>0.0</td>\n",
       "      <td>0.0</td>\n",
       "      <td>0.0</td>\n",
       "      <td>1.0</td>\n",
       "      <td>1.0</td>\n",
       "      <td>1.0</td>\n",
       "      <td>1.0</td>\n",
       "      <td>1.0</td>\n",
       "    </tr>\n",
       "    <tr>\n",
       "      <th>112</th>\n",
       "      <td>3.90</td>\n",
       "      <td>1.0</td>\n",
       "      <td>1.0</td>\n",
       "      <td>610.0</td>\n",
       "      <td>4.0</td>\n",
       "      <td>315.0</td>\n",
       "      <td>2.0</td>\n",
       "      <td>51</td>\n",
       "      <td>2.0</td>\n",
       "      <td>1.0</td>\n",
       "      <td>...</td>\n",
       "      <td>1.0</td>\n",
       "      <td>0.0</td>\n",
       "      <td>0.0</td>\n",
       "      <td>0.0</td>\n",
       "      <td>0.0</td>\n",
       "      <td>0.0</td>\n",
       "      <td>1.0</td>\n",
       "      <td>1.0</td>\n",
       "      <td>1.0</td>\n",
       "      <td>1.0</td>\n",
       "    </tr>\n",
       "  </tbody>\n",
       "</table>\n",
       "<p>10 rows × 71 columns</p>\n",
       "</div>"
      ],
      "text/plain": [
       "      GPA  Gender  breakfast  calories_chicken  calories_day  calories_scone  \\\n",
       "2    3.30     1.0        1.0             720.0           4.0           420.0   \n",
       "4    3.50     1.0        1.0             720.0           2.0           420.0   \n",
       "10   3.50     1.0        1.0             610.0           3.0           980.0   \n",
       "24   3.90     1.0        1.0             720.0           2.0           420.0   \n",
       "35   3.00     1.0        1.0             610.0           2.0           420.0   \n",
       "44   3.20     1.0        1.0             610.0           4.0           420.0   \n",
       "58   3.50     1.0        1.0             610.0           3.0           420.0   \n",
       "64   3.50     1.0        1.0             610.0           3.0           420.0   \n",
       "84   3.83     1.0        1.0             720.0           3.0           420.0   \n",
       "112  3.90     1.0        1.0             610.0           4.0           315.0   \n",
       "\n",
       "     coffee  comfort_food_reasons  comfort_food_reasons_coded  cook  \\\n",
       "2       2.0                   100                         1.0   1.0   \n",
       "4       2.0                    62                         1.0   1.0   \n",
       "10      2.0                     7                         2.0   1.0   \n",
       "24      2.0                     0                         6.0   1.0   \n",
       "35      2.0                    11                         2.0   1.0   \n",
       "44      2.0                    61                         1.0   1.0   \n",
       "58      2.0                    63                         1.0   1.0   \n",
       "64      1.0                     5                         2.0   1.0   \n",
       "84      2.0                    48                         3.0   1.0   \n",
       "112     2.0                    51                         2.0   1.0   \n",
       "\n",
       "          ...        potatoes  fruit  soup  fish  African  Mexican  Indian  \\\n",
       "2         ...             0.0    0.0   0.0   0.0      0.0      0.0     1.0   \n",
       "4         ...             0.0    0.0   0.0   0.0      0.0      0.0     0.0   \n",
       "10        ...             0.0    0.0   0.0   1.0      0.0      0.0     0.0   \n",
       "24        ...             0.0    0.0   1.0   0.0      0.0      0.0     0.0   \n",
       "35        ...             0.0    0.0   0.0   0.0      0.0      0.0     0.0   \n",
       "44        ...             1.0    0.0   0.0   0.0      0.0      0.0     1.0   \n",
       "58        ...             0.0    1.0   0.0   0.0      0.0      1.0     1.0   \n",
       "64        ...             0.0    1.0   0.0   0.0      0.0      0.0     0.0   \n",
       "84        ...             0.0    0.0   0.0   0.0      0.0      1.0     1.0   \n",
       "112       ...             1.0    0.0   0.0   0.0      0.0      0.0     1.0   \n",
       "\n",
       "     Italian  Thai  Middle Eastern  \n",
       "2        1.0   1.0             1.0  \n",
       "4        1.0   1.0             0.0  \n",
       "10       1.0   1.0             0.0  \n",
       "24       1.0   1.0             0.0  \n",
       "35       1.0   0.0             0.0  \n",
       "44       1.0   1.0             1.0  \n",
       "58       1.0   1.0             1.0  \n",
       "64       1.0   1.0             0.0  \n",
       "84       1.0   1.0             1.0  \n",
       "112      1.0   1.0             1.0  \n",
       "\n",
       "[10 rows x 71 columns]"
      ]
     },
     "execution_count": 163,
     "metadata": {},
     "output_type": "execute_result"
    }
   ],
   "source": [
    "food.loc[(food['Gender'] == 1) & (food['cook'] == 1)]"
   ]
  },
  {
   "cell_type": "code",
   "execution_count": 164,
   "metadata": {},
   "outputs": [],
   "source": [
    "food_male = food.loc[food['Gender'] == 2]"
   ]
  },
  {
   "cell_type": "code",
   "execution_count": 165,
   "metadata": {},
   "outputs": [],
   "source": [
    "food_fem = food.loc[food['Gender'] == 1]"
   ]
  },
  {
   "cell_type": "code",
   "execution_count": 166,
   "metadata": {},
   "outputs": [],
   "source": [
    "food_c = food.loc[food['cook'] == 1]"
   ]
  },
  {
   "cell_type": "code",
   "execution_count": 167,
   "metadata": {},
   "outputs": [],
   "source": [
    "food_nc = food.loc[food['cook'] == 5]"
   ]
  },
  {
   "cell_type": "code",
   "execution_count": 168,
   "metadata": {},
   "outputs": [],
   "source": [
    "food_mc = food_male.loc[food_male['cook'] == 1]"
   ]
  },
  {
   "cell_type": "code",
   "execution_count": 169,
   "metadata": {},
   "outputs": [],
   "source": [
    "food_fc = food_fem.loc[food_fem['cook'] == 1]"
   ]
  },
  {
   "cell_type": "code",
   "execution_count": 170,
   "metadata": {},
   "outputs": [],
   "source": [
    "food_fnc = food_fem.loc[food_fem['cook'] == 5]"
   ]
  },
  {
   "cell_type": "code",
   "execution_count": 171,
   "metadata": {},
   "outputs": [],
   "source": [
    "food_mnc = food_male.loc[food_male['cook'] == 5]"
   ]
  },
  {
   "cell_type": "code",
   "execution_count": 172,
   "metadata": {},
   "outputs": [],
   "source": [
    "food_new = resample(food, n_samples=1000)"
   ]
  },
  {
   "cell_type": "code",
   "execution_count": 173,
   "metadata": {},
   "outputs": [],
   "source": [
    "food_male = resample(food_male, n_samples=1000)\n",
    "food_fem = resample(food_fem, n_samples=1000)\n",
    "food_c = resample(food_c, n_samples=1000)\n",
    "food_nc = resample(food_nc, n_samples=1000)\n"
   ]
  },
  {
   "cell_type": "code",
   "execution_count": 174,
   "metadata": {},
   "outputs": [
    {
     "data": {
      "text/plain": [
       "(1000, 71)"
      ]
     },
     "execution_count": 174,
     "metadata": {},
     "output_type": "execute_result"
    }
   ],
   "source": [
    "food_new.shape"
   ]
  },
  {
   "cell_type": "code",
   "execution_count": 175,
   "metadata": {},
   "outputs": [
    {
     "data": {
      "text/plain": [
       "Index(['GPA', 'Gender', 'breakfast', 'calories_chicken', 'calories_day',\n",
       "       'calories_scone', 'coffee', 'comfort_food_reasons',\n",
       "       'comfort_food_reasons_coded', 'cook', 'comfort_food_reasons_coded.1',\n",
       "       'cuisine', 'diet_current', 'diet_current_coded', 'drink',\n",
       "       'eating_changes', 'eating_changes_coded', 'eating_changes_coded1',\n",
       "       'eating_out', 'employment', 'ethnic_food', 'exercise',\n",
       "       'father_education', 'father_profession', 'fav_food', 'fries',\n",
       "       'fruit_day', 'grade_level', 'greek_food', 'healthy_feeling',\n",
       "       'ideal_diet', 'ideal_diet_coded', 'income', 'life_rewarding',\n",
       "       'marital_status', 'mother_education', 'mother_profession',\n",
       "       'nutritional_check', 'on_off_campus', 'parents_cook', 'pay_meal_out',\n",
       "       'self_perception_weight', 'sports', 'tortilla_calories',\n",
       "       'turkey_calories', 'type_sports', 'veggies_day', 'vitamins',\n",
       "       'waffle_calories', 'weight', 'chicken', 'pizza', 'pasta', 'meat',\n",
       "       'vegetables', 'rice', 'mac', 'dairy', 'tacos', 'ice cream', 'chocolate',\n",
       "       'potatoes', 'fruit', 'soup', 'fish', 'African', 'Mexican', 'Indian',\n",
       "       'Italian', 'Thai', 'Middle Eastern'],\n",
       "      dtype='object')"
      ]
     },
     "execution_count": 175,
     "metadata": {},
     "output_type": "execute_result"
    }
   ],
   "source": [
    "food_new.columns"
   ]
  },
  {
   "cell_type": "code",
   "execution_count": 176,
   "metadata": {},
   "outputs": [
    {
     "data": {
      "text/plain": [
       "array([ 0.,  1.])"
      ]
     },
     "execution_count": 176,
     "metadata": {},
     "output_type": "execute_result"
    }
   ],
   "source": [
    "food_new['fish'].unique()"
   ]
  },
  {
   "cell_type": "code",
   "execution_count": 177,
   "metadata": {},
   "outputs": [
    {
     "data": {
      "text/plain": [
       "GPA                             float64\n",
       "Gender                          float64\n",
       "breakfast                       float64\n",
       "calories_chicken                float64\n",
       "calories_day                    float64\n",
       "calories_scone                  float64\n",
       "coffee                          float64\n",
       "comfort_food_reasons              int64\n",
       "comfort_food_reasons_coded      float64\n",
       "cook                            float64\n",
       "comfort_food_reasons_coded.1    float64\n",
       "cuisine                         float64\n",
       "diet_current                      int64\n",
       "diet_current_coded              float64\n",
       "drink                           float64\n",
       "eating_changes                    int64\n",
       "eating_changes_coded            float64\n",
       "eating_changes_coded1           float64\n",
       "eating_out                      float64\n",
       "employment                      float64\n",
       "ethnic_food                     float64\n",
       "exercise                        float64\n",
       "father_education                float64\n",
       "father_profession                 int64\n",
       "fav_food                        float64\n",
       "fries                           float64\n",
       "fruit_day                       float64\n",
       "grade_level                     float64\n",
       "greek_food                      float64\n",
       "healthy_feeling                 float64\n",
       "                                 ...   \n",
       "self_perception_weight          float64\n",
       "sports                          float64\n",
       "tortilla_calories               float64\n",
       "turkey_calories                 float64\n",
       "type_sports                       int64\n",
       "veggies_day                     float64\n",
       "vitamins                        float64\n",
       "waffle_calories                 float64\n",
       "weight                          float64\n",
       "chicken                         float64\n",
       "pizza                           float64\n",
       "pasta                           float64\n",
       "meat                            float64\n",
       "vegetables                      float64\n",
       "rice                            float64\n",
       "mac                             float64\n",
       "dairy                           float64\n",
       "tacos                           float64\n",
       "ice cream                       float64\n",
       "chocolate                       float64\n",
       "potatoes                        float64\n",
       "fruit                           float64\n",
       "soup                            float64\n",
       "fish                            float64\n",
       "African                         float64\n",
       "Mexican                         float64\n",
       "Indian                          float64\n",
       "Italian                         float64\n",
       "Thai                            float64\n",
       "Middle Eastern                  float64\n",
       "Length: 71, dtype: object"
      ]
     },
     "execution_count": 177,
     "metadata": {},
     "output_type": "execute_result"
    }
   ],
   "source": [
    "food_new.dtypes"
   ]
  },
  {
   "cell_type": "markdown",
   "metadata": {},
   "source": [
    "###Train Test Split over entire dataframe"
   ]
  },
  {
   "cell_type": "code",
   "execution_count": 178,
   "metadata": {},
   "outputs": [],
   "source": [
    "X_a =  food_new.drop(['chicken', 'pizza', 'pasta', 'meat', 'vegetables', 'rice', 'mac',\n",
    "       'dairy', 'tacos', 'ice cream', 'chocolate', 'potatoes', 'fruit', 'soup',\n",
    "       'fish', 'African', 'Mexican', 'Indian', 'Italian', 'Thai',\n",
    "       'Middle Eastern'], axis=1)\n",
    "y_a = food_new[['chicken', 'pizza', 'pasta', 'meat', 'vegetables', 'rice', 'mac',\n",
    "       'dairy', 'tacos', 'ice cream', 'chocolate', 'potatoes', 'fruit', 'soup',\n",
    "       'fish', 'African', 'Mexican', 'Indian', 'Italian', 'Thai',\n",
    "       'Middle Eastern']]"
   ]
  },
  {
   "cell_type": "code",
   "execution_count": 179,
   "metadata": {},
   "outputs": [],
   "source": [
    "Xa_train, Xa_test, ya_train, ya_test = train_test_split(X_a, y_a, test_size=0.33)"
   ]
  },
  {
   "cell_type": "code",
   "execution_count": 180,
   "metadata": {},
   "outputs": [],
   "source": [
    "# ovr = MultiOutputClassifier(LogisticRegression())"
   ]
  },
  {
   "cell_type": "code",
   "execution_count": 181,
   "metadata": {},
   "outputs": [],
   "source": [
    "# pred = ovr.fit(Xa_train, ya_train).predict(Xa_test)"
   ]
  },
  {
   "cell_type": "code",
   "execution_count": 182,
   "metadata": {},
   "outputs": [],
   "source": [
    "# pred = pd.DataFrame(pred, columns=['chicken', 'pizza', 'pasta', 'meat', 'vegetables', 'rice', 'mac',\n",
    "#        'dairy', 'tacos', 'ice cream', 'chocolate', 'potatoes', 'fruit', 'soup',\n",
    "#        'fish', 'African', 'Mexican', 'Indian', 'Italian', 'Thai',\n",
    "#        'Middle Eastern'])"
   ]
  },
  {
   "cell_type": "code",
   "execution_count": 183,
   "metadata": {},
   "outputs": [],
   "source": [
    "rfc = MultiOutputClassifier(RandomForestClassifier())\n"
   ]
  },
  {
   "cell_type": "code",
   "execution_count": 184,
   "metadata": {},
   "outputs": [],
   "source": [
    "pred_2 = rfc.fit(Xa_train, ya_train).predict(Xa_test)"
   ]
  },
  {
   "cell_type": "code",
   "execution_count": 185,
   "metadata": {},
   "outputs": [],
   "source": [
    "pred_2 = pd.DataFrame(pred_2, columns=['chicken', 'pizza', 'pasta', 'meat', 'vegetables', 'rice', 'mac',\n",
    "       'dairy', 'tacos', 'ice cream', 'chocolate', 'potatoes', 'fruit', 'soup',\n",
    "       'fish', 'African', 'Mexican', 'Indian', 'Italian', 'Thai',\n",
    "       'Middle Eastern'])"
   ]
  },
  {
   "cell_type": "code",
   "execution_count": 186,
   "metadata": {},
   "outputs": [
    {
     "data": {
      "text/html": [
       "<div>\n",
       "<style scoped>\n",
       "    .dataframe tbody tr th:only-of-type {\n",
       "        vertical-align: middle;\n",
       "    }\n",
       "\n",
       "    .dataframe tbody tr th {\n",
       "        vertical-align: top;\n",
       "    }\n",
       "\n",
       "    .dataframe thead th {\n",
       "        text-align: right;\n",
       "    }\n",
       "</style>\n",
       "<table border=\"1\" class=\"dataframe\">\n",
       "  <thead>\n",
       "    <tr style=\"text-align: right;\">\n",
       "      <th></th>\n",
       "      <th>chicken</th>\n",
       "      <th>pizza</th>\n",
       "      <th>pasta</th>\n",
       "      <th>meat</th>\n",
       "      <th>vegetables</th>\n",
       "      <th>rice</th>\n",
       "      <th>mac</th>\n",
       "      <th>dairy</th>\n",
       "      <th>tacos</th>\n",
       "      <th>ice cream</th>\n",
       "      <th>...</th>\n",
       "      <th>potatoes</th>\n",
       "      <th>fruit</th>\n",
       "      <th>soup</th>\n",
       "      <th>fish</th>\n",
       "      <th>African</th>\n",
       "      <th>Mexican</th>\n",
       "      <th>Indian</th>\n",
       "      <th>Italian</th>\n",
       "      <th>Thai</th>\n",
       "      <th>Middle Eastern</th>\n",
       "    </tr>\n",
       "  </thead>\n",
       "  <tbody>\n",
       "    <tr>\n",
       "      <th>0</th>\n",
       "      <td>1.0</td>\n",
       "      <td>0.0</td>\n",
       "      <td>0.0</td>\n",
       "      <td>1.0</td>\n",
       "      <td>0.0</td>\n",
       "      <td>0.0</td>\n",
       "      <td>0.0</td>\n",
       "      <td>0.0</td>\n",
       "      <td>0.0</td>\n",
       "      <td>0.0</td>\n",
       "      <td>...</td>\n",
       "      <td>0.0</td>\n",
       "      <td>1.0</td>\n",
       "      <td>0.0</td>\n",
       "      <td>0.0</td>\n",
       "      <td>0.0</td>\n",
       "      <td>0.0</td>\n",
       "      <td>1.0</td>\n",
       "      <td>0.0</td>\n",
       "      <td>0.0</td>\n",
       "      <td>0.0</td>\n",
       "    </tr>\n",
       "    <tr>\n",
       "      <th>1</th>\n",
       "      <td>1.0</td>\n",
       "      <td>1.0</td>\n",
       "      <td>0.0</td>\n",
       "      <td>1.0</td>\n",
       "      <td>1.0</td>\n",
       "      <td>0.0</td>\n",
       "      <td>1.0</td>\n",
       "      <td>1.0</td>\n",
       "      <td>0.0</td>\n",
       "      <td>0.0</td>\n",
       "      <td>...</td>\n",
       "      <td>0.0</td>\n",
       "      <td>1.0</td>\n",
       "      <td>0.0</td>\n",
       "      <td>0.0</td>\n",
       "      <td>0.0</td>\n",
       "      <td>0.0</td>\n",
       "      <td>0.0</td>\n",
       "      <td>1.0</td>\n",
       "      <td>0.0</td>\n",
       "      <td>0.0</td>\n",
       "    </tr>\n",
       "    <tr>\n",
       "      <th>2</th>\n",
       "      <td>0.0</td>\n",
       "      <td>1.0</td>\n",
       "      <td>1.0</td>\n",
       "      <td>0.0</td>\n",
       "      <td>1.0</td>\n",
       "      <td>0.0</td>\n",
       "      <td>0.0</td>\n",
       "      <td>0.0</td>\n",
       "      <td>0.0</td>\n",
       "      <td>0.0</td>\n",
       "      <td>...</td>\n",
       "      <td>0.0</td>\n",
       "      <td>0.0</td>\n",
       "      <td>0.0</td>\n",
       "      <td>0.0</td>\n",
       "      <td>0.0</td>\n",
       "      <td>0.0</td>\n",
       "      <td>1.0</td>\n",
       "      <td>1.0</td>\n",
       "      <td>1.0</td>\n",
       "      <td>0.0</td>\n",
       "    </tr>\n",
       "    <tr>\n",
       "      <th>3</th>\n",
       "      <td>1.0</td>\n",
       "      <td>1.0</td>\n",
       "      <td>0.0</td>\n",
       "      <td>0.0</td>\n",
       "      <td>1.0</td>\n",
       "      <td>1.0</td>\n",
       "      <td>0.0</td>\n",
       "      <td>0.0</td>\n",
       "      <td>0.0</td>\n",
       "      <td>0.0</td>\n",
       "      <td>...</td>\n",
       "      <td>0.0</td>\n",
       "      <td>1.0</td>\n",
       "      <td>0.0</td>\n",
       "      <td>0.0</td>\n",
       "      <td>0.0</td>\n",
       "      <td>0.0</td>\n",
       "      <td>0.0</td>\n",
       "      <td>1.0</td>\n",
       "      <td>0.0</td>\n",
       "      <td>1.0</td>\n",
       "    </tr>\n",
       "    <tr>\n",
       "      <th>4</th>\n",
       "      <td>1.0</td>\n",
       "      <td>1.0</td>\n",
       "      <td>0.0</td>\n",
       "      <td>1.0</td>\n",
       "      <td>1.0</td>\n",
       "      <td>1.0</td>\n",
       "      <td>0.0</td>\n",
       "      <td>0.0</td>\n",
       "      <td>0.0</td>\n",
       "      <td>1.0</td>\n",
       "      <td>...</td>\n",
       "      <td>0.0</td>\n",
       "      <td>0.0</td>\n",
       "      <td>0.0</td>\n",
       "      <td>0.0</td>\n",
       "      <td>0.0</td>\n",
       "      <td>0.0</td>\n",
       "      <td>0.0</td>\n",
       "      <td>1.0</td>\n",
       "      <td>0.0</td>\n",
       "      <td>0.0</td>\n",
       "    </tr>\n",
       "  </tbody>\n",
       "</table>\n",
       "<p>5 rows × 21 columns</p>\n",
       "</div>"
      ],
      "text/plain": [
       "   chicken  pizza  pasta  meat  vegetables  rice  mac  dairy  tacos  \\\n",
       "0      1.0    0.0    0.0   1.0         0.0   0.0  0.0    0.0    0.0   \n",
       "1      1.0    1.0    0.0   1.0         1.0   0.0  1.0    1.0    0.0   \n",
       "2      0.0    1.0    1.0   0.0         1.0   0.0  0.0    0.0    0.0   \n",
       "3      1.0    1.0    0.0   0.0         1.0   1.0  0.0    0.0    0.0   \n",
       "4      1.0    1.0    0.0   1.0         1.0   1.0  0.0    0.0    0.0   \n",
       "\n",
       "   ice cream       ...        potatoes  fruit  soup  fish  African  Mexican  \\\n",
       "0        0.0       ...             0.0    1.0   0.0   0.0      0.0      0.0   \n",
       "1        0.0       ...             0.0    1.0   0.0   0.0      0.0      0.0   \n",
       "2        0.0       ...             0.0    0.0   0.0   0.0      0.0      0.0   \n",
       "3        0.0       ...             0.0    1.0   0.0   0.0      0.0      0.0   \n",
       "4        1.0       ...             0.0    0.0   0.0   0.0      0.0      0.0   \n",
       "\n",
       "   Indian  Italian  Thai  Middle Eastern  \n",
       "0     1.0      0.0   0.0             0.0  \n",
       "1     0.0      1.0   0.0             0.0  \n",
       "2     1.0      1.0   1.0             0.0  \n",
       "3     0.0      1.0   0.0             1.0  \n",
       "4     0.0      1.0   0.0             0.0  \n",
       "\n",
       "[5 rows x 21 columns]"
      ]
     },
     "execution_count": 186,
     "metadata": {},
     "output_type": "execute_result"
    }
   ],
   "source": [
    "pred_2.head()"
   ]
  },
  {
   "cell_type": "code",
   "execution_count": 187,
   "metadata": {},
   "outputs": [
    {
     "data": {
      "text/plain": [
       "0.41818181818181815"
      ]
     },
     "execution_count": 187,
     "metadata": {},
     "output_type": "execute_result"
    }
   ],
   "source": [
    "pred_2['Indian'].mean()"
   ]
  },
  {
   "cell_type": "code",
   "execution_count": 188,
   "metadata": {},
   "outputs": [],
   "source": [
    "Itali = pred_2.loc[pred_2['Italian'] == 1]"
   ]
  },
  {
   "cell_type": "code",
   "execution_count": 189,
   "metadata": {},
   "outputs": [
    {
     "data": {
      "text/plain": [
       "0.1189710610932476"
      ]
     },
     "execution_count": 189,
     "metadata": {},
     "output_type": "execute_result"
    }
   ],
   "source": [
    "Itali['Mexican'].mean()"
   ]
  },
  {
   "cell_type": "code",
   "execution_count": 190,
   "metadata": {},
   "outputs": [
    {
     "data": {
      "text/plain": [
       "1.0"
      ]
     },
     "execution_count": 190,
     "metadata": {},
     "output_type": "execute_result"
    }
   ],
   "source": [
    "rfc.score(Xa_test, ya_test)"
   ]
  },
  {
   "cell_type": "code",
   "execution_count": 191,
   "metadata": {},
   "outputs": [
    {
     "data": {
      "text/plain": [
       "0.0"
      ]
     },
     "execution_count": 191,
     "metadata": {},
     "output_type": "execute_result"
    }
   ],
   "source": [
    "mean_squared_error(ya_test, pred_2)"
   ]
  },
  {
   "cell_type": "code",
   "execution_count": 192,
   "metadata": {
    "scrolled": true
   },
   "outputs": [
    {
     "data": {
      "text/plain": [
       "Index(['GPA', 'Gender', 'breakfast', 'calories_chicken', 'calories_day',\n",
       "       'calories_scone', 'coffee', 'comfort_food_reasons',\n",
       "       'comfort_food_reasons_coded', 'cook', 'comfort_food_reasons_coded.1',\n",
       "       'cuisine', 'diet_current', 'diet_current_coded', 'drink',\n",
       "       'eating_changes', 'eating_changes_coded', 'eating_changes_coded1',\n",
       "       'eating_out', 'employment', 'ethnic_food', 'exercise',\n",
       "       'father_education', 'father_profession', 'fav_food', 'fries',\n",
       "       'fruit_day', 'grade_level', 'greek_food', 'healthy_feeling',\n",
       "       'ideal_diet', 'ideal_diet_coded', 'income', 'life_rewarding',\n",
       "       'marital_status', 'mother_education', 'mother_profession',\n",
       "       'nutritional_check', 'on_off_campus', 'parents_cook', 'pay_meal_out',\n",
       "       'self_perception_weight', 'sports', 'tortilla_calories',\n",
       "       'turkey_calories', 'type_sports', 'veggies_day', 'vitamins',\n",
       "       'waffle_calories', 'weight'],\n",
       "      dtype='object')"
      ]
     },
     "execution_count": 192,
     "metadata": {},
     "output_type": "execute_result"
    }
   ],
   "source": [
    "Xa_test.columns"
   ]
  },
  {
   "cell_type": "code",
   "execution_count": 193,
   "metadata": {},
   "outputs": [
    {
     "data": {
      "text/html": [
       "<div>\n",
       "<style scoped>\n",
       "    .dataframe tbody tr th:only-of-type {\n",
       "        vertical-align: middle;\n",
       "    }\n",
       "\n",
       "    .dataframe tbody tr th {\n",
       "        vertical-align: top;\n",
       "    }\n",
       "\n",
       "    .dataframe thead th {\n",
       "        text-align: right;\n",
       "    }\n",
       "</style>\n",
       "<table border=\"1\" class=\"dataframe\">\n",
       "  <thead>\n",
       "    <tr style=\"text-align: right;\">\n",
       "      <th></th>\n",
       "      <th>pay_meal_out</th>\n",
       "      <th>self_perception_weight</th>\n",
       "      <th>sports</th>\n",
       "      <th>tortilla_calories</th>\n",
       "      <th>turkey_calories</th>\n",
       "      <th>type_sports</th>\n",
       "      <th>veggies_day</th>\n",
       "      <th>vitamins</th>\n",
       "      <th>waffle_calories</th>\n",
       "      <th>weight</th>\n",
       "    </tr>\n",
       "  </thead>\n",
       "  <tbody>\n",
       "    <tr>\n",
       "      <th>16</th>\n",
       "      <td>2.0</td>\n",
       "      <td>3.0</td>\n",
       "      <td>2.0</td>\n",
       "      <td>580.0</td>\n",
       "      <td>345.0</td>\n",
       "      <td>16</td>\n",
       "      <td>5.0</td>\n",
       "      <td>1.0</td>\n",
       "      <td>760.0</td>\n",
       "      <td>145.0</td>\n",
       "    </tr>\n",
       "    <tr>\n",
       "      <th>66</th>\n",
       "      <td>3.0</td>\n",
       "      <td>2.0</td>\n",
       "      <td>1.0</td>\n",
       "      <td>940.0</td>\n",
       "      <td>500.0</td>\n",
       "      <td>60</td>\n",
       "      <td>5.0</td>\n",
       "      <td>1.0</td>\n",
       "      <td>900.0</td>\n",
       "      <td>125.0</td>\n",
       "    </tr>\n",
       "    <tr>\n",
       "      <th>22</th>\n",
       "      <td>5.0</td>\n",
       "      <td>2.0</td>\n",
       "      <td>1.0</td>\n",
       "      <td>940.0</td>\n",
       "      <td>850.0</td>\n",
       "      <td>61</td>\n",
       "      <td>3.0</td>\n",
       "      <td>1.0</td>\n",
       "      <td>1315.0</td>\n",
       "      <td>185.0</td>\n",
       "    </tr>\n",
       "    <tr>\n",
       "      <th>105</th>\n",
       "      <td>5.0</td>\n",
       "      <td>3.0</td>\n",
       "      <td>1.0</td>\n",
       "      <td>1165.0</td>\n",
       "      <td>690.0</td>\n",
       "      <td>62</td>\n",
       "      <td>2.0</td>\n",
       "      <td>2.0</td>\n",
       "      <td>1315.0</td>\n",
       "      <td>125.0</td>\n",
       "    </tr>\n",
       "    <tr>\n",
       "      <th>26</th>\n",
       "      <td>4.0</td>\n",
       "      <td>2.0</td>\n",
       "      <td>1.0</td>\n",
       "      <td>1165.0</td>\n",
       "      <td>850.0</td>\n",
       "      <td>7</td>\n",
       "      <td>3.0</td>\n",
       "      <td>2.0</td>\n",
       "      <td>1315.0</td>\n",
       "      <td>160.0</td>\n",
       "    </tr>\n",
       "  </tbody>\n",
       "</table>\n",
       "</div>"
      ],
      "text/plain": [
       "     pay_meal_out  self_perception_weight  sports  tortilla_calories  \\\n",
       "16            2.0                     3.0     2.0              580.0   \n",
       "66            3.0                     2.0     1.0              940.0   \n",
       "22            5.0                     2.0     1.0              940.0   \n",
       "105           5.0                     3.0     1.0             1165.0   \n",
       "26            4.0                     2.0     1.0             1165.0   \n",
       "\n",
       "     turkey_calories  type_sports  veggies_day  vitamins  waffle_calories  \\\n",
       "16             345.0           16          5.0       1.0            760.0   \n",
       "66             500.0           60          5.0       1.0            900.0   \n",
       "22             850.0           61          3.0       1.0           1315.0   \n",
       "105            690.0           62          2.0       2.0           1315.0   \n",
       "26             850.0            7          3.0       2.0           1315.0   \n",
       "\n",
       "     weight  \n",
       "16    145.0  \n",
       "66    125.0  \n",
       "22    185.0  \n",
       "105   125.0  \n",
       "26    160.0  "
      ]
     },
     "execution_count": 193,
     "metadata": {},
     "output_type": "execute_result"
    }
   ],
   "source": [
    "Xa_test.iloc[:5, 40:50]"
   ]
  },
  {
   "cell_type": "code",
   "execution_count": 194,
   "metadata": {},
   "outputs": [],
   "source": [
    "a = ['3.5', '2.0', '679.0', '3.0', '420.0', '1.0', '21', '3.0', '1.0', '5.0',\n",
    "                  '1.0', '53', '9', '2.0', '1.0', '73', '2.0', '12.0', '4.0', '3.0', '5.0',\n",
    "                  '1.0', '3.0', '100', '1.0', '1.0', '5.0', '4.0', '4.0', '10.0', '25', '6.0',\n",
    "                   '6.0', '2.0', '2.0', '4.0', '73', '4.0', '1.0', '1.0', '3.0', '4.0', '1.0',\n",
    "                   '1165.0', '850.0', '37', '4.0', '1.0', '1315.0', '200.0']"
   ]
  },
  {
   "cell_type": "code",
   "execution_count": 195,
   "metadata": {},
   "outputs": [],
   "source": [
    "###Train Test Split for all females"
   ]
  },
  {
   "cell_type": "code",
   "execution_count": 196,
   "metadata": {},
   "outputs": [],
   "source": [
    "X_f =  food_fem.drop(['chicken', 'pizza', 'pasta', 'meat', 'vegetables', 'rice', 'mac',\n",
    "       'dairy', 'tacos', 'ice cream', 'chocolate', 'potatoes', 'fruit', 'soup',\n",
    "       'fish', 'African', 'Mexican', 'Indian', 'Italian', 'Thai',\n",
    "       'Middle Eastern'], axis=1)\n",
    "y_f = food_fem[['chicken', 'pizza', 'pasta', 'meat', 'vegetables', 'rice', 'mac',\n",
    "       'dairy', 'tacos', 'ice cream', 'chocolate', 'potatoes', 'fruit', 'soup',\n",
    "       'fish', 'African', 'Mexican', 'Indian', 'Italian', 'Thai',\n",
    "       'Middle Eastern']]"
   ]
  },
  {
   "cell_type": "code",
   "execution_count": 197,
   "metadata": {},
   "outputs": [],
   "source": [
    "Xf_train, Xf_test, yf_train, yf_test = train_test_split(X_f, y_f, test_size=0.20)"
   ]
  },
  {
   "cell_type": "code",
   "execution_count": 198,
   "metadata": {},
   "outputs": [],
   "source": [
    "pred_f = rfc.fit(Xf_train, yf_train).predict(Xf_test)"
   ]
  },
  {
   "cell_type": "code",
   "execution_count": 199,
   "metadata": {},
   "outputs": [],
   "source": [
    "pred_f = pd.DataFrame(pred_f, columns=['chicken', 'pizza', 'pasta', 'meat', 'vegetables', 'rice', 'mac',\n",
    "       'dairy', 'tacos', 'ice cream', 'chocolate', 'potatoes', 'fruit', 'soup',\n",
    "       'fish', 'African', 'Mexican', 'Indian', 'Italian', 'Thai',\n",
    "       'Middle Eastern'])"
   ]
  },
  {
   "cell_type": "code",
   "execution_count": 200,
   "metadata": {},
   "outputs": [
    {
     "data": {
      "text/html": [
       "<div>\n",
       "<style scoped>\n",
       "    .dataframe tbody tr th:only-of-type {\n",
       "        vertical-align: middle;\n",
       "    }\n",
       "\n",
       "    .dataframe tbody tr th {\n",
       "        vertical-align: top;\n",
       "    }\n",
       "\n",
       "    .dataframe thead th {\n",
       "        text-align: right;\n",
       "    }\n",
       "</style>\n",
       "<table border=\"1\" class=\"dataframe\">\n",
       "  <thead>\n",
       "    <tr style=\"text-align: right;\">\n",
       "      <th></th>\n",
       "      <th>chicken</th>\n",
       "      <th>pizza</th>\n",
       "      <th>pasta</th>\n",
       "      <th>meat</th>\n",
       "      <th>vegetables</th>\n",
       "      <th>rice</th>\n",
       "      <th>mac</th>\n",
       "      <th>dairy</th>\n",
       "      <th>tacos</th>\n",
       "      <th>ice cream</th>\n",
       "      <th>...</th>\n",
       "      <th>potatoes</th>\n",
       "      <th>fruit</th>\n",
       "      <th>soup</th>\n",
       "      <th>fish</th>\n",
       "      <th>African</th>\n",
       "      <th>Mexican</th>\n",
       "      <th>Indian</th>\n",
       "      <th>Italian</th>\n",
       "      <th>Thai</th>\n",
       "      <th>Middle Eastern</th>\n",
       "    </tr>\n",
       "  </thead>\n",
       "  <tbody>\n",
       "    <tr>\n",
       "      <th>0</th>\n",
       "      <td>1.0</td>\n",
       "      <td>0.0</td>\n",
       "      <td>1.0</td>\n",
       "      <td>1.0</td>\n",
       "      <td>1.0</td>\n",
       "      <td>0.0</td>\n",
       "      <td>0.0</td>\n",
       "      <td>1.0</td>\n",
       "      <td>0.0</td>\n",
       "      <td>1.0</td>\n",
       "      <td>...</td>\n",
       "      <td>0.0</td>\n",
       "      <td>1.0</td>\n",
       "      <td>1.0</td>\n",
       "      <td>0.0</td>\n",
       "      <td>0.0</td>\n",
       "      <td>0.0</td>\n",
       "      <td>1.0</td>\n",
       "      <td>1.0</td>\n",
       "      <td>0.0</td>\n",
       "      <td>1.0</td>\n",
       "    </tr>\n",
       "    <tr>\n",
       "      <th>1</th>\n",
       "      <td>1.0</td>\n",
       "      <td>0.0</td>\n",
       "      <td>1.0</td>\n",
       "      <td>1.0</td>\n",
       "      <td>1.0</td>\n",
       "      <td>1.0</td>\n",
       "      <td>0.0</td>\n",
       "      <td>0.0</td>\n",
       "      <td>0.0</td>\n",
       "      <td>0.0</td>\n",
       "      <td>...</td>\n",
       "      <td>0.0</td>\n",
       "      <td>0.0</td>\n",
       "      <td>1.0</td>\n",
       "      <td>0.0</td>\n",
       "      <td>0.0</td>\n",
       "      <td>0.0</td>\n",
       "      <td>0.0</td>\n",
       "      <td>1.0</td>\n",
       "      <td>1.0</td>\n",
       "      <td>0.0</td>\n",
       "    </tr>\n",
       "    <tr>\n",
       "      <th>2</th>\n",
       "      <td>1.0</td>\n",
       "      <td>1.0</td>\n",
       "      <td>0.0</td>\n",
       "      <td>1.0</td>\n",
       "      <td>1.0</td>\n",
       "      <td>0.0</td>\n",
       "      <td>1.0</td>\n",
       "      <td>1.0</td>\n",
       "      <td>0.0</td>\n",
       "      <td>0.0</td>\n",
       "      <td>...</td>\n",
       "      <td>0.0</td>\n",
       "      <td>1.0</td>\n",
       "      <td>0.0</td>\n",
       "      <td>0.0</td>\n",
       "      <td>0.0</td>\n",
       "      <td>0.0</td>\n",
       "      <td>0.0</td>\n",
       "      <td>1.0</td>\n",
       "      <td>0.0</td>\n",
       "      <td>0.0</td>\n",
       "    </tr>\n",
       "    <tr>\n",
       "      <th>3</th>\n",
       "      <td>1.0</td>\n",
       "      <td>0.0</td>\n",
       "      <td>1.0</td>\n",
       "      <td>1.0</td>\n",
       "      <td>1.0</td>\n",
       "      <td>0.0</td>\n",
       "      <td>0.0</td>\n",
       "      <td>0.0</td>\n",
       "      <td>0.0</td>\n",
       "      <td>0.0</td>\n",
       "      <td>...</td>\n",
       "      <td>0.0</td>\n",
       "      <td>1.0</td>\n",
       "      <td>1.0</td>\n",
       "      <td>0.0</td>\n",
       "      <td>0.0</td>\n",
       "      <td>0.0</td>\n",
       "      <td>0.0</td>\n",
       "      <td>1.0</td>\n",
       "      <td>0.0</td>\n",
       "      <td>0.0</td>\n",
       "    </tr>\n",
       "    <tr>\n",
       "      <th>4</th>\n",
       "      <td>0.0</td>\n",
       "      <td>1.0</td>\n",
       "      <td>1.0</td>\n",
       "      <td>1.0</td>\n",
       "      <td>1.0</td>\n",
       "      <td>0.0</td>\n",
       "      <td>0.0</td>\n",
       "      <td>0.0</td>\n",
       "      <td>0.0</td>\n",
       "      <td>0.0</td>\n",
       "      <td>...</td>\n",
       "      <td>0.0</td>\n",
       "      <td>1.0</td>\n",
       "      <td>0.0</td>\n",
       "      <td>0.0</td>\n",
       "      <td>0.0</td>\n",
       "      <td>0.0</td>\n",
       "      <td>0.0</td>\n",
       "      <td>1.0</td>\n",
       "      <td>1.0</td>\n",
       "      <td>0.0</td>\n",
       "    </tr>\n",
       "  </tbody>\n",
       "</table>\n",
       "<p>5 rows × 21 columns</p>\n",
       "</div>"
      ],
      "text/plain": [
       "   chicken  pizza  pasta  meat  vegetables  rice  mac  dairy  tacos  \\\n",
       "0      1.0    0.0    1.0   1.0         1.0   0.0  0.0    1.0    0.0   \n",
       "1      1.0    0.0    1.0   1.0         1.0   1.0  0.0    0.0    0.0   \n",
       "2      1.0    1.0    0.0   1.0         1.0   0.0  1.0    1.0    0.0   \n",
       "3      1.0    0.0    1.0   1.0         1.0   0.0  0.0    0.0    0.0   \n",
       "4      0.0    1.0    1.0   1.0         1.0   0.0  0.0    0.0    0.0   \n",
       "\n",
       "   ice cream       ...        potatoes  fruit  soup  fish  African  Mexican  \\\n",
       "0        1.0       ...             0.0    1.0   1.0   0.0      0.0      0.0   \n",
       "1        0.0       ...             0.0    0.0   1.0   0.0      0.0      0.0   \n",
       "2        0.0       ...             0.0    1.0   0.0   0.0      0.0      0.0   \n",
       "3        0.0       ...             0.0    1.0   1.0   0.0      0.0      0.0   \n",
       "4        0.0       ...             0.0    1.0   0.0   0.0      0.0      0.0   \n",
       "\n",
       "   Indian  Italian  Thai  Middle Eastern  \n",
       "0     1.0      1.0   0.0             1.0  \n",
       "1     0.0      1.0   1.0             0.0  \n",
       "2     0.0      1.0   0.0             0.0  \n",
       "3     0.0      1.0   0.0             0.0  \n",
       "4     0.0      1.0   1.0             0.0  \n",
       "\n",
       "[5 rows x 21 columns]"
      ]
     },
     "execution_count": 200,
     "metadata": {},
     "output_type": "execute_result"
    }
   ],
   "source": [
    "pred_f.head()"
   ]
  },
  {
   "cell_type": "code",
   "execution_count": 201,
   "metadata": {},
   "outputs": [
    {
     "data": {
      "text/plain": [
       "0.13"
      ]
     },
     "execution_count": 201,
     "metadata": {},
     "output_type": "execute_result"
    }
   ],
   "source": [
    "pred_f['tacos'].mean()"
   ]
  },
  {
   "cell_type": "code",
   "execution_count": 202,
   "metadata": {},
   "outputs": [],
   "source": [
    "pred_ff = pred_f.loc[pred_f['chicken'] == 1]"
   ]
  },
  {
   "cell_type": "code",
   "execution_count": 203,
   "metadata": {},
   "outputs": [
    {
     "data": {
      "text/plain": [
       "(156, 21)"
      ]
     },
     "execution_count": 203,
     "metadata": {},
     "output_type": "execute_result"
    }
   ],
   "source": [
    "pred_ff.shape"
   ]
  },
  {
   "cell_type": "code",
   "execution_count": 204,
   "metadata": {},
   "outputs": [
    {
     "data": {
      "text/plain": [
       "0.14743589743589744"
      ]
     },
     "execution_count": 204,
     "metadata": {},
     "output_type": "execute_result"
    }
   ],
   "source": [
    "pred_ff['tacos'].mean()"
   ]
  },
  {
   "cell_type": "code",
   "execution_count": 205,
   "metadata": {},
   "outputs": [],
   "source": [
    "###Train Test Split for all males"
   ]
  },
  {
   "cell_type": "code",
   "execution_count": 206,
   "metadata": {},
   "outputs": [],
   "source": [
    "X_m =  food_male.drop(['chicken', 'pizza', 'pasta', 'meat', 'vegetables', 'rice', 'mac',\n",
    "       'dairy', 'tacos', 'ice cream', 'chocolate', 'potatoes', 'fruit', 'soup',\n",
    "       'fish', 'African', 'Mexican', 'Indian', 'Italian', 'Thai',\n",
    "       'Middle Eastern'], axis=1)\n",
    "y_m =  food_male[['chicken', 'pizza', 'pasta', 'meat', 'vegetables', 'rice', 'mac',\n",
    "       'dairy', 'tacos', 'ice cream', 'chocolate', 'potatoes', 'fruit', 'soup',\n",
    "       'fish', 'African', 'Mexican', 'Indian', 'Italian', 'Thai',\n",
    "       'Middle Eastern']]"
   ]
  },
  {
   "cell_type": "code",
   "execution_count": 207,
   "metadata": {},
   "outputs": [],
   "source": [
    "Xm_train, Xm_test, ym_train, ym_test = train_test_split(X_m, y_m, test_size=0.20)"
   ]
  },
  {
   "cell_type": "code",
   "execution_count": 208,
   "metadata": {},
   "outputs": [],
   "source": [
    "pred_m = rfc.fit(Xm_train, ym_train).predict(Xm_test)"
   ]
  },
  {
   "cell_type": "code",
   "execution_count": 209,
   "metadata": {},
   "outputs": [],
   "source": [
    "pred_m = pd.DataFrame(pred_m, columns=['chicken', 'pizza', 'pasta', 'meat', 'vegetables', 'rice', 'mac',\n",
    "       'dairy', 'tacos', 'ice cream', 'chocolate', 'potatoes', 'fruit', 'soup',\n",
    "       'fish', 'African', 'Mexican', 'Indian', 'Italian', 'Thai',\n",
    "       'Middle Eastern'])"
   ]
  },
  {
   "cell_type": "code",
   "execution_count": 210,
   "metadata": {},
   "outputs": [
    {
     "data": {
      "text/plain": [
       "0.94"
      ]
     },
     "execution_count": 210,
     "metadata": {},
     "output_type": "execute_result"
    }
   ],
   "source": [
    "pred_m['Italian'].mean()"
   ]
  },
  {
   "cell_type": "code",
   "execution_count": 211,
   "metadata": {},
   "outputs": [],
   "source": [
    "pred_mm = pred_m.loc[pred_m['tacos'] == 1]"
   ]
  },
  {
   "cell_type": "code",
   "execution_count": 212,
   "metadata": {},
   "outputs": [
    {
     "data": {
      "text/plain": [
       "1.0"
      ]
     },
     "execution_count": 212,
     "metadata": {},
     "output_type": "execute_result"
    }
   ],
   "source": [
    "pred_mm['chicken'].mean()"
   ]
  },
  {
   "cell_type": "code",
   "execution_count": 213,
   "metadata": {},
   "outputs": [
    {
     "data": {
      "text/plain": [
       "1.0"
      ]
     },
     "execution_count": 213,
     "metadata": {},
     "output_type": "execute_result"
    }
   ],
   "source": [
    "rfc.score(Xm_train, ym_train)"
   ]
  },
  {
   "cell_type": "code",
   "execution_count": 214,
   "metadata": {},
   "outputs": [],
   "source": [
    "#compute train_test_split for students that cook everyday"
   ]
  },
  {
   "cell_type": "code",
   "execution_count": 215,
   "metadata": {
    "scrolled": false
   },
   "outputs": [
    {
     "data": {
      "text/plain": [
       "(array([  16.,  106.,  278.,  392.,  153.,   55.]),\n",
       " array([ 0.        ,  0.83333333,  1.66666667,  2.5       ,  3.33333333,\n",
       "         4.16666667,  5.        ]),\n",
       " <a list of 6 Patch objects>)"
      ]
     },
     "execution_count": 215,
     "metadata": {},
     "output_type": "execute_result"
    },
    {
     "data": {
      "image/png": "[encoded data removed]",
      "text/plain": [
       "<matplotlib.figure.Figure at 0x1ac37943240>"
      ]
     },
     "metadata": {},
     "output_type": "display_data"
    }
   ],
   "source": [
    "plt.hist(food_new['cook'], bins=6)"
   ]
  },
  {
   "cell_type": "code",
   "execution_count": 216,
   "metadata": {},
   "outputs": [
    {
     "data": {
      "text/plain": [
       "(array([ 747.,  253.]), array([ 1. ,  1.5,  2. ]), <a list of 2 Patch objects>)"
      ]
     },
     "execution_count": 216,
     "metadata": {},
     "output_type": "execute_result"
    },
    {
     "data": {
      "image/png": "[encoded data removed]",
      "text/plain": [
       "<matplotlib.figure.Figure at 0x1ac38978240>"
      ]
     },
     "metadata": {},
     "output_type": "display_data"
    }
   ],
   "source": [
    "plt.hist(food_c['Gender'], bins=2)"
   ]
  },
  {
   "cell_type": "code",
   "execution_count": 217,
   "metadata": {},
   "outputs": [],
   "source": [
    "###Train Test Split for all students who cook everyday"
   ]
  },
  {
   "cell_type": "code",
   "execution_count": 218,
   "metadata": {},
   "outputs": [],
   "source": [
    "X_c =  food_c.drop(['chicken', 'pizza', 'pasta', 'meat', 'vegetables', 'rice', 'mac',\n",
    "       'dairy', 'tacos', 'ice cream', 'chocolate', 'potatoes', 'fruit', 'soup',\n",
    "       'fish', 'African', 'Mexican', 'Indian', 'Italian', 'Thai',\n",
    "       'Middle Eastern'], axis=1)\n",
    "y_c = food_c[['chicken', 'pizza', 'pasta', 'meat', 'vegetables', 'rice', 'mac',\n",
    "       'dairy', 'tacos', 'ice cream', 'chocolate', 'potatoes', 'fruit', 'soup',\n",
    "       'fish', 'African', 'Mexican', 'Indian', 'Italian', 'Thai',\n",
    "       'Middle Eastern']]"
   ]
  },
  {
   "cell_type": "code",
   "execution_count": 219,
   "metadata": {},
   "outputs": [],
   "source": [
    "Xc_train, Xc_test, yc_train, yc_test = train_test_split(X_c, y_c, test_size=0.20)"
   ]
  },
  {
   "cell_type": "code",
   "execution_count": 220,
   "metadata": {},
   "outputs": [],
   "source": [
    "pred_c = rfc.fit(Xc_train, yc_train).predict(Xc_test)"
   ]
  },
  {
   "cell_type": "code",
   "execution_count": 221,
   "metadata": {},
   "outputs": [],
   "source": [
    "pred_c = pd.DataFrame(pred_c, columns=['chicken', 'pizza', 'pasta', 'meat', 'vegetables', 'rice', 'mac',\n",
    "       'dairy', 'tacos', 'ice cream', 'chocolate', 'potatoes', 'fruit', 'soup',\n",
    "       'fish', 'African', 'Mexican', 'Indian', 'Italian', 'Thai',\n",
    "       'Middle Eastern'])"
   ]
  },
  {
   "cell_type": "code",
   "execution_count": 222,
   "metadata": {},
   "outputs": [
    {
     "data": {
      "text/plain": [
       "(200, 21)"
      ]
     },
     "execution_count": 222,
     "metadata": {},
     "output_type": "execute_result"
    }
   ],
   "source": [
    "pred_c.shape"
   ]
  },
  {
   "cell_type": "code",
   "execution_count": 223,
   "metadata": {},
   "outputs": [
    {
     "data": {
      "text/plain": [
       "0.0"
      ]
     },
     "execution_count": 223,
     "metadata": {},
     "output_type": "execute_result"
    }
   ],
   "source": [
    "pred_c['African'].mean()"
   ]
  },
  {
   "cell_type": "code",
   "execution_count": 224,
   "metadata": {},
   "outputs": [],
   "source": [
    "chic = pred_c.loc[pred_c['Italian'] == 1]"
   ]
  },
  {
   "cell_type": "code",
   "execution_count": 225,
   "metadata": {},
   "outputs": [
    {
     "data": {
      "text/plain": [
       "(200, 21)"
      ]
     },
     "execution_count": 225,
     "metadata": {},
     "output_type": "execute_result"
    }
   ],
   "source": [
    "chic.shape"
   ]
  },
  {
   "cell_type": "code",
   "execution_count": 226,
   "metadata": {},
   "outputs": [
    {
     "data": {
      "text/plain": [
       "0.735"
      ]
     },
     "execution_count": 226,
     "metadata": {},
     "output_type": "execute_result"
    }
   ],
   "source": [
    "chic['Thai'].mean()"
   ]
  },
  {
   "cell_type": "code",
   "execution_count": null,
   "metadata": {},
   "outputs": [],
   "source": []
  },
  {
   "cell_type": "code",
   "execution_count": 227,
   "metadata": {},
   "outputs": [
    {
     "data": {
      "text/plain": [
       "(array([ 134.,  866.]), array([ 1. ,  1.5,  2. ]), <a list of 2 Patch objects>)"
      ]
     },
     "execution_count": 227,
     "metadata": {},
     "output_type": "execute_result"
    },
    {
     "data": {
      "image/png": "[encoded data removed]",
      "text/plain": [
       "<matplotlib.figure.Figure at 0x1ac3792c940>"
      ]
     },
     "metadata": {},
     "output_type": "display_data"
    }
   ],
   "source": [
    "plt.hist(food_nc['Gender'], bins=2)"
   ]
  },
  {
   "cell_type": "code",
   "execution_count": 228,
   "metadata": {},
   "outputs": [],
   "source": [
    "###Train Test Split for all students who never cook"
   ]
  },
  {
   "cell_type": "code",
   "execution_count": 229,
   "metadata": {},
   "outputs": [],
   "source": [
    "X_c5 =  food_nc.drop(['chicken', 'pizza', 'pasta', 'meat', 'vegetables', 'rice', 'mac',\n",
    "       'dairy', 'tacos', 'ice cream', 'chocolate', 'potatoes', 'fruit', 'soup',\n",
    "       'fish', 'African', 'Mexican', 'Indian', 'Italian', 'Thai',\n",
    "       'Middle Eastern'], axis=1)\n",
    "y_c5 = food_nc[['chicken', 'pizza', 'pasta', 'meat', 'vegetables', 'rice', 'mac',\n",
    "       'dairy', 'tacos', 'ice cream', 'chocolate', 'potatoes', 'fruit', 'soup',\n",
    "       'fish', 'African', 'Mexican', 'Indian', 'Italian', 'Thai',\n",
    "       'Middle Eastern']]"
   ]
  },
  {
   "cell_type": "code",
   "execution_count": 230,
   "metadata": {},
   "outputs": [],
   "source": [
    "X_ctrain, X_ctest, y_ctrain, y_ctest = train_test_split(X_c5, y_c5, test_size=0.20)"
   ]
  },
  {
   "cell_type": "code",
   "execution_count": 231,
   "metadata": {},
   "outputs": [],
   "source": [
    "pred_c5 = rfc.fit(X_ctrain, y_ctrain).predict(X_ctest)"
   ]
  },
  {
   "cell_type": "code",
   "execution_count": 232,
   "metadata": {},
   "outputs": [
    {
     "data": {
      "text/plain": [
       "(200, 21)"
      ]
     },
     "execution_count": 232,
     "metadata": {},
     "output_type": "execute_result"
    }
   ],
   "source": [
    "pred_c5.shape"
   ]
  },
  {
   "cell_type": "code",
   "execution_count": 233,
   "metadata": {},
   "outputs": [],
   "source": [
    "pred_c5 = pd.DataFrame(pred_c5, columns = ['chicken', 'pizza', 'pasta', 'meat', 'vegetables', 'rice', 'mac',\n",
    "       'dairy', 'tacos', 'ice cream', 'chocolate', 'potatoes', 'fruit', 'soup',\n",
    "       'fish', 'African', 'Mexican', 'Indian', 'Italian', 'Thai',\n",
    "       'Middle Eastern'])"
   ]
  },
  {
   "cell_type": "code",
   "execution_count": 234,
   "metadata": {},
   "outputs": [],
   "source": [
    "Ita = pred_c5.loc[pred_c5['Italian'] == 1]"
   ]
  },
  {
   "cell_type": "code",
   "execution_count": 235,
   "metadata": {},
   "outputs": [
    {
     "data": {
      "text/plain": [
       "0.5706214689265536"
      ]
     },
     "execution_count": 235,
     "metadata": {},
     "output_type": "execute_result"
    }
   ],
   "source": [
    "Ita['Thai'].mean()"
   ]
  },
  {
   "cell_type": "code",
   "execution_count": null,
   "metadata": {},
   "outputs": [],
   "source": []
  },
  {
   "cell_type": "code",
   "execution_count": null,
   "metadata": {},
   "outputs": [],
   "source": []
  }
 ],
 "metadata": {
  "kernelspec": {
   "display_name": "Python 3",
   "language": "python",
   "name": "python3"
  },
  "language_info": {
   "codemirror_mode": {
    "name": "ipython",
    "version": 3
   },
   "file_extension": ".py",
   "mimetype": "text/x-python",
   "name": "python",
   "nbconvert_exporter": "python",
   "pygments_lexer": "ipython3",
   "version": "3.6.3"
  }
 },
 "nbformat": 4,
 "nbformat_minor": 2
}
